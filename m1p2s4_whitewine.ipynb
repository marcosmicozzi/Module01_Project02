{
 "cells": [
  {
   "cell_type": "code",
   "execution_count": 2,
   "metadata": {},
   "outputs": [],
   "source": [
    "# importing neccessery libriries\n",
    "# importing neccessery libriries\n",
    "import pandas as pd\n",
    "import numpy as np\n",
    "import matplotlib.pyplot as plt\n",
    "import seaborn as sns\n",
    "\n",
    "from sklearn.linear_model import LogisticRegression\n",
    "from sklearn.tree import DecisionTreeClassifier\n",
    "from sklearn.naive_bayes import GaussianNB\n",
    "from sklearn.ensemble import RandomForestClassifier\n",
    "from sklearn.svm import SVC\n",
    "from sklearn.neighbors import KNeighborsClassifier\n",
    "from sklearn.ensemble import AdaBoostClassifier\n",
    "from sklearn.neural_network import MLPClassifier\n",
    "\n",
    "from sklearn.metrics import classification_report\n",
    "from sklearn.metrics import confusion_matrix\n",
    "from sklearn.metrics import log_loss\n",
    "\n",
    "from matplotlib.colors import LinearSegmentedColormap\n",
    "\n",
    "from sklearn.metrics import accuracy_score\n",
    "from sklearn.metrics import roc_auc_score\n",
    "from sklearn.metrics import cohen_kappa_score"
   ]
  },
  {
   "cell_type": "markdown",
   "metadata": {},
   "source": [
    "# Find out why you are not working good with high wines"
   ]
  },
  {
   "cell_type": "code",
   "execution_count": 3,
   "metadata": {},
   "outputs": [
    {
     "data": {
      "text/html": [
       "<div>\n",
       "<style scoped>\n",
       "    .dataframe tbody tr th:only-of-type {\n",
       "        vertical-align: middle;\n",
       "    }\n",
       "\n",
       "    .dataframe tbody tr th {\n",
       "        vertical-align: top;\n",
       "    }\n",
       "\n",
       "    .dataframe thead th {\n",
       "        text-align: right;\n",
       "    }\n",
       "</style>\n",
       "<table border=\"1\" class=\"dataframe\">\n",
       "  <thead>\n",
       "    <tr style=\"text-align: right;\">\n",
       "      <th></th>\n",
       "      <th>fixed_acidity</th>\n",
       "      <th>volatile_acidity</th>\n",
       "      <th>citric_acid</th>\n",
       "      <th>residual_sugar</th>\n",
       "      <th>chlorides</th>\n",
       "      <th>free_sulfur_dioxide</th>\n",
       "      <th>total_sulfur_dioxide</th>\n",
       "      <th>density</th>\n",
       "      <th>pH</th>\n",
       "      <th>sulphates</th>\n",
       "      <th>alcohol</th>\n",
       "      <th>quality</th>\n",
       "      <th>quality_label</th>\n",
       "      <th>wine_type</th>\n",
       "    </tr>\n",
       "  </thead>\n",
       "  <tbody>\n",
       "    <tr>\n",
       "      <th>0</th>\n",
       "      <td>7.0</td>\n",
       "      <td>0.27</td>\n",
       "      <td>0.36</td>\n",
       "      <td>20.7</td>\n",
       "      <td>0.045</td>\n",
       "      <td>45.0</td>\n",
       "      <td>170.0</td>\n",
       "      <td>1.00100</td>\n",
       "      <td>3.00</td>\n",
       "      <td>0.45</td>\n",
       "      <td>8.8</td>\n",
       "      <td>6</td>\n",
       "      <td>medium</td>\n",
       "      <td>white wine</td>\n",
       "    </tr>\n",
       "    <tr>\n",
       "      <th>1</th>\n",
       "      <td>6.3</td>\n",
       "      <td>0.30</td>\n",
       "      <td>0.34</td>\n",
       "      <td>1.6</td>\n",
       "      <td>0.049</td>\n",
       "      <td>14.0</td>\n",
       "      <td>132.0</td>\n",
       "      <td>0.99400</td>\n",
       "      <td>3.30</td>\n",
       "      <td>0.49</td>\n",
       "      <td>9.5</td>\n",
       "      <td>6</td>\n",
       "      <td>medium</td>\n",
       "      <td>white wine</td>\n",
       "    </tr>\n",
       "    <tr>\n",
       "      <th>2</th>\n",
       "      <td>8.1</td>\n",
       "      <td>0.28</td>\n",
       "      <td>0.40</td>\n",
       "      <td>6.9</td>\n",
       "      <td>0.050</td>\n",
       "      <td>30.0</td>\n",
       "      <td>97.0</td>\n",
       "      <td>0.99510</td>\n",
       "      <td>3.26</td>\n",
       "      <td>0.44</td>\n",
       "      <td>10.1</td>\n",
       "      <td>6</td>\n",
       "      <td>medium</td>\n",
       "      <td>white wine</td>\n",
       "    </tr>\n",
       "    <tr>\n",
       "      <th>3</th>\n",
       "      <td>7.2</td>\n",
       "      <td>0.23</td>\n",
       "      <td>0.32</td>\n",
       "      <td>8.5</td>\n",
       "      <td>0.058</td>\n",
       "      <td>47.0</td>\n",
       "      <td>186.0</td>\n",
       "      <td>0.99560</td>\n",
       "      <td>3.19</td>\n",
       "      <td>0.40</td>\n",
       "      <td>9.9</td>\n",
       "      <td>6</td>\n",
       "      <td>medium</td>\n",
       "      <td>white wine</td>\n",
       "    </tr>\n",
       "    <tr>\n",
       "      <th>4</th>\n",
       "      <td>7.2</td>\n",
       "      <td>0.23</td>\n",
       "      <td>0.32</td>\n",
       "      <td>8.5</td>\n",
       "      <td>0.058</td>\n",
       "      <td>47.0</td>\n",
       "      <td>186.0</td>\n",
       "      <td>0.99560</td>\n",
       "      <td>3.19</td>\n",
       "      <td>0.40</td>\n",
       "      <td>9.9</td>\n",
       "      <td>6</td>\n",
       "      <td>medium</td>\n",
       "      <td>white wine</td>\n",
       "    </tr>\n",
       "    <tr>\n",
       "      <th>...</th>\n",
       "      <td>...</td>\n",
       "      <td>...</td>\n",
       "      <td>...</td>\n",
       "      <td>...</td>\n",
       "      <td>...</td>\n",
       "      <td>...</td>\n",
       "      <td>...</td>\n",
       "      <td>...</td>\n",
       "      <td>...</td>\n",
       "      <td>...</td>\n",
       "      <td>...</td>\n",
       "      <td>...</td>\n",
       "      <td>...</td>\n",
       "      <td>...</td>\n",
       "    </tr>\n",
       "    <tr>\n",
       "      <th>4893</th>\n",
       "      <td>6.2</td>\n",
       "      <td>0.21</td>\n",
       "      <td>0.29</td>\n",
       "      <td>1.6</td>\n",
       "      <td>0.039</td>\n",
       "      <td>24.0</td>\n",
       "      <td>92.0</td>\n",
       "      <td>0.99114</td>\n",
       "      <td>3.27</td>\n",
       "      <td>0.50</td>\n",
       "      <td>11.2</td>\n",
       "      <td>6</td>\n",
       "      <td>medium</td>\n",
       "      <td>white wine</td>\n",
       "    </tr>\n",
       "    <tr>\n",
       "      <th>4894</th>\n",
       "      <td>6.6</td>\n",
       "      <td>0.32</td>\n",
       "      <td>0.36</td>\n",
       "      <td>8.0</td>\n",
       "      <td>0.047</td>\n",
       "      <td>57.0</td>\n",
       "      <td>168.0</td>\n",
       "      <td>0.99490</td>\n",
       "      <td>3.15</td>\n",
       "      <td>0.46</td>\n",
       "      <td>9.6</td>\n",
       "      <td>5</td>\n",
       "      <td>low</td>\n",
       "      <td>white wine</td>\n",
       "    </tr>\n",
       "    <tr>\n",
       "      <th>4895</th>\n",
       "      <td>6.5</td>\n",
       "      <td>0.24</td>\n",
       "      <td>0.19</td>\n",
       "      <td>1.2</td>\n",
       "      <td>0.041</td>\n",
       "      <td>30.0</td>\n",
       "      <td>111.0</td>\n",
       "      <td>0.99254</td>\n",
       "      <td>2.99</td>\n",
       "      <td>0.46</td>\n",
       "      <td>9.4</td>\n",
       "      <td>6</td>\n",
       "      <td>medium</td>\n",
       "      <td>white wine</td>\n",
       "    </tr>\n",
       "    <tr>\n",
       "      <th>4896</th>\n",
       "      <td>5.5</td>\n",
       "      <td>0.29</td>\n",
       "      <td>0.30</td>\n",
       "      <td>1.1</td>\n",
       "      <td>0.022</td>\n",
       "      <td>20.0</td>\n",
       "      <td>110.0</td>\n",
       "      <td>0.98869</td>\n",
       "      <td>3.34</td>\n",
       "      <td>0.38</td>\n",
       "      <td>12.8</td>\n",
       "      <td>7</td>\n",
       "      <td>medium</td>\n",
       "      <td>white wine</td>\n",
       "    </tr>\n",
       "    <tr>\n",
       "      <th>4897</th>\n",
       "      <td>6.0</td>\n",
       "      <td>0.21</td>\n",
       "      <td>0.38</td>\n",
       "      <td>0.8</td>\n",
       "      <td>0.020</td>\n",
       "      <td>22.0</td>\n",
       "      <td>98.0</td>\n",
       "      <td>0.98941</td>\n",
       "      <td>3.26</td>\n",
       "      <td>0.32</td>\n",
       "      <td>11.8</td>\n",
       "      <td>6</td>\n",
       "      <td>medium</td>\n",
       "      <td>white wine</td>\n",
       "    </tr>\n",
       "  </tbody>\n",
       "</table>\n",
       "<p>4898 rows × 14 columns</p>\n",
       "</div>"
      ],
      "text/plain": [
       "      fixed_acidity  volatile_acidity  citric_acid  residual_sugar  chlorides  \\\n",
       "0               7.0              0.27         0.36            20.7      0.045   \n",
       "1               6.3              0.30         0.34             1.6      0.049   \n",
       "2               8.1              0.28         0.40             6.9      0.050   \n",
       "3               7.2              0.23         0.32             8.5      0.058   \n",
       "4               7.2              0.23         0.32             8.5      0.058   \n",
       "...             ...               ...          ...             ...        ...   \n",
       "4893            6.2              0.21         0.29             1.6      0.039   \n",
       "4894            6.6              0.32         0.36             8.0      0.047   \n",
       "4895            6.5              0.24         0.19             1.2      0.041   \n",
       "4896            5.5              0.29         0.30             1.1      0.022   \n",
       "4897            6.0              0.21         0.38             0.8      0.020   \n",
       "\n",
       "      free_sulfur_dioxide  total_sulfur_dioxide  density    pH  sulphates  \\\n",
       "0                    45.0                 170.0  1.00100  3.00       0.45   \n",
       "1                    14.0                 132.0  0.99400  3.30       0.49   \n",
       "2                    30.0                  97.0  0.99510  3.26       0.44   \n",
       "3                    47.0                 186.0  0.99560  3.19       0.40   \n",
       "4                    47.0                 186.0  0.99560  3.19       0.40   \n",
       "...                   ...                   ...      ...   ...        ...   \n",
       "4893                 24.0                  92.0  0.99114  3.27       0.50   \n",
       "4894                 57.0                 168.0  0.99490  3.15       0.46   \n",
       "4895                 30.0                 111.0  0.99254  2.99       0.46   \n",
       "4896                 20.0                 110.0  0.98869  3.34       0.38   \n",
       "4897                 22.0                  98.0  0.98941  3.26       0.32   \n",
       "\n",
       "      alcohol  quality quality_label   wine_type  \n",
       "0         8.8        6        medium  white wine  \n",
       "1         9.5        6        medium  white wine  \n",
       "2        10.1        6        medium  white wine  \n",
       "3         9.9        6        medium  white wine  \n",
       "4         9.9        6        medium  white wine  \n",
       "...       ...      ...           ...         ...  \n",
       "4893     11.2        6        medium  white wine  \n",
       "4894      9.6        5           low  white wine  \n",
       "4895      9.4        6        medium  white wine  \n",
       "4896     12.8        7        medium  white wine  \n",
       "4897     11.8        6        medium  white wine  \n",
       "\n",
       "[4898 rows x 14 columns]"
      ]
     },
     "execution_count": 3,
     "metadata": {},
     "output_type": "execute_result"
    }
   ],
   "source": [
    "df = pd.read_csv('white_wine_ml.csv')\n",
    "df"
   ]
  },
  {
   "cell_type": "code",
   "execution_count": 4,
   "metadata": {},
   "outputs": [
    {
     "data": {
      "text/plain": [
       "Index(['fixed_acidity', 'volatile_acidity', 'citric_acid', 'residual_sugar',\n",
       "       'chlorides', 'free_sulfur_dioxide', 'total_sulfur_dioxide', 'density',\n",
       "       'pH', 'sulphates', 'alcohol', 'quality', 'quality_label', 'wine_type'],\n",
       "      dtype='object')"
      ]
     },
     "execution_count": 4,
     "metadata": {},
     "output_type": "execute_result"
    }
   ],
   "source": [
    "df.columns"
   ]
  },
  {
   "cell_type": "code",
   "execution_count": 5,
   "metadata": {},
   "outputs": [
    {
     "data": {
      "text/plain": [
       "fixed_acidity           0\n",
       "volatile_acidity        0\n",
       "citric_acid             0\n",
       "residual_sugar          0\n",
       "chlorides               0\n",
       "free_sulfur_dioxide     0\n",
       "total_sulfur_dioxide    0\n",
       "density                 0\n",
       "pH                      0\n",
       "sulphates               0\n",
       "alcohol                 0\n",
       "quality                 0\n",
       "quality_label           0\n",
       "wine_type               0\n",
       "dtype: int64"
      ]
     },
     "execution_count": 5,
     "metadata": {},
     "output_type": "execute_result"
    }
   ],
   "source": [
    "df.isnull().sum()"
   ]
  },
  {
   "cell_type": "code",
   "execution_count": 6,
   "metadata": {},
   "outputs": [
    {
     "name": "stdout",
     "output_type": "stream",
     "text": [
      "<class 'pandas.core.frame.DataFrame'>\n",
      "RangeIndex: 4898 entries, 0 to 4897\n",
      "Data columns (total 14 columns):\n",
      " #   Column                Non-Null Count  Dtype  \n",
      "---  ------                --------------  -----  \n",
      " 0   fixed_acidity         4898 non-null   float64\n",
      " 1   volatile_acidity      4898 non-null   float64\n",
      " 2   citric_acid           4898 non-null   float64\n",
      " 3   residual_sugar        4898 non-null   float64\n",
      " 4   chlorides             4898 non-null   float64\n",
      " 5   free_sulfur_dioxide   4898 non-null   float64\n",
      " 6   total_sulfur_dioxide  4898 non-null   float64\n",
      " 7   density               4898 non-null   float64\n",
      " 8   pH                    4898 non-null   float64\n",
      " 9   sulphates             4898 non-null   float64\n",
      " 10  alcohol               4898 non-null   float64\n",
      " 11  quality               4898 non-null   int64  \n",
      " 12  quality_label         4898 non-null   object \n",
      " 13  wine_type             4898 non-null   object \n",
      "dtypes: float64(11), int64(1), object(2)\n",
      "memory usage: 535.8+ KB\n"
     ]
    }
   ],
   "source": [
    "df.info()"
   ]
  },
  {
   "cell_type": "code",
   "execution_count": 7,
   "metadata": {},
   "outputs": [
    {
     "data": {
      "text/plain": [
       "np.int64(937)"
      ]
     },
     "execution_count": 7,
     "metadata": {},
     "output_type": "execute_result"
    }
   ],
   "source": [
    "df.duplicated().sum()"
   ]
  },
  {
   "cell_type": "code",
   "execution_count": 8,
   "metadata": {},
   "outputs": [
    {
     "data": {
      "text/html": [
       "<div>\n",
       "<style scoped>\n",
       "    .dataframe tbody tr th:only-of-type {\n",
       "        vertical-align: middle;\n",
       "    }\n",
       "\n",
       "    .dataframe tbody tr th {\n",
       "        vertical-align: top;\n",
       "    }\n",
       "\n",
       "    .dataframe thead th {\n",
       "        text-align: right;\n",
       "    }\n",
       "</style>\n",
       "<table border=\"1\" class=\"dataframe\">\n",
       "  <thead>\n",
       "    <tr style=\"text-align: right;\">\n",
       "      <th></th>\n",
       "      <th>quality_label</th>\n",
       "      <th>wine_type</th>\n",
       "    </tr>\n",
       "  </thead>\n",
       "  <tbody>\n",
       "    <tr>\n",
       "      <th>0</th>\n",
       "      <td>medium</td>\n",
       "      <td>white wine</td>\n",
       "    </tr>\n",
       "    <tr>\n",
       "      <th>1</th>\n",
       "      <td>medium</td>\n",
       "      <td>white wine</td>\n",
       "    </tr>\n",
       "    <tr>\n",
       "      <th>2</th>\n",
       "      <td>medium</td>\n",
       "      <td>white wine</td>\n",
       "    </tr>\n",
       "    <tr>\n",
       "      <th>3</th>\n",
       "      <td>medium</td>\n",
       "      <td>white wine</td>\n",
       "    </tr>\n",
       "    <tr>\n",
       "      <th>4</th>\n",
       "      <td>medium</td>\n",
       "      <td>white wine</td>\n",
       "    </tr>\n",
       "    <tr>\n",
       "      <th>5</th>\n",
       "      <td>medium</td>\n",
       "      <td>white wine</td>\n",
       "    </tr>\n",
       "    <tr>\n",
       "      <th>6</th>\n",
       "      <td>medium</td>\n",
       "      <td>white wine</td>\n",
       "    </tr>\n",
       "    <tr>\n",
       "      <th>7</th>\n",
       "      <td>medium</td>\n",
       "      <td>white wine</td>\n",
       "    </tr>\n",
       "    <tr>\n",
       "      <th>8</th>\n",
       "      <td>medium</td>\n",
       "      <td>white wine</td>\n",
       "    </tr>\n",
       "    <tr>\n",
       "      <th>9</th>\n",
       "      <td>medium</td>\n",
       "      <td>white wine</td>\n",
       "    </tr>\n",
       "    <tr>\n",
       "      <th>10</th>\n",
       "      <td>low</td>\n",
       "      <td>white wine</td>\n",
       "    </tr>\n",
       "    <tr>\n",
       "      <th>11</th>\n",
       "      <td>low</td>\n",
       "      <td>white wine</td>\n",
       "    </tr>\n",
       "    <tr>\n",
       "      <th>12</th>\n",
       "      <td>low</td>\n",
       "      <td>white wine</td>\n",
       "    </tr>\n",
       "    <tr>\n",
       "      <th>13</th>\n",
       "      <td>medium</td>\n",
       "      <td>white wine</td>\n",
       "    </tr>\n",
       "    <tr>\n",
       "      <th>14</th>\n",
       "      <td>low</td>\n",
       "      <td>white wine</td>\n",
       "    </tr>\n",
       "    <tr>\n",
       "      <th>15</th>\n",
       "      <td>medium</td>\n",
       "      <td>white wine</td>\n",
       "    </tr>\n",
       "    <tr>\n",
       "      <th>16</th>\n",
       "      <td>medium</td>\n",
       "      <td>white wine</td>\n",
       "    </tr>\n",
       "    <tr>\n",
       "      <th>17</th>\n",
       "      <td>high</td>\n",
       "      <td>white wine</td>\n",
       "    </tr>\n",
       "    <tr>\n",
       "      <th>18</th>\n",
       "      <td>medium</td>\n",
       "      <td>white wine</td>\n",
       "    </tr>\n",
       "    <tr>\n",
       "      <th>19</th>\n",
       "      <td>low</td>\n",
       "      <td>white wine</td>\n",
       "    </tr>\n",
       "  </tbody>\n",
       "</table>\n",
       "</div>"
      ],
      "text/plain": [
       "   quality_label   wine_type\n",
       "0         medium  white wine\n",
       "1         medium  white wine\n",
       "2         medium  white wine\n",
       "3         medium  white wine\n",
       "4         medium  white wine\n",
       "5         medium  white wine\n",
       "6         medium  white wine\n",
       "7         medium  white wine\n",
       "8         medium  white wine\n",
       "9         medium  white wine\n",
       "10           low  white wine\n",
       "11           low  white wine\n",
       "12           low  white wine\n",
       "13        medium  white wine\n",
       "14           low  white wine\n",
       "15        medium  white wine\n",
       "16        medium  white wine\n",
       "17          high  white wine\n",
       "18        medium  white wine\n",
       "19           low  white wine"
      ]
     },
     "execution_count": 8,
     "metadata": {},
     "output_type": "execute_result"
    }
   ],
   "source": [
    "string_col = df.select_dtypes(include=\"object\").columns\n",
    "df[string_col].head(20)"
   ]
  },
  {
   "cell_type": "markdown",
   "metadata": {},
   "source": [
    "# Machine starts"
   ]
  },
  {
   "cell_type": "code",
   "execution_count": 9,
   "metadata": {},
   "outputs": [],
   "source": [
    "dfm = df.copy()"
   ]
  },
  {
   "cell_type": "markdown",
   "metadata": {},
   "source": [
    "# No Otuliers"
   ]
  },
  {
   "cell_type": "code",
   "execution_count": 10,
   "metadata": {},
   "outputs": [
    {
     "name": "stdout",
     "output_type": "stream",
     "text": [
      "6.3\n",
      "7.3\n",
      "1.0\n",
      "4.8\n",
      "8.8\n",
      "----------\n",
      "0.036\n",
      "0.05\n",
      "0.014000000000000005\n",
      "0.014999999999999989\n",
      "0.07100000000000001\n",
      "----------\n",
      "0.41\n",
      "0.55\n",
      "0.14000000000000007\n",
      "0.19999999999999987\n",
      "0.7600000000000001\n"
     ]
    }
   ],
   "source": [
    "# q1 = dfm.fixed_acidity.quantile([0.25])\n",
    "# q3 = dfm.fixed_acidity.quantile([0.75])\n",
    "# print(q1)\n",
    "# print(q3)\n",
    "\n",
    "q1fa = np.percentile(dfm.fixed_acidity, 25)\n",
    "q3fa = np.percentile(dfm.fixed_acidity, 75)\n",
    "print(q1fa)\n",
    "print(q3fa)\n",
    "iqrfa = q3fa - q1fa\n",
    "print(iqrfa)\n",
    "lower_treshold_fa = q1fa - (1.5*iqrfa)\n",
    "print(lower_treshold_fa)\n",
    "higher_treshold_fa = q3fa + (1.5*iqrfa)\n",
    "print(higher_treshold_fa)\n",
    "print('----------')\n",
    "# q1 = dfm.fixed_acidity.quantile([0.25])\n",
    "# q3 = dfm.fixed_acidity.quantile([0.75])\n",
    "# print(q1)\n",
    "# print(q3)\n",
    "\n",
    "q1cl = np.percentile(dfm.chlorides, 25)\n",
    "q3cl = np.percentile(dfm.chlorides, 75)\n",
    "print(q1cl)\n",
    "print(q3cl)\n",
    "iqrcl = q3cl - q1cl\n",
    "print(iqrcl)\n",
    "lower_treshold_cl = q1cl - (1.5*iqrcl)\n",
    "print(lower_treshold_cl)\n",
    "higher_treshold_cl = q3cl + (1.5*iqrcl)\n",
    "print(higher_treshold_cl)\n",
    "print('----------')\n",
    "# q1 = dfm.fixed_acidity.quantile([0.25])\n",
    "# q3 = dfm.fixed_acidity.quantile([0.75])\n",
    "# print(q1)\n",
    "# print(q3)\n",
    "\n",
    "q1su = np.percentile(dfm.sulphates, 25)\n",
    "q3su = np.percentile(dfm.sulphates, 75)\n",
    "print(q1su)\n",
    "print(q3su)\n",
    "iqrsu = q3su - q1su\n",
    "print(iqrsu)\n",
    "lower_treshold_su = q1su - (1.5*iqrsu)\n",
    "print(lower_treshold_su)\n",
    "higher_treshold_su = q3su + (1.5*iqrsu)\n",
    "print(higher_treshold_su)\n"
   ]
  },
  {
   "cell_type": "code",
   "execution_count": 11,
   "metadata": {},
   "outputs": [
    {
     "name": "stdout",
     "output_type": "stream",
     "text": [
      "<class 'pandas.core.frame.DataFrame'>\n",
      "RangeIndex: 4898 entries, 0 to 4897\n",
      "Data columns (total 14 columns):\n",
      " #   Column                Non-Null Count  Dtype  \n",
      "---  ------                --------------  -----  \n",
      " 0   fixed_acidity         4898 non-null   float64\n",
      " 1   volatile_acidity      4898 non-null   float64\n",
      " 2   citric_acid           4898 non-null   float64\n",
      " 3   residual_sugar        4898 non-null   float64\n",
      " 4   chlorides             4898 non-null   float64\n",
      " 5   free_sulfur_dioxide   4898 non-null   float64\n",
      " 6   total_sulfur_dioxide  4898 non-null   float64\n",
      " 7   density               4898 non-null   float64\n",
      " 8   pH                    4898 non-null   float64\n",
      " 9   sulphates             4898 non-null   float64\n",
      " 10  alcohol               4898 non-null   float64\n",
      " 11  quality               4898 non-null   int64  \n",
      " 12  quality_label         4898 non-null   object \n",
      " 13  wine_type             4898 non-null   object \n",
      "dtypes: float64(11), int64(1), object(2)\n",
      "memory usage: 535.8+ KB\n",
      "---\n",
      "<class 'pandas.core.frame.DataFrame'>\n",
      "Index: 4774 entries, 0 to 4897\n",
      "Data columns (total 14 columns):\n",
      " #   Column                Non-Null Count  Dtype  \n",
      "---  ------                --------------  -----  \n",
      " 0   fixed_acidity         4774 non-null   float64\n",
      " 1   volatile_acidity      4774 non-null   float64\n",
      " 2   citric_acid           4774 non-null   float64\n",
      " 3   residual_sugar        4774 non-null   float64\n",
      " 4   chlorides             4774 non-null   float64\n",
      " 5   free_sulfur_dioxide   4774 non-null   float64\n",
      " 6   total_sulfur_dioxide  4774 non-null   float64\n",
      " 7   density               4774 non-null   float64\n",
      " 8   pH                    4774 non-null   float64\n",
      " 9   sulphates             4774 non-null   float64\n",
      " 10  alcohol               4774 non-null   float64\n",
      " 11  quality               4774 non-null   int64  \n",
      " 12  quality_label         4774 non-null   object \n",
      " 13  wine_type             4774 non-null   object \n",
      "dtypes: float64(11), int64(1), object(2)\n",
      "memory usage: 559.5+ KB\n"
     ]
    }
   ],
   "source": [
    "# dfm_clean = dfm[\n",
    "#     (dfm['fixed_acidity'] >= lower_treshold_fa) & (dfm['fixed_acidity'] <= higher_treshold_fa) &\n",
    "#     (df['chlorides'] >= lower_treshold_cl) & (df['chlorides'] <= higher_treshold_cl) &\n",
    "#     (df['sulphates'] >= lower_treshold_su) & (df['sulphates'] <= higher_treshold_su)\n",
    "# ]\n",
    "# dfm_clean.head()\n",
    "\n",
    "dfm_clean = dfm[\n",
    "    (dfm['fixed_acidity'] >= lower_treshold_fa) & (dfm['fixed_acidity'] <= higher_treshold_fa)\n",
    "]\n",
    "dfm_clean = dfm[\n",
    "    (df['chlorides'] >= lower_treshold_cl) & (df['chlorides'] <= higher_treshold_cl)\n",
    "]\n",
    "dfm_clean = dfm[\n",
    "    (df['sulphates'] >= lower_treshold_su) & (df['sulphates'] <= higher_treshold_su)\n",
    "]\n",
    "\n",
    "dfm_clean.head(20)\n",
    "dfm.info()\n",
    "print('---')\n",
    "dfm_clean.info()"
   ]
  },
  {
   "cell_type": "markdown",
   "metadata": {},
   "source": [
    "# Machine"
   ]
  },
  {
   "cell_type": "code",
   "execution_count": 12,
   "metadata": {},
   "outputs": [
    {
     "name": "stderr",
     "output_type": "stream",
     "text": [
      "/var/folders/pm/7vn7thz14p556cr_ql9w5xbw0000gn/T/ipykernel_41030/4137651370.py:1: FutureWarning: A value is trying to be set on a copy of a DataFrame or Series through chained assignment using an inplace method.\n",
      "The behavior will change in pandas 3.0. This inplace method will never work because the intermediate object on which we are setting values always behaves as a copy.\n",
      "\n",
      "For example, when doing 'df[col].method(value, inplace=True)', try using 'df.method({col: value}, inplace=True)' or df[col] = df[col].method(value) instead, to perform the operation inplace on the original object.\n",
      "\n",
      "\n",
      "  dfm_clean['quality_label'].replace({'low':0, 'medium':1, 'high':2}, inplace=True)\n",
      "/var/folders/pm/7vn7thz14p556cr_ql9w5xbw0000gn/T/ipykernel_41030/4137651370.py:1: FutureWarning: Downcasting behavior in `replace` is deprecated and will be removed in a future version. To retain the old behavior, explicitly call `result.infer_objects(copy=False)`. To opt-in to the future behavior, set `pd.set_option('future.no_silent_downcasting', True)`\n",
      "  dfm_clean['quality_label'].replace({'low':0, 'medium':1, 'high':2}, inplace=True)\n",
      "/var/folders/pm/7vn7thz14p556cr_ql9w5xbw0000gn/T/ipykernel_41030/4137651370.py:1: SettingWithCopyWarning: \n",
      "A value is trying to be set on a copy of a slice from a DataFrame\n",
      "\n",
      "See the caveats in the documentation: https://pandas.pydata.org/pandas-docs/stable/user_guide/indexing.html#returning-a-view-versus-a-copy\n",
      "  dfm_clean['quality_label'].replace({'low':0, 'medium':1, 'high':2}, inplace=True)\n",
      "/var/folders/pm/7vn7thz14p556cr_ql9w5xbw0000gn/T/ipykernel_41030/4137651370.py:4: FutureWarning: A value is trying to be set on a copy of a DataFrame or Series through chained assignment using an inplace method.\n",
      "The behavior will change in pandas 3.0. This inplace method will never work because the intermediate object on which we are setting values always behaves as a copy.\n",
      "\n",
      "For example, when doing 'df[col].method(value, inplace=True)', try using 'df.method({col: value}, inplace=True)' or df[col] = df[col].method(value) instead, to perform the operation inplace on the original object.\n",
      "\n",
      "\n",
      "  dfm_clean['wine_type'].replace({'white wine':1, 'red wine':0}, inplace=True)\n",
      "/var/folders/pm/7vn7thz14p556cr_ql9w5xbw0000gn/T/ipykernel_41030/4137651370.py:4: FutureWarning: Downcasting behavior in `replace` is deprecated and will be removed in a future version. To retain the old behavior, explicitly call `result.infer_objects(copy=False)`. To opt-in to the future behavior, set `pd.set_option('future.no_silent_downcasting', True)`\n",
      "  dfm_clean['wine_type'].replace({'white wine':1, 'red wine':0}, inplace=True)\n",
      "/var/folders/pm/7vn7thz14p556cr_ql9w5xbw0000gn/T/ipykernel_41030/4137651370.py:4: SettingWithCopyWarning: \n",
      "A value is trying to be set on a copy of a slice from a DataFrame\n",
      "\n",
      "See the caveats in the documentation: https://pandas.pydata.org/pandas-docs/stable/user_guide/indexing.html#returning-a-view-versus-a-copy\n",
      "  dfm_clean['wine_type'].replace({'white wine':1, 'red wine':0}, inplace=True)\n"
     ]
    }
   ],
   "source": [
    "dfm_clean['quality_label'].replace({'low':0, 'medium':1, 'high':2}, inplace=True)\n",
    "# I actually should drop wine type as we do not need it. \n",
    "# dfm.drop('quality_label', axis=1)\n",
    "dfm_clean['wine_type'].replace({'white wine':1, 'red wine':0}, inplace=True)"
   ]
  },
  {
   "cell_type": "code",
   "execution_count": 13,
   "metadata": {},
   "outputs": [],
   "source": [
    "from sklearn.model_selection import train_test_split, GridSearchCV\n",
    "\n",
    "# split data into X and Y\n",
    "X = dfm_clean.drop(['quality_label', 'quality', 'density', 'chlorides', 'wine_type', 'free_sulfur_dioxide', 'pH', 'sulphates', 'free_sulfur_dioxide'], axis=1)\n",
    "y = dfm_clean['quality_label']\n",
    "\n",
    "# split data\n",
    "# x_train, x_test, y_train, y_test = train_test_split(X, y, test_size=0.20, random_state=42)\n",
    "x_train, x_test, y_train, y_test = train_test_split(X, y, test_size=0.20, random_state=12)"
   ]
  },
  {
   "cell_type": "code",
   "execution_count": 14,
   "metadata": {},
   "outputs": [
    {
     "data": {
      "text/plain": [
       "(955,)"
      ]
     },
     "execution_count": 14,
     "metadata": {},
     "output_type": "execute_result"
    }
   ],
   "source": [
    "y_test.shape"
   ]
  },
  {
   "cell_type": "code",
   "execution_count": 15,
   "metadata": {},
   "outputs": [
    {
     "data": {
      "text/plain": [
       "(955, 6)"
      ]
     },
     "execution_count": 15,
     "metadata": {},
     "output_type": "execute_result"
    }
   ],
   "source": [
    "x_test.shape"
   ]
  },
  {
   "cell_type": "markdown",
   "metadata": {},
   "source": [
    "# Build Models"
   ]
  },
  {
   "cell_type": "markdown",
   "metadata": {},
   "source": [
    "# Logistic Regression"
   ]
  },
  {
   "cell_type": "code",
   "execution_count": 16,
   "metadata": {},
   "outputs": [
    {
     "name": "stdout",
     "output_type": "stream",
     "text": [
      "0.6607329842931937\n"
     ]
    },
    {
     "name": "stderr",
     "output_type": "stream",
     "text": [
      "/opt/anaconda3/envs/MarcosPython10/lib/python3.10/site-packages/sklearn/linear_model/_logistic.py:473: ConvergenceWarning: lbfgs failed to converge after 100 iteration(s) (status=1):\n",
      "STOP: TOTAL NO. OF ITERATIONS REACHED LIMIT\n",
      "\n",
      "Increase the number of iterations to improve the convergence (max_iter=100).\n",
      "You might also want to scale the data as shown in:\n",
      "    https://scikit-learn.org/stable/modules/preprocessing.html\n",
      "Please also refer to the documentation for alternative solver options:\n",
      "    https://scikit-learn.org/stable/modules/linear_model.html#logistic-regression\n",
      "  n_iter_i = _check_optimize_result(\n"
     ]
    }
   ],
   "source": [
    "from sklearn.linear_model import LogisticRegression\n",
    "\n",
    "# LogisticRegression model\n",
    "LR_model = LogisticRegression(random_state=42, max_iter=100)\n",
    "# fit model\n",
    "LR_model.fit(x_train, y_train)\n",
    "# predictions\n",
    "preds = LR_model.predict(x_test)\n",
    "from sklearn.metrics import mean_squared_error, accuracy_score # rmse root mean square error\n",
    "\n",
    "acc_LR = accuracy_score(y_test, preds)\n",
    "print(acc_LR)"
   ]
  },
  {
   "cell_type": "markdown",
   "metadata": {},
   "source": [
    "# Decision Tree Classifier"
   ]
  },
  {
   "cell_type": "code",
   "execution_count": 17,
   "metadata": {},
   "outputs": [
    {
     "name": "stdout",
     "output_type": "stream",
     "text": [
      "0.7130890052356021\n"
     ]
    }
   ],
   "source": [
    "from sklearn.tree import DecisionTreeClassifier\n",
    "\n",
    "DTC_model = DecisionTreeClassifier(random_state=42)\n",
    "\n",
    "# fit model\n",
    "DTC_model.fit(x_train, y_train)\n",
    "\n",
    "# predictions\n",
    "preds = DTC_model.predict(x_test)\n",
    "\n",
    "from sklearn.metrics import mean_squared_error, accuracy_score # rmse root mean square error\n",
    "\n",
    "acc_DTC = accuracy_score(y_test, preds)\n",
    "print(acc_DTC)"
   ]
  },
  {
   "cell_type": "markdown",
   "metadata": {},
   "source": [
    "# Gaussian NB"
   ]
  },
  {
   "cell_type": "code",
   "execution_count": 18,
   "metadata": {},
   "outputs": [
    {
     "name": "stdout",
     "output_type": "stream",
     "text": [
      "0.6890052356020943\n"
     ]
    }
   ],
   "source": [
    "\n",
    "from sklearn.naive_bayes import GaussianNB\n",
    "\n",
    "GNB_model = GaussianNB()\n",
    "\n",
    "# fit model\n",
    "GNB_model.fit(x_train, y_train)\n",
    "\n",
    "# predictions\n",
    "preds = GNB_model.predict(x_test)\n",
    "\n",
    "from sklearn.metrics import mean_squared_error, accuracy_score # rmse root mean square error\n",
    "\n",
    "acc_GNB = accuracy_score(y_test, preds)\n",
    "print(acc_GNB)"
   ]
  },
  {
   "cell_type": "markdown",
   "metadata": {},
   "source": [
    "# Random Forest"
   ]
  },
  {
   "cell_type": "code",
   "execution_count": 19,
   "metadata": {},
   "outputs": [
    {
     "name": "stdout",
     "output_type": "stream",
     "text": [
      "0.8083769633507853\n"
     ]
    }
   ],
   "source": [
    "from sklearn.ensemble import RandomForestClassifier\n",
    "# Random Forest Classifier model\n",
    "RF_clf = RandomForestClassifier(n_estimators = 100, criterion = 'entropy', random_state=101)\n",
    "# fit model\n",
    "RF_clf.fit(x_train, y_train)\n",
    "# predictions\n",
    "preds = RF_clf.predict(x_test)\n",
    "# accuracy\n",
    "acc_RF = accuracy_score(y_test, preds)\n",
    "print(acc_RF)"
   ]
  },
  {
   "cell_type": "markdown",
   "metadata": {},
   "source": [
    "# SVC Model"
   ]
  },
  {
   "cell_type": "code",
   "execution_count": 20,
   "metadata": {},
   "outputs": [
    {
     "name": "stdout",
     "output_type": "stream",
     "text": [
      "0.6282722513089005\n"
     ]
    }
   ],
   "source": [
    "from sklearn.svm import SVC\n",
    "\n",
    "SVC_model = SVC(random_state=42)\n",
    "\n",
    "# fit model\n",
    "SVC_model.fit(x_train, y_train)\n",
    "\n",
    "# predictions\n",
    "preds = SVC_model.predict(x_test)\n",
    "\n",
    "from sklearn.metrics import mean_squared_error, accuracy_score # rmse root mean square error\n",
    "\n",
    "acc_SVC = accuracy_score(y_test, preds)\n",
    "print(acc_SVC)"
   ]
  },
  {
   "cell_type": "markdown",
   "metadata": {},
   "source": [
    "# K Neighbours Classifier"
   ]
  },
  {
   "cell_type": "code",
   "execution_count": 21,
   "metadata": {},
   "outputs": [
    {
     "name": "stdout",
     "output_type": "stream",
     "text": [
      "0.6795811518324607\n"
     ]
    }
   ],
   "source": [
    "from sklearn.neighbors import KNeighborsClassifier\n",
    "\n",
    "KNC_model = KNeighborsClassifier(n_neighbors=5)\n",
    "\n",
    "# fit model\n",
    "KNC_model.fit(x_train, y_train)\n",
    "\n",
    "# predictions\n",
    "preds = KNC_model.predict(x_test)\n",
    "\n",
    "from sklearn.metrics import mean_squared_error, accuracy_score # rmse root mean square error\n",
    "\n",
    "acc_KNC = accuracy_score(y_test, preds)\n",
    "print(acc_KNC)\n"
   ]
  },
  {
   "cell_type": "markdown",
   "metadata": {},
   "source": [
    "# ADA Boost Classifier"
   ]
  },
  {
   "cell_type": "code",
   "execution_count": 22,
   "metadata": {},
   "outputs": [
    {
     "name": "stdout",
     "output_type": "stream",
     "text": [
      "0.7151832460732984\n"
     ]
    }
   ],
   "source": [
    "from sklearn.ensemble import AdaBoostClassifier\n",
    "\n",
    "ABC_model = AdaBoostClassifier(n_estimators=50)\n",
    "\n",
    "# fit model\n",
    "ABC_model.fit(x_train, y_train)\n",
    "\n",
    "# predictions\n",
    "preds = ABC_model.predict(x_test)\n",
    "\n",
    "from sklearn.metrics import mean_squared_error, accuracy_score # rmse root mean square error\n",
    "\n",
    "acc_ABC = accuracy_score(y_test, preds)\n",
    "print(acc_ABC)\n"
   ]
  },
  {
   "cell_type": "markdown",
   "metadata": {},
   "source": [
    "# MLPClassifier (Neural Network)\n"
   ]
  },
  {
   "cell_type": "code",
   "execution_count": 23,
   "metadata": {},
   "outputs": [
    {
     "name": "stdout",
     "output_type": "stream",
     "text": [
      "0.6900523560209424\n"
     ]
    }
   ],
   "source": [
    "from sklearn.neural_network import MLPClassifier\n",
    "\n",
    "MLPC_model = MLPClassifier(hidden_layer_sizes=(100,), max_iter=300)\n",
    "\n",
    "# fit model\n",
    "MLPC_model.fit(x_train, y_train)\n",
    "\n",
    "# predictions\n",
    "preds = MLPC_model.predict(x_test)\n",
    "\n",
    "from sklearn.metrics import mean_squared_error, accuracy_score # rmse root mean square error\n",
    "\n",
    "acc_MLPC = accuracy_score(y_test, preds)\n",
    "print(acc_MLPC)"
   ]
  },
  {
   "cell_type": "markdown",
   "metadata": {},
   "source": [
    "# Testing For Loop"
   ]
  },
  {
   "cell_type": "code",
   "execution_count": 24,
   "metadata": {},
   "outputs": [
    {
     "name": "stdout",
     "output_type": "stream",
     "text": [
      "Training LR...\n",
      "Accuracy for LR: 0.6607\n",
      "Cohen's Kappa for LR: 0.2136\n",
      "              precision    recall  f1-score   support\n",
      "\n",
      "         low       0.57      0.34      0.42       317\n",
      "      medium       0.68      0.88      0.77       598\n",
      "        high       0.00      0.00      0.00        40\n",
      "\n",
      "    accuracy                           0.66       955\n",
      "   macro avg       0.42      0.40      0.40       955\n",
      "weighted avg       0.62      0.66      0.62       955\n",
      "\n",
      "-------\n",
      "ROC AUC for LR: 0.7068\n",
      "Log Loss for LR: 0.7030\n",
      "=====================\n"
     ]
    },
    {
     "name": "stderr",
     "output_type": "stream",
     "text": [
      "/opt/anaconda3/envs/MarcosPython10/lib/python3.10/site-packages/sklearn/linear_model/_logistic.py:473: ConvergenceWarning: lbfgs failed to converge after 100 iteration(s) (status=1):\n",
      "STOP: TOTAL NO. OF ITERATIONS REACHED LIMIT\n",
      "\n",
      "Increase the number of iterations to improve the convergence (max_iter=100).\n",
      "You might also want to scale the data as shown in:\n",
      "    https://scikit-learn.org/stable/modules/preprocessing.html\n",
      "Please also refer to the documentation for alternative solver options:\n",
      "    https://scikit-learn.org/stable/modules/linear_model.html#logistic-regression\n",
      "  n_iter_i = _check_optimize_result(\n",
      "/opt/anaconda3/envs/MarcosPython10/lib/python3.10/site-packages/sklearn/metrics/_classification.py:1731: UndefinedMetricWarning: Precision is ill-defined and being set to 0.0 in labels with no predicted samples. Use `zero_division` parameter to control this behavior.\n",
      "  _warn_prf(average, modifier, f\"{metric.capitalize()} is\", result.shape[0])\n",
      "/opt/anaconda3/envs/MarcosPython10/lib/python3.10/site-packages/sklearn/metrics/_classification.py:1731: UndefinedMetricWarning: Precision is ill-defined and being set to 0.0 in labels with no predicted samples. Use `zero_division` parameter to control this behavior.\n",
      "  _warn_prf(average, modifier, f\"{metric.capitalize()} is\", result.shape[0])\n",
      "/opt/anaconda3/envs/MarcosPython10/lib/python3.10/site-packages/sklearn/metrics/_classification.py:1731: UndefinedMetricWarning: Precision is ill-defined and being set to 0.0 in labels with no predicted samples. Use `zero_division` parameter to control this behavior.\n",
      "  _warn_prf(average, modifier, f\"{metric.capitalize()} is\", result.shape[0])\n"
     ]
    },
    {
     "data": {
      "image/png": "[encoded data removed]",
      "text/plain": [
       "<Figure size 400x300 with 1 Axes>"
      ]
     },
     "metadata": {},
     "output_type": "display_data"
    },
    {
     "name": "stdout",
     "output_type": "stream",
     "text": [
      "=====================\n",
      "Training DTC...\n",
      "Accuracy for DTC: 0.7131\n",
      "Cohen's Kappa for DTC: 0.4233\n",
      "              precision    recall  f1-score   support\n",
      "\n",
      "         low       0.62      0.61      0.61       317\n",
      "      medium       0.78      0.77      0.77       598\n",
      "        high       0.55      0.60      0.57        40\n",
      "\n",
      "    accuracy                           0.71       955\n",
      "   macro avg       0.65      0.66      0.65       955\n",
      "weighted avg       0.71      0.71      0.71       955\n",
      "\n",
      "-------\n",
      "ROC AUC for DTC: 0.7335\n",
      "Log Loss for DTC: 10.3413\n",
      "=====================\n"
     ]
    },
    {
     "data": {
      "image/png": "[encoded data removed]",
      "text/plain": [
       "<Figure size 400x300 with 1 Axes>"
      ]
     },
     "metadata": {},
     "output_type": "display_data"
    },
    {
     "name": "stdout",
     "output_type": "stream",
     "text": [
      "=====================\n",
      "Training GNB...\n",
      "Accuracy for GNB: 0.6890\n",
      "Cohen's Kappa for GNB: 0.3330\n",
      "              precision    recall  f1-score   support\n",
      "\n",
      "         low       0.60      0.56      0.58       317\n",
      "      medium       0.73      0.80      0.76       598\n",
      "        high       0.50      0.03      0.05        40\n",
      "\n",
      "    accuracy                           0.69       955\n",
      "   macro avg       0.61      0.46      0.46       955\n",
      "weighted avg       0.68      0.69      0.67       955\n",
      "\n",
      "-------\n",
      "ROC AUC for GNB: 0.7546\n",
      "Log Loss for GNB: 0.6981\n",
      "=====================\n"
     ]
    },
    {
     "data": {
      "image/png": "[encoded data removed]",
      "text/plain": [
       "<Figure size 400x300 with 1 Axes>"
      ]
     },
     "metadata": {},
     "output_type": "display_data"
    },
    {
     "name": "stdout",
     "output_type": "stream",
     "text": [
      "=====================\n",
      "Training RF...\n",
      "Accuracy for RF: 0.8000\n",
      "Cohen's Kappa for RF: 0.5788\n",
      "              precision    recall  f1-score   support\n",
      "\n",
      "         low       0.75      0.69      0.72       317\n",
      "      medium       0.82      0.88      0.85       598\n",
      "        high       1.00      0.47      0.64        40\n",
      "\n",
      "    accuracy                           0.80       955\n",
      "   macro avg       0.86      0.68      0.74       955\n",
      "weighted avg       0.80      0.80      0.80       955\n",
      "\n",
      "-------\n",
      "ROC AUC for RF: 0.8893\n",
      "Log Loss for RF: 0.5067\n",
      "=====================\n"
     ]
    },
    {
     "data": {
      "image/png": "[encoded data removed]",
      "text/plain": [
       "<Figure size 400x300 with 1 Axes>"
      ]
     },
     "metadata": {},
     "output_type": "display_data"
    },
    {
     "name": "stdout",
     "output_type": "stream",
     "text": [
      "=====================\n",
      "Training SVC...\n",
      "Accuracy for SVC: 0.6283\n",
      "Cohen's Kappa for SVC: 0.0072\n",
      "              precision    recall  f1-score   support\n",
      "\n",
      "         low       1.00      0.01      0.01       317\n",
      "      medium       0.63      1.00      0.77       598\n",
      "        high       0.00      0.00      0.00        40\n",
      "\n",
      "    accuracy                           0.63       955\n",
      "   macro avg       0.54      0.34      0.26       955\n",
      "weighted avg       0.72      0.63      0.49       955\n",
      "\n",
      "-------\n",
      "ROC AUC for SVC: 0.7076\n",
      "Log Loss for SVC: 0.7397\n",
      "=====================\n"
     ]
    },
    {
     "name": "stderr",
     "output_type": "stream",
     "text": [
      "/opt/anaconda3/envs/MarcosPython10/lib/python3.10/site-packages/sklearn/metrics/_classification.py:1731: UndefinedMetricWarning: Precision is ill-defined and being set to 0.0 in labels with no predicted samples. Use `zero_division` parameter to control this behavior.\n",
      "  _warn_prf(average, modifier, f\"{metric.capitalize()} is\", result.shape[0])\n",
      "/opt/anaconda3/envs/MarcosPython10/lib/python3.10/site-packages/sklearn/metrics/_classification.py:1731: UndefinedMetricWarning: Precision is ill-defined and being set to 0.0 in labels with no predicted samples. Use `zero_division` parameter to control this behavior.\n",
      "  _warn_prf(average, modifier, f\"{metric.capitalize()} is\", result.shape[0])\n",
      "/opt/anaconda3/envs/MarcosPython10/lib/python3.10/site-packages/sklearn/metrics/_classification.py:1731: UndefinedMetricWarning: Precision is ill-defined and being set to 0.0 in labels with no predicted samples. Use `zero_division` parameter to control this behavior.\n",
      "  _warn_prf(average, modifier, f\"{metric.capitalize()} is\", result.shape[0])\n"
     ]
    },
    {
     "data": {
      "image/png": "[encoded data removed]",
      "text/plain": [
       "<Figure size 400x300 with 1 Axes>"
      ]
     },
     "metadata": {},
     "output_type": "display_data"
    },
    {
     "name": "stdout",
     "output_type": "stream",
     "text": [
      "=====================\n",
      "Training KNC...\n",
      "Accuracy for KNC: 0.6796\n",
      "Cohen's Kappa for KNC: 0.3186\n",
      "              precision    recall  f1-score   support\n",
      "\n",
      "         low       0.58      0.54      0.56       317\n",
      "      medium       0.73      0.79      0.76       598\n",
      "        high       0.71      0.12      0.21        40\n",
      "\n",
      "    accuracy                           0.68       955\n",
      "   macro avg       0.67      0.49      0.51       955\n",
      "weighted avg       0.68      0.68      0.67       955\n",
      "\n",
      "-------\n",
      "ROC AUC for KNC: 0.7418\n",
      "Log Loss for KNC: 2.3044\n",
      "=====================\n"
     ]
    },
    {
     "data": {
      "image/png": "[encoded data removed]",
      "text/plain": [
       "<Figure size 400x300 with 1 Axes>"
      ]
     },
     "metadata": {},
     "output_type": "display_data"
    },
    {
     "name": "stdout",
     "output_type": "stream",
     "text": [
      "=====================\n",
      "Training MLPC...\n",
      "Accuracy for MLPC: 0.6764\n",
      "Cohen's Kappa for MLPC: 0.2234\n",
      "              precision    recall  f1-score   support\n",
      "\n",
      "         low       0.67      0.29      0.41       317\n",
      "      medium       0.68      0.92      0.78       598\n",
      "        high       0.00      0.00      0.00        40\n",
      "\n",
      "    accuracy                           0.68       955\n",
      "   macro avg       0.45      0.41      0.40       955\n",
      "weighted avg       0.65      0.68      0.63       955\n",
      "\n",
      "-------\n",
      "ROC AUC for MLPC: 0.7487\n",
      "Log Loss for MLPC: 0.6693\n",
      "=====================\n"
     ]
    },
    {
     "name": "stderr",
     "output_type": "stream",
     "text": [
      "/opt/anaconda3/envs/MarcosPython10/lib/python3.10/site-packages/sklearn/metrics/_classification.py:1731: UndefinedMetricWarning: Precision is ill-defined and being set to 0.0 in labels with no predicted samples. Use `zero_division` parameter to control this behavior.\n",
      "  _warn_prf(average, modifier, f\"{metric.capitalize()} is\", result.shape[0])\n",
      "/opt/anaconda3/envs/MarcosPython10/lib/python3.10/site-packages/sklearn/metrics/_classification.py:1731: UndefinedMetricWarning: Precision is ill-defined and being set to 0.0 in labels with no predicted samples. Use `zero_division` parameter to control this behavior.\n",
      "  _warn_prf(average, modifier, f\"{metric.capitalize()} is\", result.shape[0])\n",
      "/opt/anaconda3/envs/MarcosPython10/lib/python3.10/site-packages/sklearn/metrics/_classification.py:1731: UndefinedMetricWarning: Precision is ill-defined and being set to 0.0 in labels with no predicted samples. Use `zero_division` parameter to control this behavior.\n",
      "  _warn_prf(average, modifier, f\"{metric.capitalize()} is\", result.shape[0])\n"
     ]
    },
    {
     "data": {
      "image/png": "[encoded data removed]",
      "text/plain": [
       "<Figure size 400x300 with 1 Axes>"
      ]
     },
     "metadata": {},
     "output_type": "display_data"
    },
    {
     "name": "stdout",
     "output_type": "stream",
     "text": [
      "=====================\n",
      "Summary of Cohen's Kappa scores:\n",
      "LR has Fair agreement with a Kappa value of 0.21363620191012545\n",
      "DTC has Good agreement with a Kappa value of 0.4232799451645394\n",
      "GNB has Fair agreement with a Kappa value of 0.33297979667330635\n",
      "RF has Good agreement with a Kappa value of 0.5787676057151171\n",
      "SVC has Poor agreement with a Kappa value of 0.007238716591946526\n",
      "KNC has Fair agreement with a Kappa value of 0.318588816863312\n",
      "MLPC has Fair agreement with a Kappa value of 0.223421948767612\n",
      "=====================\n",
      "Summary of ROC AUC scores:\n",
      "LR has a Good ROC AUC score of 0.7030\n",
      "DTC has a Poor ROC AUC score of 10.3413 (high loss)\n",
      "GNB has a Good ROC AUC score of 0.6981\n",
      "RF has a Good ROC AUC score of 0.5067\n",
      "SVC has a Good ROC AUC score of 0.7397\n",
      "KNC has a Poor ROC AUC score of 2.3044 (high loss)\n",
      "MLPC has a Good ROC AUC score of 0.6693\n",
      "=====================\n",
      "Summary of Log Loss scores:\n",
      "LR has a Good Log Loss score of 0.7068\n",
      "DTC has a Good Log Loss score of 0.7335\n",
      "GNB has a Good Log Loss score of 0.7546\n",
      "RF has a Very Good Log Loss score of 0.8893\n",
      "SVC has a Good Log Loss score of 0.7076\n",
      "KNC has a Good Log Loss score of 0.7418\n",
      "MLPC has a Good Log Loss score of 0.7487\n",
      "=====================\n",
      "Final Thoughts:\n",
      "LR might not be reliable enough.\n",
      "DTC might not be reliable enough.\n",
      "GNB might not be reliable enough.\n",
      "RF is a good choice.\n",
      "SVC might not be reliable enough.\n",
      "KNC might not be reliable enough.\n",
      "MLPC might not be reliable enough.\n"
     ]
    }
   ],
   "source": [
    "models = {\n",
    "    'LR': LogisticRegression(random_state=42, max_iter=100),\n",
    "    'DTC': DecisionTreeClassifier(random_state=42),\n",
    "    'GNB': GaussianNB(),\n",
    "    'RF': RandomForestClassifier(random_state=42),\n",
    "    'SVC': SVC(probability=True, random_state=42),  # set probability=True for roc_auc_score\n",
    "    'KNC': KNeighborsClassifier(),\n",
    "    'MLPC': MLPClassifier(random_state=42, max_iter=300),\n",
    "}\n",
    "\n",
    "kappa_scores = {}\n",
    "roc_auc_scores = {}\n",
    "log_loss_scores = {}\n",
    "\n",
    "for name, model in models.items():\n",
    "    print(f\"Training {name}...\")\n",
    "    model.fit(x_train, y_train)\n",
    "\n",
    "    preds = model.predict(x_test)\n",
    "    acc = accuracy_score(y_test, preds)\n",
    "    kappa = cohen_kappa_score(y_test, preds)\n",
    "\n",
    "    print(f\"Accuracy for {name}: {acc:.4f}\")\n",
    "    print(f\"Cohen's Kappa for {name}: {kappa:.4f}\")\n",
    "    print(classification_report(y_test, preds, target_names=[\"low\", \"medium\", \"high\"]))\n",
    "    print('-------')\n",
    "\n",
    "    kappa_scores[name] = kappa\n",
    "\n",
    "    if hasattr(model, \"predict_proba\"):\n",
    "        probs = model.predict_proba(x_test)\n",
    "        try:\n",
    "            roc_auc = roc_auc_score(y_test, probs, multi_class='ovr')\n",
    "            print(f\"ROC AUC for {name}: {roc_auc:.4f}\")\n",
    "            roc_auc_scores[name] = roc_auc\n",
    "            loss = log_loss(y_test, probs)\n",
    "            log_loss_scores[name] = loss\n",
    "            print(f\"Log Loss for {name}: {loss:.4f}\")\n",
    "        except Exception as e:\n",
    "            print(f\"Could not calculate ROC AUC and Log Loss for {name}: {e}\")\n",
    "    else:\n",
    "        print(f\"{name} does not support predict_proba, skipping ROC AUC.\")\n",
    "\n",
    "    print('=====================')\n",
    "    \n",
    "    cm = confusion_matrix(y_test, preds)\n",
    "    cm_df = pd.DataFrame(cm, index=[\"Low\", \"Medium\", \"High\"], columns=[\"Low\", \"Medium\", \"High\"])\n",
    "    \n",
    "    light_blues = LinearSegmentedColormap.from_list(\"light_blues\", [\"#E0F2F1\", \"#4FC3F7\"])\n",
    "\n",
    "\n",
    "    plt.figure(figsize=(4, 3))\n",
    "    sns.heatmap(cm_df, annot=True, fmt='d', cmap=light_blues, cbar=False, linewidths=.8, linecolor='black', annot_kws={\"color\": \"black\"})\n",
    "    plt.title(f'Confusion Matrix: {name}')\n",
    "    plt.ylabel('Actual')\n",
    "    plt.xlabel('Predicted')\n",
    "    plt.tight_layout()\n",
    "    plt.show()\n",
    "    \n",
    "    print('=====================')\n",
    "\n",
    "print(\"Summary of Cohen's Kappa scores:\")\n",
    "for name, score in kappa_scores.items():\n",
    "    if score < 0.20:\n",
    "        print(f'{name} has Poor agreement with a Kappa value of {score}') \n",
    "    elif 0.20 <= score < 0.40:\n",
    "        print(f'{name} has Fair agreement with a Kappa value of {score}') \n",
    "    elif 0.40 <= score < 0.60:\n",
    "        print(f'{name} has Good agreement with a Kappa value of {score}')\n",
    "    else:\n",
    "        print(f'{name} has Very good agreement with a Kappa value of {score}') \n",
    "\n",
    "\n",
    "print('=====================')\n",
    "\n",
    "\n",
    "print(\"Summary of ROC AUC scores:\")\n",
    "for name, score in log_loss_scores.items():\n",
    "    if score > 1.0:\n",
    "        print(f'{name} has a Poor ROC AUC score of {score:.4f} (high loss)')\n",
    "    elif 0.75 < score <= 1.0:\n",
    "        print(f'{name} has a Fair ROC AUC score of {score:.4f}')\n",
    "    elif 0.5 < score <= 0.75:\n",
    "        print(f'{name} has a Good ROC AUC score of {score:.4f}')\n",
    "    elif 0.25 < score <= 0.5:\n",
    "        print(f'{name} has a Very Good ROC AUC score of {score:.4f}')\n",
    "    else:\n",
    "        print(f'{name} has an Excellent ROC AUC score of {score:.4f} (low loss)')\n",
    "\n",
    "\n",
    "print('=====================')\n",
    "\n",
    "\n",
    "print(\"Summary of Log Loss scores:\")\n",
    "for name, score in roc_auc_scores.items():\n",
    "    if score < 0.60:\n",
    "        print(f'{name} has a Poor Log Loss score of {score:.4f}')\n",
    "    elif 0.60 <= score < 0.70:\n",
    "        print(f'{name} has a Fair Log Loss score of {score:.4f}')\n",
    "    elif 0.70 <= score < 0.80:\n",
    "        print(f'{name} has a Good Log Loss score of {score:.4f}')\n",
    "    elif 0.80 <= score < 0.90:\n",
    "        print(f'{name} has a Very Good Log Loss score of {score:.4f}')\n",
    "    else:\n",
    "        print(f'{name} has an Excellent Log Loss score of {score:.4f}')\n",
    "        \n",
    "print('=====================')\n",
    "\n",
    "\n",
    "print(\"Final Thoughts:\")\n",
    "for name in models.keys():\n",
    "    scoreroc = roc_auc_scores.get(name)\n",
    "    scorekap = kappa_scores.get(name)\n",
    "    scorelog = log_loss_scores.get(name)\n",
    "\n",
    "    if scoreroc is not None and scorekap is not None and scorelog is not None:\n",
    "        if scoreroc >= 0.80 and scorekap >= 0.60 and scorelog <= 0.5:\n",
    "            print(f\"{name} is an excellent choice.\")\n",
    "        elif scoreroc >= 0.70 and scorekap >= 0.40 and scorelog <= 0.75:\n",
    "            print(f\"{name} is a good choice.\")\n",
    "        else:\n",
    "            print(f\"{name} might not be reliable enough.\")\n",
    "    else:\n",
    "        print(f\"{name} is missing score data.\")\n",
    "\n",
    "    "
   ]
  },
  {
   "cell_type": "markdown",
   "metadata": {},
   "source": [
    "# Predicting Quality - Linear Regression"
   ]
  },
  {
   "cell_type": "code",
   "execution_count": 25,
   "metadata": {},
   "outputs": [],
   "source": [
    "from sklearn.model_selection import train_test_split, GridSearchCV\n",
    "\n",
    "# split data into X and Y\n",
    "X = dfm_clean.drop(['quality_label', 'quality', 'wine_type'], axis=1)\n",
    "y = dfm_clean['quality']\n",
    "\n",
    "# split data\n",
    "x_train, x_test, y_train, y_test = train_test_split(X, y, test_size=0.10, random_state=12)"
   ]
  },
  {
   "cell_type": "code",
   "execution_count": 26,
   "metadata": {},
   "outputs": [
    {
     "name": "stdout",
     "output_type": "stream",
     "text": [
      "MSE: 0.48502035849426\n",
      "R2: 0.34330416887283477\n"
     ]
    }
   ],
   "source": [
    "from sklearn.linear_model import LinearRegression\n",
    "\n",
    "LinearR_model = LinearRegression()\n",
    "\n",
    "LinearR_model.fit(x_train, y_train)\n",
    "\n",
    "preds = LinearR_model.predict(x_test)\n",
    "\n",
    "# when I changed the value of random state it jumped from 55 to 67 accuracy. \n",
    "from sklearn.metrics import mean_squared_error, r2_score\n",
    "\n",
    "mse = mean_squared_error(y_test, preds)\n",
    "r2 = r2_score(y_test, preds)\n",
    "print(\"MSE:\", mse)\n",
    "print(\"R2:\", r2)\n"
   ]
  },
  {
   "cell_type": "code",
   "execution_count": null,
   "metadata": {},
   "outputs": [],
   "source": []
  }
 ],
 "metadata": {
  "kernelspec": {
   "display_name": "MarcosPython10",
   "language": "python",
   "name": "python3"
  },
  "language_info": {
   "codemirror_mode": {
    "name": "ipython",
    "version": 3
   },
   "file_extension": ".py",
   "mimetype": "text/x-python",
   "name": "python",
   "nbconvert_exporter": "python",
   "pygments_lexer": "ipython3",
   "version": "3.10.18"
  }
 },
 "nbformat": 4,
 "nbformat_minor": 2
}
