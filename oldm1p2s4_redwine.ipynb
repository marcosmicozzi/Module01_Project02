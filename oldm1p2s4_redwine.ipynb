{
 "cells": [
  {
   "cell_type": "markdown",
   "metadata": {},
   "source": [
    "# importing neccessery libriries\n"
   ]
  },
  {
   "cell_type": "code",
   "execution_count": 2975,
   "metadata": {},
   "outputs": [],
   "source": [
    "# importing neccessery libriries\n",
    "import pandas as pd\n",
    "import numpy as np\n",
    "import matplotlib.pyplot as plt\n",
    "import seaborn as sns\n",
    "\n",
    "from sklearn.linear_model import LogisticRegression\n",
    "from sklearn.tree import DecisionTreeClassifier\n",
    "from sklearn.naive_bayes import GaussianNB\n",
    "from sklearn.ensemble import RandomForestClassifier\n",
    "from sklearn.svm import SVC\n",
    "from sklearn.neighbors import KNeighborsClassifier\n",
    "from sklearn.ensemble import AdaBoostClassifier\n",
    "from sklearn.neural_network import MLPClassifier\n",
    "\n",
    "from sklearn.metrics import classification_report\n",
    "from sklearn.metrics import confusion_matrix\n",
    "\n",
    "from sklearn.metrics import roc_auc_score\n",
    "from sklearn.metrics import cohen_kappa_score"
   ]
  },
  {
   "cell_type": "markdown",
   "metadata": {},
   "source": [
    "# Importing CSV and Analyzing Data"
   ]
  },
  {
   "cell_type": "code",
   "execution_count": 2976,
   "metadata": {},
   "outputs": [
    {
     "data": {
      "text/html": [
       "<div>\n",
       "<style scoped>\n",
       "    .dataframe tbody tr th:only-of-type {\n",
       "        vertical-align: middle;\n",
       "    }\n",
       "\n",
       "    .dataframe tbody tr th {\n",
       "        vertical-align: top;\n",
       "    }\n",
       "\n",
       "    .dataframe thead th {\n",
       "        text-align: right;\n",
       "    }\n",
       "</style>\n",
       "<table border=\"1\" class=\"dataframe\">\n",
       "  <thead>\n",
       "    <tr style=\"text-align: right;\">\n",
       "      <th></th>\n",
       "      <th>fixed_acidity</th>\n",
       "      <th>volatile_acidity</th>\n",
       "      <th>citric_acid</th>\n",
       "      <th>residual_sugar</th>\n",
       "      <th>chlorides</th>\n",
       "      <th>free_sulfur_dioxide</th>\n",
       "      <th>total_sulfur_dioxide</th>\n",
       "      <th>density</th>\n",
       "      <th>pH</th>\n",
       "      <th>sulphates</th>\n",
       "      <th>alcohol</th>\n",
       "      <th>quality</th>\n",
       "      <th>quality_label</th>\n",
       "      <th>wine_type</th>\n",
       "    </tr>\n",
       "  </thead>\n",
       "  <tbody>\n",
       "    <tr>\n",
       "      <th>0</th>\n",
       "      <td>7.4</td>\n",
       "      <td>0.700</td>\n",
       "      <td>0.00</td>\n",
       "      <td>1.9</td>\n",
       "      <td>0.076</td>\n",
       "      <td>11.0</td>\n",
       "      <td>34.0</td>\n",
       "      <td>0.99780</td>\n",
       "      <td>3.51</td>\n",
       "      <td>0.56</td>\n",
       "      <td>9.4</td>\n",
       "      <td>5</td>\n",
       "      <td>low</td>\n",
       "      <td>red wine</td>\n",
       "    </tr>\n",
       "    <tr>\n",
       "      <th>1</th>\n",
       "      <td>7.8</td>\n",
       "      <td>0.880</td>\n",
       "      <td>0.00</td>\n",
       "      <td>2.6</td>\n",
       "      <td>0.098</td>\n",
       "      <td>25.0</td>\n",
       "      <td>67.0</td>\n",
       "      <td>0.99680</td>\n",
       "      <td>3.20</td>\n",
       "      <td>0.68</td>\n",
       "      <td>9.8</td>\n",
       "      <td>5</td>\n",
       "      <td>low</td>\n",
       "      <td>red wine</td>\n",
       "    </tr>\n",
       "    <tr>\n",
       "      <th>2</th>\n",
       "      <td>7.8</td>\n",
       "      <td>0.760</td>\n",
       "      <td>0.04</td>\n",
       "      <td>2.3</td>\n",
       "      <td>0.092</td>\n",
       "      <td>15.0</td>\n",
       "      <td>54.0</td>\n",
       "      <td>0.99700</td>\n",
       "      <td>3.26</td>\n",
       "      <td>0.65</td>\n",
       "      <td>9.8</td>\n",
       "      <td>5</td>\n",
       "      <td>low</td>\n",
       "      <td>red wine</td>\n",
       "    </tr>\n",
       "    <tr>\n",
       "      <th>3</th>\n",
       "      <td>11.2</td>\n",
       "      <td>0.280</td>\n",
       "      <td>0.56</td>\n",
       "      <td>1.9</td>\n",
       "      <td>0.075</td>\n",
       "      <td>17.0</td>\n",
       "      <td>60.0</td>\n",
       "      <td>0.99800</td>\n",
       "      <td>3.16</td>\n",
       "      <td>0.58</td>\n",
       "      <td>9.8</td>\n",
       "      <td>6</td>\n",
       "      <td>medium</td>\n",
       "      <td>red wine</td>\n",
       "    </tr>\n",
       "    <tr>\n",
       "      <th>4</th>\n",
       "      <td>7.4</td>\n",
       "      <td>0.700</td>\n",
       "      <td>0.00</td>\n",
       "      <td>1.9</td>\n",
       "      <td>0.076</td>\n",
       "      <td>11.0</td>\n",
       "      <td>34.0</td>\n",
       "      <td>0.99780</td>\n",
       "      <td>3.51</td>\n",
       "      <td>0.56</td>\n",
       "      <td>9.4</td>\n",
       "      <td>5</td>\n",
       "      <td>low</td>\n",
       "      <td>red wine</td>\n",
       "    </tr>\n",
       "    <tr>\n",
       "      <th>...</th>\n",
       "      <td>...</td>\n",
       "      <td>...</td>\n",
       "      <td>...</td>\n",
       "      <td>...</td>\n",
       "      <td>...</td>\n",
       "      <td>...</td>\n",
       "      <td>...</td>\n",
       "      <td>...</td>\n",
       "      <td>...</td>\n",
       "      <td>...</td>\n",
       "      <td>...</td>\n",
       "      <td>...</td>\n",
       "      <td>...</td>\n",
       "      <td>...</td>\n",
       "    </tr>\n",
       "    <tr>\n",
       "      <th>1594</th>\n",
       "      <td>6.2</td>\n",
       "      <td>0.600</td>\n",
       "      <td>0.08</td>\n",
       "      <td>2.0</td>\n",
       "      <td>0.090</td>\n",
       "      <td>32.0</td>\n",
       "      <td>44.0</td>\n",
       "      <td>0.99490</td>\n",
       "      <td>3.45</td>\n",
       "      <td>0.58</td>\n",
       "      <td>10.5</td>\n",
       "      <td>5</td>\n",
       "      <td>low</td>\n",
       "      <td>red wine</td>\n",
       "    </tr>\n",
       "    <tr>\n",
       "      <th>1595</th>\n",
       "      <td>5.9</td>\n",
       "      <td>0.550</td>\n",
       "      <td>0.10</td>\n",
       "      <td>2.2</td>\n",
       "      <td>0.062</td>\n",
       "      <td>39.0</td>\n",
       "      <td>51.0</td>\n",
       "      <td>0.99512</td>\n",
       "      <td>3.52</td>\n",
       "      <td>0.76</td>\n",
       "      <td>11.2</td>\n",
       "      <td>6</td>\n",
       "      <td>medium</td>\n",
       "      <td>red wine</td>\n",
       "    </tr>\n",
       "    <tr>\n",
       "      <th>1596</th>\n",
       "      <td>6.3</td>\n",
       "      <td>0.510</td>\n",
       "      <td>0.13</td>\n",
       "      <td>2.3</td>\n",
       "      <td>0.076</td>\n",
       "      <td>29.0</td>\n",
       "      <td>40.0</td>\n",
       "      <td>0.99574</td>\n",
       "      <td>3.42</td>\n",
       "      <td>0.75</td>\n",
       "      <td>11.0</td>\n",
       "      <td>6</td>\n",
       "      <td>medium</td>\n",
       "      <td>red wine</td>\n",
       "    </tr>\n",
       "    <tr>\n",
       "      <th>1597</th>\n",
       "      <td>5.9</td>\n",
       "      <td>0.645</td>\n",
       "      <td>0.12</td>\n",
       "      <td>2.0</td>\n",
       "      <td>0.075</td>\n",
       "      <td>32.0</td>\n",
       "      <td>44.0</td>\n",
       "      <td>0.99547</td>\n",
       "      <td>3.57</td>\n",
       "      <td>0.71</td>\n",
       "      <td>10.2</td>\n",
       "      <td>5</td>\n",
       "      <td>low</td>\n",
       "      <td>red wine</td>\n",
       "    </tr>\n",
       "    <tr>\n",
       "      <th>1598</th>\n",
       "      <td>6.0</td>\n",
       "      <td>0.310</td>\n",
       "      <td>0.47</td>\n",
       "      <td>3.6</td>\n",
       "      <td>0.067</td>\n",
       "      <td>18.0</td>\n",
       "      <td>42.0</td>\n",
       "      <td>0.99549</td>\n",
       "      <td>3.39</td>\n",
       "      <td>0.66</td>\n",
       "      <td>11.0</td>\n",
       "      <td>6</td>\n",
       "      <td>medium</td>\n",
       "      <td>red wine</td>\n",
       "    </tr>\n",
       "  </tbody>\n",
       "</table>\n",
       "<p>1599 rows × 14 columns</p>\n",
       "</div>"
      ],
      "text/plain": [
       "      fixed_acidity  volatile_acidity  citric_acid  residual_sugar  chlorides  \\\n",
       "0               7.4             0.700         0.00             1.9      0.076   \n",
       "1               7.8             0.880         0.00             2.6      0.098   \n",
       "2               7.8             0.760         0.04             2.3      0.092   \n",
       "3              11.2             0.280         0.56             1.9      0.075   \n",
       "4               7.4             0.700         0.00             1.9      0.076   \n",
       "...             ...               ...          ...             ...        ...   \n",
       "1594            6.2             0.600         0.08             2.0      0.090   \n",
       "1595            5.9             0.550         0.10             2.2      0.062   \n",
       "1596            6.3             0.510         0.13             2.3      0.076   \n",
       "1597            5.9             0.645         0.12             2.0      0.075   \n",
       "1598            6.0             0.310         0.47             3.6      0.067   \n",
       "\n",
       "      free_sulfur_dioxide  total_sulfur_dioxide  density    pH  sulphates  \\\n",
       "0                    11.0                  34.0  0.99780  3.51       0.56   \n",
       "1                    25.0                  67.0  0.99680  3.20       0.68   \n",
       "2                    15.0                  54.0  0.99700  3.26       0.65   \n",
       "3                    17.0                  60.0  0.99800  3.16       0.58   \n",
       "4                    11.0                  34.0  0.99780  3.51       0.56   \n",
       "...                   ...                   ...      ...   ...        ...   \n",
       "1594                 32.0                  44.0  0.99490  3.45       0.58   \n",
       "1595                 39.0                  51.0  0.99512  3.52       0.76   \n",
       "1596                 29.0                  40.0  0.99574  3.42       0.75   \n",
       "1597                 32.0                  44.0  0.99547  3.57       0.71   \n",
       "1598                 18.0                  42.0  0.99549  3.39       0.66   \n",
       "\n",
       "      alcohol  quality quality_label wine_type  \n",
       "0         9.4        5           low  red wine  \n",
       "1         9.8        5           low  red wine  \n",
       "2         9.8        5           low  red wine  \n",
       "3         9.8        6        medium  red wine  \n",
       "4         9.4        5           low  red wine  \n",
       "...       ...      ...           ...       ...  \n",
       "1594     10.5        5           low  red wine  \n",
       "1595     11.2        6        medium  red wine  \n",
       "1596     11.0        6        medium  red wine  \n",
       "1597     10.2        5           low  red wine  \n",
       "1598     11.0        6        medium  red wine  \n",
       "\n",
       "[1599 rows x 14 columns]"
      ]
     },
     "execution_count": 2976,
     "metadata": {},
     "output_type": "execute_result"
    }
   ],
   "source": [
    "df = pd.read_csv('red_wine_ml.csv')\n",
    "df"
   ]
  },
  {
   "cell_type": "code",
   "execution_count": 2977,
   "metadata": {},
   "outputs": [
    {
     "data": {
      "text/plain": [
       "Index(['fixed_acidity', 'volatile_acidity', 'citric_acid', 'residual_sugar',\n",
       "       'chlorides', 'free_sulfur_dioxide', 'total_sulfur_dioxide', 'density',\n",
       "       'pH', 'sulphates', 'alcohol', 'quality', 'quality_label', 'wine_type'],\n",
       "      dtype='object')"
      ]
     },
     "execution_count": 2977,
     "metadata": {},
     "output_type": "execute_result"
    }
   ],
   "source": [
    "df.columns"
   ]
  },
  {
   "cell_type": "code",
   "execution_count": 2978,
   "metadata": {},
   "outputs": [
    {
     "data": {
      "text/plain": [
       "fixed_acidity           0\n",
       "volatile_acidity        0\n",
       "citric_acid             0\n",
       "residual_sugar          0\n",
       "chlorides               0\n",
       "free_sulfur_dioxide     0\n",
       "total_sulfur_dioxide    0\n",
       "density                 0\n",
       "pH                      0\n",
       "sulphates               0\n",
       "alcohol                 0\n",
       "quality                 0\n",
       "quality_label           0\n",
       "wine_type               0\n",
       "dtype: int64"
      ]
     },
     "execution_count": 2978,
     "metadata": {},
     "output_type": "execute_result"
    }
   ],
   "source": [
    "df.isnull().sum()"
   ]
  },
  {
   "cell_type": "code",
   "execution_count": 2979,
   "metadata": {},
   "outputs": [
    {
     "name": "stdout",
     "output_type": "stream",
     "text": [
      "<class 'pandas.core.frame.DataFrame'>\n",
      "RangeIndex: 1599 entries, 0 to 1598\n",
      "Data columns (total 14 columns):\n",
      " #   Column                Non-Null Count  Dtype  \n",
      "---  ------                --------------  -----  \n",
      " 0   fixed_acidity         1599 non-null   float64\n",
      " 1   volatile_acidity      1599 non-null   float64\n",
      " 2   citric_acid           1599 non-null   float64\n",
      " 3   residual_sugar        1599 non-null   float64\n",
      " 4   chlorides             1599 non-null   float64\n",
      " 5   free_sulfur_dioxide   1599 non-null   float64\n",
      " 6   total_sulfur_dioxide  1599 non-null   float64\n",
      " 7   density               1599 non-null   float64\n",
      " 8   pH                    1599 non-null   float64\n",
      " 9   sulphates             1599 non-null   float64\n",
      " 10  alcohol               1599 non-null   float64\n",
      " 11  quality               1599 non-null   int64  \n",
      " 12  quality_label         1599 non-null   object \n",
      " 13  wine_type             1599 non-null   object \n",
      "dtypes: float64(11), int64(1), object(2)\n",
      "memory usage: 175.0+ KB\n"
     ]
    }
   ],
   "source": [
    "df.info()"
   ]
  },
  {
   "cell_type": "code",
   "execution_count": 2980,
   "metadata": {},
   "outputs": [
    {
     "data": {
      "text/plain": [
       "np.int64(240)"
      ]
     },
     "execution_count": 2980,
     "metadata": {},
     "output_type": "execute_result"
    }
   ],
   "source": [
    "df.duplicated().sum()"
   ]
  },
  {
   "cell_type": "code",
   "execution_count": 2981,
   "metadata": {},
   "outputs": [
    {
     "data": {
      "text/html": [
       "<div>\n",
       "<style scoped>\n",
       "    .dataframe tbody tr th:only-of-type {\n",
       "        vertical-align: middle;\n",
       "    }\n",
       "\n",
       "    .dataframe tbody tr th {\n",
       "        vertical-align: top;\n",
       "    }\n",
       "\n",
       "    .dataframe thead th {\n",
       "        text-align: right;\n",
       "    }\n",
       "</style>\n",
       "<table border=\"1\" class=\"dataframe\">\n",
       "  <thead>\n",
       "    <tr style=\"text-align: right;\">\n",
       "      <th></th>\n",
       "      <th>quality_label</th>\n",
       "      <th>wine_type</th>\n",
       "    </tr>\n",
       "  </thead>\n",
       "  <tbody>\n",
       "    <tr>\n",
       "      <th>0</th>\n",
       "      <td>low</td>\n",
       "      <td>red wine</td>\n",
       "    </tr>\n",
       "    <tr>\n",
       "      <th>1</th>\n",
       "      <td>low</td>\n",
       "      <td>red wine</td>\n",
       "    </tr>\n",
       "    <tr>\n",
       "      <th>2</th>\n",
       "      <td>low</td>\n",
       "      <td>red wine</td>\n",
       "    </tr>\n",
       "    <tr>\n",
       "      <th>3</th>\n",
       "      <td>medium</td>\n",
       "      <td>red wine</td>\n",
       "    </tr>\n",
       "    <tr>\n",
       "      <th>4</th>\n",
       "      <td>low</td>\n",
       "      <td>red wine</td>\n",
       "    </tr>\n",
       "  </tbody>\n",
       "</table>\n",
       "</div>"
      ],
      "text/plain": [
       "  quality_label wine_type\n",
       "0           low  red wine\n",
       "1           low  red wine\n",
       "2           low  red wine\n",
       "3        medium  red wine\n",
       "4           low  red wine"
      ]
     },
     "execution_count": 2981,
     "metadata": {},
     "output_type": "execute_result"
    }
   ],
   "source": [
    "string_col = df.select_dtypes(include=\"object\").columns\n",
    "df[string_col].head()"
   ]
  },
  {
   "cell_type": "code",
   "execution_count": 2982,
   "metadata": {},
   "outputs": [
    {
     "name": "stdout",
     "output_type": "stream",
     "text": [
      "The distribution of categorical values in the quality_label is : \n",
      "quality_label\n",
      "medium    837\n",
      "low       744\n",
      "high       18\n",
      "Name: count, dtype: int64\n",
      "The distribution of categorical values in the wine_type is : \n",
      "wine_type\n",
      "red wine    1599\n",
      "Name: count, dtype: int64\n"
     ]
    }
   ],
   "source": [
    "for col in string_col:\n",
    "    print(f\"The distribution of categorical values in the {col} is : \")\n",
    "    print(df[col].value_counts())"
   ]
  },
  {
   "cell_type": "markdown",
   "metadata": {},
   "source": [
    "# Checking Outliers"
   ]
  },
  {
   "cell_type": "code",
   "execution_count": 2983,
   "metadata": {},
   "outputs": [],
   "source": [
    "dfm = df.copy()"
   ]
  },
  {
   "cell_type": "code",
   "execution_count": 2984,
   "metadata": {},
   "outputs": [
    {
     "name": "stdout",
     "output_type": "stream",
     "text": [
      "7.1\n",
      "9.2\n",
      "2.0999999999999996\n",
      "3.95\n",
      "12.349999999999998\n",
      "----------\n",
      "0.07\n",
      "0.09\n",
      "0.01999999999999999\n",
      "0.04000000000000002\n",
      "0.11999999999999998\n",
      "----------\n",
      "0.55\n",
      "0.73\n",
      "0.17999999999999994\n",
      "0.28000000000000014\n",
      "0.9999999999999999\n"
     ]
    }
   ],
   "source": [
    "# q1 = dfm.fixed_acidity.quantile([0.25])\n",
    "# q3 = dfm.fixed_acidity.quantile([0.75])\n",
    "# print(q1)\n",
    "# print(q3)\n",
    "\n",
    "q1fa = np.percentile(dfm.fixed_acidity, 25)\n",
    "q3fa = np.percentile(dfm.fixed_acidity, 75)\n",
    "print(q1fa)\n",
    "print(q3fa)\n",
    "iqrfa = q3fa - q1fa\n",
    "print(iqrfa)\n",
    "lower_treshold_fa = q1fa - (1.5*iqrfa)\n",
    "print(lower_treshold_fa)\n",
    "higher_treshold_fa = q3fa + (1.5*iqrfa)\n",
    "print(higher_treshold_fa)\n",
    "print('----------')\n",
    "# q1 = dfm.fixed_acidity.quantile([0.25])\n",
    "# q3 = dfm.fixed_acidity.quantile([0.75])\n",
    "# print(q1)\n",
    "# print(q3)\n",
    "\n",
    "q1cl = np.percentile(dfm.chlorides, 25)\n",
    "q3cl = np.percentile(dfm.chlorides, 75)\n",
    "print(q1cl)\n",
    "print(q3cl)\n",
    "iqrcl = q3cl - q1cl\n",
    "print(iqrcl)\n",
    "lower_treshold_cl = q1cl - (1.5*iqrcl)\n",
    "print(lower_treshold_cl)\n",
    "higher_treshold_cl = q3cl + (1.5*iqrcl)\n",
    "print(higher_treshold_cl)\n",
    "print('----------')\n",
    "# q1 = dfm.fixed_acidity.quantile([0.25])\n",
    "# q3 = dfm.fixed_acidity.quantile([0.75])\n",
    "# print(q1)\n",
    "# print(q3)\n",
    "\n",
    "q1su = np.percentile(dfm.sulphates, 25)\n",
    "q3su = np.percentile(dfm.sulphates, 75)\n",
    "print(q1su)\n",
    "print(q3su)\n",
    "iqrsu = q3su - q1su\n",
    "print(iqrsu)\n",
    "lower_treshold_su = q1su - (1.5*iqrsu)\n",
    "print(lower_treshold_su)\n",
    "higher_treshold_su = q3su + (1.5*iqrsu)\n",
    "print(higher_treshold_su)\n"
   ]
  },
  {
   "cell_type": "markdown",
   "metadata": {},
   "source": [
    "# Removing Outliers"
   ]
  },
  {
   "cell_type": "code",
   "execution_count": 2985,
   "metadata": {},
   "outputs": [
    {
     "name": "stdout",
     "output_type": "stream",
     "text": [
      "<class 'pandas.core.frame.DataFrame'>\n",
      "RangeIndex: 1599 entries, 0 to 1598\n",
      "Data columns (total 14 columns):\n",
      " #   Column                Non-Null Count  Dtype  \n",
      "---  ------                --------------  -----  \n",
      " 0   fixed_acidity         1599 non-null   float64\n",
      " 1   volatile_acidity      1599 non-null   float64\n",
      " 2   citric_acid           1599 non-null   float64\n",
      " 3   residual_sugar        1599 non-null   float64\n",
      " 4   chlorides             1599 non-null   float64\n",
      " 5   free_sulfur_dioxide   1599 non-null   float64\n",
      " 6   total_sulfur_dioxide  1599 non-null   float64\n",
      " 7   density               1599 non-null   float64\n",
      " 8   pH                    1599 non-null   float64\n",
      " 9   sulphates             1599 non-null   float64\n",
      " 10  alcohol               1599 non-null   float64\n",
      " 11  quality               1599 non-null   int64  \n",
      " 12  quality_label         1599 non-null   object \n",
      " 13  wine_type             1599 non-null   object \n",
      "dtypes: float64(11), int64(1), object(2)\n",
      "memory usage: 175.0+ KB\n",
      "---\n",
      "<class 'pandas.core.frame.DataFrame'>\n",
      "Index: 1540 entries, 0 to 1598\n",
      "Data columns (total 14 columns):\n",
      " #   Column                Non-Null Count  Dtype  \n",
      "---  ------                --------------  -----  \n",
      " 0   fixed_acidity         1540 non-null   float64\n",
      " 1   volatile_acidity      1540 non-null   float64\n",
      " 2   citric_acid           1540 non-null   float64\n",
      " 3   residual_sugar        1540 non-null   float64\n",
      " 4   chlorides             1540 non-null   float64\n",
      " 5   free_sulfur_dioxide   1540 non-null   float64\n",
      " 6   total_sulfur_dioxide  1540 non-null   float64\n",
      " 7   density               1540 non-null   float64\n",
      " 8   pH                    1540 non-null   float64\n",
      " 9   sulphates             1540 non-null   float64\n",
      " 10  alcohol               1540 non-null   float64\n",
      " 11  quality               1540 non-null   int64  \n",
      " 12  quality_label         1540 non-null   object \n",
      " 13  wine_type             1540 non-null   object \n",
      "dtypes: float64(11), int64(1), object(2)\n",
      "memory usage: 180.5+ KB\n"
     ]
    }
   ],
   "source": [
    "# dfm_clean = dfm[\n",
    "#     (dfm['fixed_acidity'] >= lower_treshold_fa) & (dfm['fixed_acidity'] <= higher_treshold_fa) &\n",
    "#     (df['chlorides'] >= lower_treshold_cl) & (df['chlorides'] <= higher_treshold_cl) &\n",
    "#     (df['sulphates'] >= lower_treshold_su) & (df['sulphates'] <= higher_treshold_su)\n",
    "# ]\n",
    "# dfm_clean.head()\n",
    "\n",
    "dfm_clean = dfm[\n",
    "    (dfm['fixed_acidity'] >= lower_treshold_fa) & (dfm['fixed_acidity'] <= higher_treshold_fa)\n",
    "]\n",
    "dfm_clean = dfm[\n",
    "    (df['chlorides'] >= lower_treshold_cl) & (df['chlorides'] <= higher_treshold_cl)\n",
    "]\n",
    "dfm_clean = dfm[\n",
    "    (df['sulphates'] >= lower_treshold_su) & (df['sulphates'] <= higher_treshold_su)\n",
    "]\n",
    "\n",
    "dfm_clean.head(20)\n",
    "dfm.info()\n",
    "print('---')\n",
    "dfm_clean.info()"
   ]
  },
  {
   "cell_type": "markdown",
   "metadata": {},
   "source": [
    "# Machine Starts"
   ]
  },
  {
   "cell_type": "code",
   "execution_count": 2986,
   "metadata": {},
   "outputs": [
    {
     "name": "stderr",
     "output_type": "stream",
     "text": [
      "/var/folders/pm/7vn7thz14p556cr_ql9w5xbw0000gn/T/ipykernel_84872/788181162.py:1: FutureWarning: A value is trying to be set on a copy of a DataFrame or Series through chained assignment using an inplace method.\n",
      "The behavior will change in pandas 3.0. This inplace method will never work because the intermediate object on which we are setting values always behaves as a copy.\n",
      "\n",
      "For example, when doing 'df[col].method(value, inplace=True)', try using 'df.method({col: value}, inplace=True)' or df[col] = df[col].method(value) instead, to perform the operation inplace on the original object.\n",
      "\n",
      "\n",
      "  dfm_clean['quality_label'].replace({'low':0, 'medium':1, 'high':2}, inplace=True)\n",
      "/var/folders/pm/7vn7thz14p556cr_ql9w5xbw0000gn/T/ipykernel_84872/788181162.py:1: FutureWarning: Downcasting behavior in `replace` is deprecated and will be removed in a future version. To retain the old behavior, explicitly call `result.infer_objects(copy=False)`. To opt-in to the future behavior, set `pd.set_option('future.no_silent_downcasting', True)`\n",
      "  dfm_clean['quality_label'].replace({'low':0, 'medium':1, 'high':2}, inplace=True)\n",
      "/var/folders/pm/7vn7thz14p556cr_ql9w5xbw0000gn/T/ipykernel_84872/788181162.py:1: SettingWithCopyWarning: \n",
      "A value is trying to be set on a copy of a slice from a DataFrame\n",
      "\n",
      "See the caveats in the documentation: https://pandas.pydata.org/pandas-docs/stable/user_guide/indexing.html#returning-a-view-versus-a-copy\n",
      "  dfm_clean['quality_label'].replace({'low':0, 'medium':1, 'high':2}, inplace=True)\n",
      "/var/folders/pm/7vn7thz14p556cr_ql9w5xbw0000gn/T/ipykernel_84872/788181162.py:4: FutureWarning: A value is trying to be set on a copy of a DataFrame or Series through chained assignment using an inplace method.\n",
      "The behavior will change in pandas 3.0. This inplace method will never work because the intermediate object on which we are setting values always behaves as a copy.\n",
      "\n",
      "For example, when doing 'df[col].method(value, inplace=True)', try using 'df.method({col: value}, inplace=True)' or df[col] = df[col].method(value) instead, to perform the operation inplace on the original object.\n",
      "\n",
      "\n",
      "  dfm_clean['wine_type'].replace({'white wine':0, 'red wine':1}, inplace=True)\n",
      "/var/folders/pm/7vn7thz14p556cr_ql9w5xbw0000gn/T/ipykernel_84872/788181162.py:4: FutureWarning: Downcasting behavior in `replace` is deprecated and will be removed in a future version. To retain the old behavior, explicitly call `result.infer_objects(copy=False)`. To opt-in to the future behavior, set `pd.set_option('future.no_silent_downcasting', True)`\n",
      "  dfm_clean['wine_type'].replace({'white wine':0, 'red wine':1}, inplace=True)\n",
      "/var/folders/pm/7vn7thz14p556cr_ql9w5xbw0000gn/T/ipykernel_84872/788181162.py:4: SettingWithCopyWarning: \n",
      "A value is trying to be set on a copy of a slice from a DataFrame\n",
      "\n",
      "See the caveats in the documentation: https://pandas.pydata.org/pandas-docs/stable/user_guide/indexing.html#returning-a-view-versus-a-copy\n",
      "  dfm_clean['wine_type'].replace({'white wine':0, 'red wine':1}, inplace=True)\n"
     ]
    }
   ],
   "source": [
    "dfm_clean['quality_label'].replace({'low':0, 'medium':1, 'high':2}, inplace=True)\n",
    "# I actually should drop wine type as we do not need it. \n",
    "# dfm.drop('quality_label', axis=1)\n",
    "dfm_clean['wine_type'].replace({'white wine':0, 'red wine':1}, inplace=True)"
   ]
  },
  {
   "cell_type": "code",
   "execution_count": 2987,
   "metadata": {},
   "outputs": [
    {
     "data": {
      "text/plain": [
       "Index(['fixed_acidity', 'volatile_acidity', 'citric_acid', 'residual_sugar',\n",
       "       'chlorides', 'free_sulfur_dioxide', 'total_sulfur_dioxide', 'density',\n",
       "       'pH', 'sulphates', 'alcohol', 'quality', 'quality_label', 'wine_type'],\n",
       "      dtype='object')"
      ]
     },
     "execution_count": 2987,
     "metadata": {},
     "output_type": "execute_result"
    }
   ],
   "source": [
    "dfm_clean.columns"
   ]
  },
  {
   "cell_type": "code",
   "execution_count": 2988,
   "metadata": {},
   "outputs": [],
   "source": [
    "from sklearn.model_selection import train_test_split, GridSearchCV\n",
    "\n",
    "# split data into X and Y\n",
    "X = dfm_clean.drop(['quality_label', 'quality', 'density', 'chlorides', 'wine_type', 'free_sulfur_dioxide', 'pH', 'sulphates', 'free_sulfur_dioxide'], axis=1)\n",
    "y = dfm_clean['quality_label']\n",
    "\n",
    "# split data\n",
    "x_train, x_test, y_train, y_test = train_test_split(X, y, test_size=0.20, random_state=42)"
   ]
  },
  {
   "cell_type": "code",
   "execution_count": 2989,
   "metadata": {},
   "outputs": [
    {
     "data": {
      "text/plain": [
       "(308,)"
      ]
     },
     "execution_count": 2989,
     "metadata": {},
     "output_type": "execute_result"
    }
   ],
   "source": [
    "y_test.shape"
   ]
  },
  {
   "cell_type": "code",
   "execution_count": 2990,
   "metadata": {},
   "outputs": [
    {
     "data": {
      "text/plain": [
       "(308, 6)"
      ]
     },
     "execution_count": 2990,
     "metadata": {},
     "output_type": "execute_result"
    }
   ],
   "source": [
    "x_test.shape"
   ]
  },
  {
   "cell_type": "markdown",
   "metadata": {},
   "source": [
    "# Robust Scaler"
   ]
  },
  {
   "cell_type": "code",
   "execution_count": 2991,
   "metadata": {},
   "outputs": [
    {
     "data": {
      "text/html": [
       "<div>\n",
       "<style scoped>\n",
       "    .dataframe tbody tr th:only-of-type {\n",
       "        vertical-align: middle;\n",
       "    }\n",
       "\n",
       "    .dataframe tbody tr th {\n",
       "        vertical-align: top;\n",
       "    }\n",
       "\n",
       "    .dataframe thead th {\n",
       "        text-align: right;\n",
       "    }\n",
       "</style>\n",
       "<table border=\"1\" class=\"dataframe\">\n",
       "  <thead>\n",
       "    <tr style=\"text-align: right;\">\n",
       "      <th></th>\n",
       "      <th>fixed_acidity</th>\n",
       "      <th>volatile_acidity</th>\n",
       "      <th>citric_acid</th>\n",
       "      <th>residual_sugar</th>\n",
       "      <th>total_sulfur_dioxide</th>\n",
       "      <th>alcohol</th>\n",
       "    </tr>\n",
       "  </thead>\n",
       "  <tbody>\n",
       "    <tr>\n",
       "      <th>184</th>\n",
       "      <td>6.7</td>\n",
       "      <td>0.620</td>\n",
       "      <td>0.21</td>\n",
       "      <td>1.9</td>\n",
       "      <td>62.0</td>\n",
       "      <td>9.3</td>\n",
       "    </tr>\n",
       "    <tr>\n",
       "      <th>1166</th>\n",
       "      <td>9.9</td>\n",
       "      <td>0.540</td>\n",
       "      <td>0.26</td>\n",
       "      <td>2.0</td>\n",
       "      <td>60.0</td>\n",
       "      <td>10.2</td>\n",
       "    </tr>\n",
       "    <tr>\n",
       "      <th>33</th>\n",
       "      <td>6.9</td>\n",
       "      <td>0.605</td>\n",
       "      <td>0.12</td>\n",
       "      <td>10.7</td>\n",
       "      <td>83.0</td>\n",
       "      <td>9.4</td>\n",
       "    </tr>\n",
       "    <tr>\n",
       "      <th>202</th>\n",
       "      <td>6.8</td>\n",
       "      <td>0.500</td>\n",
       "      <td>0.11</td>\n",
       "      <td>1.5</td>\n",
       "      <td>49.0</td>\n",
       "      <td>9.5</td>\n",
       "    </tr>\n",
       "    <tr>\n",
       "      <th>1019</th>\n",
       "      <td>7.0</td>\n",
       "      <td>0.500</td>\n",
       "      <td>0.14</td>\n",
       "      <td>1.8</td>\n",
       "      <td>23.0</td>\n",
       "      <td>10.4</td>\n",
       "    </tr>\n",
       "    <tr>\n",
       "      <th>...</th>\n",
       "      <td>...</td>\n",
       "      <td>...</td>\n",
       "      <td>...</td>\n",
       "      <td>...</td>\n",
       "      <td>...</td>\n",
       "      <td>...</td>\n",
       "    </tr>\n",
       "    <tr>\n",
       "      <th>1294</th>\n",
       "      <td>8.2</td>\n",
       "      <td>0.635</td>\n",
       "      <td>0.10</td>\n",
       "      <td>2.1</td>\n",
       "      <td>60.0</td>\n",
       "      <td>10.9</td>\n",
       "    </tr>\n",
       "    <tr>\n",
       "      <th>434</th>\n",
       "      <td>10.4</td>\n",
       "      <td>0.410</td>\n",
       "      <td>0.55</td>\n",
       "      <td>3.2</td>\n",
       "      <td>54.0</td>\n",
       "      <td>9.9</td>\n",
       "    </tr>\n",
       "    <tr>\n",
       "      <th>1094</th>\n",
       "      <td>6.6</td>\n",
       "      <td>0.725</td>\n",
       "      <td>0.09</td>\n",
       "      <td>5.5</td>\n",
       "      <td>17.0</td>\n",
       "      <td>10.8</td>\n",
       "    </tr>\n",
       "    <tr>\n",
       "      <th>1242</th>\n",
       "      <td>9.0</td>\n",
       "      <td>0.400</td>\n",
       "      <td>0.41</td>\n",
       "      <td>2.0</td>\n",
       "      <td>40.0</td>\n",
       "      <td>12.2</td>\n",
       "    </tr>\n",
       "    <tr>\n",
       "      <th>1451</th>\n",
       "      <td>7.8</td>\n",
       "      <td>0.320</td>\n",
       "      <td>0.44</td>\n",
       "      <td>2.7</td>\n",
       "      <td>17.0</td>\n",
       "      <td>11.0</td>\n",
       "    </tr>\n",
       "  </tbody>\n",
       "</table>\n",
       "<p>308 rows × 6 columns</p>\n",
       "</div>"
      ],
      "text/plain": [
       "      fixed_acidity  volatile_acidity  citric_acid  residual_sugar  \\\n",
       "184             6.7             0.620         0.21             1.9   \n",
       "1166            9.9             0.540         0.26             2.0   \n",
       "33              6.9             0.605         0.12            10.7   \n",
       "202             6.8             0.500         0.11             1.5   \n",
       "1019            7.0             0.500         0.14             1.8   \n",
       "...             ...               ...          ...             ...   \n",
       "1294            8.2             0.635         0.10             2.1   \n",
       "434            10.4             0.410         0.55             3.2   \n",
       "1094            6.6             0.725         0.09             5.5   \n",
       "1242            9.0             0.400         0.41             2.0   \n",
       "1451            7.8             0.320         0.44             2.7   \n",
       "\n",
       "      total_sulfur_dioxide  alcohol  \n",
       "184                   62.0      9.3  \n",
       "1166                  60.0     10.2  \n",
       "33                    83.0      9.4  \n",
       "202                   49.0      9.5  \n",
       "1019                  23.0     10.4  \n",
       "...                    ...      ...  \n",
       "1294                  60.0     10.9  \n",
       "434                   54.0      9.9  \n",
       "1094                  17.0     10.8  \n",
       "1242                  40.0     12.2  \n",
       "1451                  17.0     11.0  \n",
       "\n",
       "[308 rows x 6 columns]"
      ]
     },
     "execution_count": 2991,
     "metadata": {},
     "output_type": "execute_result"
    }
   ],
   "source": [
    "x_test"
   ]
  },
  {
   "cell_type": "code",
   "execution_count": 2992,
   "metadata": {},
   "outputs": [],
   "source": [
    "# data normalization with sklearn using RobustScaler\n",
    "from sklearn.preprocessing import RobustScaler\n",
    "\n",
    "# fit scaler on training data\n",
    "scaler = RobustScaler().fit(x_train)\n",
    "\n",
    "# transform training data\n",
    "x_train = scaler.transform(x_train)\n",
    "\n",
    "# transform testing data\n",
    "x_test = scaler.transform(x_test)\n"
   ]
  },
  {
   "cell_type": "markdown",
   "metadata": {},
   "source": [
    "# Build Models"
   ]
  },
  {
   "cell_type": "code",
   "execution_count": 2993,
   "metadata": {},
   "outputs": [],
   "source": [
    "kappa_total = []\n",
    "roc_auc_total = []"
   ]
  },
  {
   "cell_type": "markdown",
   "metadata": {},
   "source": [
    "# For Loop For Models"
   ]
  },
  {
   "cell_type": "code",
   "execution_count": 3035,
   "metadata": {},
   "outputs": [
    {
     "name": "stdout",
     "output_type": "stream",
     "text": [
      "Training LR...\n",
      "Accuracy for LR: 0.6818\n",
      "Cohen's Kappa for LR: 0.3724\n",
      "              precision    recall  f1-score   support\n",
      "\n",
      "         low       0.67      0.67      0.67       141\n",
      "      medium       0.69      0.71      0.70       161\n",
      "        high       0.00      0.00      0.00         6\n",
      "\n",
      "    accuracy                           0.68       308\n",
      "   macro avg       0.45      0.46      0.46       308\n",
      "weighted avg       0.67      0.68      0.67       308\n",
      "\n",
      "-------\n",
      "ROC AUC for LR: 0.8146\n",
      "=====================\n",
      "Training DTC...\n",
      "Accuracy for DTC: 0.7143\n",
      "Cohen's Kappa for DTC: 0.4457\n",
      "              precision    recall  f1-score   support\n",
      "\n",
      "         low       0.69      0.74      0.71       141\n",
      "      medium       0.74      0.71      0.72       161\n",
      "        high       0.50      0.33      0.40         6\n",
      "\n",
      "    accuracy                           0.71       308\n",
      "   macro avg       0.64      0.59      0.61       308\n",
      "weighted avg       0.71      0.71      0.71       308\n",
      "\n",
      "-------\n",
      "ROC AUC for DTC: 0.7041\n",
      "=====================\n",
      "Training GNB...\n",
      "Accuracy for GNB: 0.6558\n",
      "Cohen's Kappa for GNB: 0.3240\n",
      "              precision    recall  f1-score   support\n",
      "\n",
      "         low       0.64      0.68      0.66       141\n",
      "      medium       0.68      0.66      0.67       161\n",
      "        high       0.00      0.00      0.00         6\n",
      "\n",
      "    accuracy                           0.66       308\n",
      "   macro avg       0.44      0.45      0.44       308\n",
      "weighted avg       0.64      0.66      0.65       308\n",
      "\n",
      "-------\n",
      "ROC AUC for GNB: 0.8005\n",
      "=====================\n",
      "Training RF...\n",
      "Accuracy for RF: 0.7500\n",
      "Cohen's Kappa for RF: 0.5073\n",
      "              precision    recall  f1-score   support\n",
      "\n",
      "         low       0.76      0.72      0.74       141\n",
      "      medium       0.74      0.80      0.77       161\n",
      "        high       1.00      0.17      0.29         6\n",
      "\n",
      "    accuracy                           0.75       308\n",
      "   macro avg       0.83      0.56      0.60       308\n",
      "weighted avg       0.75      0.75      0.75       308\n",
      "\n",
      "-------\n",
      "ROC AUC for RF: 0.8992\n",
      "=====================\n",
      "Training SVC...\n"
     ]
    },
    {
     "name": "stderr",
     "output_type": "stream",
     "text": [
      "/opt/anaconda3/envs/MarcosPython10/lib/python3.10/site-packages/sklearn/metrics/_classification.py:1731: UndefinedMetricWarning: Precision is ill-defined and being set to 0.0 in labels with no predicted samples. Use `zero_division` parameter to control this behavior.\n",
      "  _warn_prf(average, modifier, f\"{metric.capitalize()} is\", result.shape[0])\n",
      "/opt/anaconda3/envs/MarcosPython10/lib/python3.10/site-packages/sklearn/metrics/_classification.py:1731: UndefinedMetricWarning: Precision is ill-defined and being set to 0.0 in labels with no predicted samples. Use `zero_division` parameter to control this behavior.\n",
      "  _warn_prf(average, modifier, f\"{metric.capitalize()} is\", result.shape[0])\n",
      "/opt/anaconda3/envs/MarcosPython10/lib/python3.10/site-packages/sklearn/metrics/_classification.py:1731: UndefinedMetricWarning: Precision is ill-defined and being set to 0.0 in labels with no predicted samples. Use `zero_division` parameter to control this behavior.\n",
      "  _warn_prf(average, modifier, f\"{metric.capitalize()} is\", result.shape[0])\n",
      "/opt/anaconda3/envs/MarcosPython10/lib/python3.10/site-packages/sklearn/metrics/_classification.py:1731: UndefinedMetricWarning: Precision is ill-defined and being set to 0.0 in labels with no predicted samples. Use `zero_division` parameter to control this behavior.\n",
      "  _warn_prf(average, modifier, f\"{metric.capitalize()} is\", result.shape[0])\n",
      "/opt/anaconda3/envs/MarcosPython10/lib/python3.10/site-packages/sklearn/metrics/_classification.py:1731: UndefinedMetricWarning: Precision is ill-defined and being set to 0.0 in labels with no predicted samples. Use `zero_division` parameter to control this behavior.\n",
      "  _warn_prf(average, modifier, f\"{metric.capitalize()} is\", result.shape[0])\n",
      "/opt/anaconda3/envs/MarcosPython10/lib/python3.10/site-packages/sklearn/metrics/_classification.py:1731: UndefinedMetricWarning: Precision is ill-defined and being set to 0.0 in labels with no predicted samples. Use `zero_division` parameter to control this behavior.\n",
      "  _warn_prf(average, modifier, f\"{metric.capitalize()} is\", result.shape[0])\n"
     ]
    },
    {
     "name": "stdout",
     "output_type": "stream",
     "text": [
      "Accuracy for SVC: 0.6818\n",
      "Cohen's Kappa for SVC: 0.3719\n",
      "              precision    recall  f1-score   support\n",
      "\n",
      "         low       0.68      0.67      0.67       141\n",
      "      medium       0.69      0.72      0.70       161\n",
      "        high       0.00      0.00      0.00         6\n",
      "\n",
      "    accuracy                           0.68       308\n",
      "   macro avg       0.45      0.46      0.46       308\n",
      "weighted avg       0.67      0.68      0.67       308\n",
      "\n",
      "-------\n",
      "ROC AUC for SVC: 0.8189\n",
      "=====================\n",
      "Training KNC...\n",
      "Accuracy for KNC: 0.6981\n",
      "Cohen's Kappa for KNC: 0.4032\n",
      "              precision    recall  f1-score   support\n",
      "\n",
      "         low       0.70      0.67      0.69       141\n",
      "      medium       0.70      0.75      0.72       161\n",
      "        high       0.00      0.00      0.00         6\n",
      "\n",
      "    accuracy                           0.70       308\n",
      "   macro avg       0.47      0.47      0.47       308\n",
      "weighted avg       0.68      0.70      0.69       308\n",
      "\n",
      "-------\n",
      "ROC AUC for KNC: 0.7335\n",
      "=====================\n",
      "Training MLPC...\n"
     ]
    },
    {
     "name": "stderr",
     "output_type": "stream",
     "text": [
      "/opt/anaconda3/envs/MarcosPython10/lib/python3.10/site-packages/sklearn/metrics/_classification.py:1731: UndefinedMetricWarning: Precision is ill-defined and being set to 0.0 in labels with no predicted samples. Use `zero_division` parameter to control this behavior.\n",
      "  _warn_prf(average, modifier, f\"{metric.capitalize()} is\", result.shape[0])\n",
      "/opt/anaconda3/envs/MarcosPython10/lib/python3.10/site-packages/sklearn/metrics/_classification.py:1731: UndefinedMetricWarning: Precision is ill-defined and being set to 0.0 in labels with no predicted samples. Use `zero_division` parameter to control this behavior.\n",
      "  _warn_prf(average, modifier, f\"{metric.capitalize()} is\", result.shape[0])\n",
      "/opt/anaconda3/envs/MarcosPython10/lib/python3.10/site-packages/sklearn/metrics/_classification.py:1731: UndefinedMetricWarning: Precision is ill-defined and being set to 0.0 in labels with no predicted samples. Use `zero_division` parameter to control this behavior.\n",
      "  _warn_prf(average, modifier, f\"{metric.capitalize()} is\", result.shape[0])\n",
      "/opt/anaconda3/envs/MarcosPython10/lib/python3.10/site-packages/sklearn/metrics/_classification.py:1731: UndefinedMetricWarning: Precision is ill-defined and being set to 0.0 in labels with no predicted samples. Use `zero_division` parameter to control this behavior.\n",
      "  _warn_prf(average, modifier, f\"{metric.capitalize()} is\", result.shape[0])\n",
      "/opt/anaconda3/envs/MarcosPython10/lib/python3.10/site-packages/sklearn/metrics/_classification.py:1731: UndefinedMetricWarning: Precision is ill-defined and being set to 0.0 in labels with no predicted samples. Use `zero_division` parameter to control this behavior.\n",
      "  _warn_prf(average, modifier, f\"{metric.capitalize()} is\", result.shape[0])\n",
      "/opt/anaconda3/envs/MarcosPython10/lib/python3.10/site-packages/sklearn/metrics/_classification.py:1731: UndefinedMetricWarning: Precision is ill-defined and being set to 0.0 in labels with no predicted samples. Use `zero_division` parameter to control this behavior.\n",
      "  _warn_prf(average, modifier, f\"{metric.capitalize()} is\", result.shape[0])\n"
     ]
    },
    {
     "name": "stdout",
     "output_type": "stream",
     "text": [
      "Accuracy for MLPC: 0.6753\n",
      "Cohen's Kappa for MLPC: 0.3607\n",
      "              precision    recall  f1-score   support\n",
      "\n",
      "         low       0.66      0.68      0.67       141\n",
      "      medium       0.69      0.70      0.69       161\n",
      "        high       0.00      0.00      0.00         6\n",
      "\n",
      "    accuracy                           0.68       308\n",
      "   macro avg       0.45      0.46      0.45       308\n",
      "weighted avg       0.66      0.68      0.67       308\n",
      "\n",
      "-------\n",
      "ROC AUC for MLPC: 0.8303\n",
      "=====================\n",
      "Summary of Cohen's Kappa scores:\n",
      "LR: 0.3724\n",
      "DTC: 0.4457\n",
      "GNB: 0.3240\n",
      "RF: 0.5073\n",
      "SVC: 0.3719\n",
      "KNC: 0.4032\n",
      "MLPC: 0.3607\n",
      "Summary of ROC AUC scores:\n",
      "LR: 0.8146\n",
      "DTC: 0.7041\n",
      "GNB: 0.8005\n",
      "RF: 0.8992\n",
      "SVC: 0.8189\n",
      "KNC: 0.7335\n",
      "MLPC: 0.8303\n"
     ]
    },
    {
     "name": "stderr",
     "output_type": "stream",
     "text": [
      "/opt/anaconda3/envs/MarcosPython10/lib/python3.10/site-packages/sklearn/neural_network/_multilayer_perceptron.py:781: ConvergenceWarning: Stochastic Optimizer: Maximum iterations (300) reached and the optimization hasn't converged yet.\n",
      "  warnings.warn(\n",
      "/opt/anaconda3/envs/MarcosPython10/lib/python3.10/site-packages/sklearn/metrics/_classification.py:1731: UndefinedMetricWarning: Precision is ill-defined and being set to 0.0 in labels with no predicted samples. Use `zero_division` parameter to control this behavior.\n",
      "  _warn_prf(average, modifier, f\"{metric.capitalize()} is\", result.shape[0])\n",
      "/opt/anaconda3/envs/MarcosPython10/lib/python3.10/site-packages/sklearn/metrics/_classification.py:1731: UndefinedMetricWarning: Precision is ill-defined and being set to 0.0 in labels with no predicted samples. Use `zero_division` parameter to control this behavior.\n",
      "  _warn_prf(average, modifier, f\"{metric.capitalize()} is\", result.shape[0])\n",
      "/opt/anaconda3/envs/MarcosPython10/lib/python3.10/site-packages/sklearn/metrics/_classification.py:1731: UndefinedMetricWarning: Precision is ill-defined and being set to 0.0 in labels with no predicted samples. Use `zero_division` parameter to control this behavior.\n",
      "  _warn_prf(average, modifier, f\"{metric.capitalize()} is\", result.shape[0])\n"
     ]
    }
   ],
   "source": [
    "models_list = ['LR', 'DTC', 'GNB', 'RF', 'SVC', 'KNC', 'MLPC']\n",
    "\n",
    "models = {\n",
    "    'LR': LogisticRegression(random_state=42, max_iter=100),\n",
    "    'DTC': DecisionTreeClassifier(random_state=42),\n",
    "    'GNB': GaussianNB(),\n",
    "    'RF': RandomForestClassifier(random_state=42),\n",
    "    'SVC': SVC(probability=True, random_state=42),  # set probability=True for roc_auc_score\n",
    "    'KNC': KNeighborsClassifier(),\n",
    "    'MLPC': MLPClassifier(random_state=42, max_iter=300),\n",
    "}\n",
    "\n",
    "kappa_scores = {}\n",
    "roc_auc_scores = {}\n",
    "\n",
    "for name, model in models.items():\n",
    "    print(f\"Training {name}...\")\n",
    "    model.fit(x_train, y_train)\n",
    "\n",
    "    preds = model.predict(x_test)\n",
    "    acc = accuracy_score(y_test, preds)\n",
    "    kappa = cohen_kappa_score(y_test, preds)\n",
    "\n",
    "    print(f\"Accuracy for {name}: {acc:.4f}\")\n",
    "    print(f\"Cohen's Kappa for {name}: {kappa:.4f}\")\n",
    "    print(classification_report(y_test, preds, target_names=[\"low\", \"medium\", \"high\"]))\n",
    "    print('-------')\n",
    "\n",
    "    kappa_scores[name] = kappa\n",
    "\n",
    "    if hasattr(model, \"predict_proba\"):\n",
    "        probs = model.predict_proba(x_test)\n",
    "        try:\n",
    "            roc_auc = roc_auc_score(y_test, probs, multi_class='ovr')\n",
    "            print(f\"ROC AUC for {name}: {roc_auc:.4f}\")\n",
    "            roc_auc_scores[name] = roc_auc\n",
    "        except Exception as e:\n",
    "            print(f\"Could not calculate ROC AUC for {name}: {e}\")\n",
    "    else:\n",
    "        print(f\"{name} does not support predict_proba, skipping ROC AUC.\")\n",
    "    \n",
    "    print('=====================')\n",
    "\n",
    "print(\"Summary of Cohen's Kappa scores:\")\n",
    "for name, score in kappa_scores.items():\n",
    "    print(f\"{name}: {score:.4f}\")\n",
    "\n",
    "print(\"Summary of ROC AUC scores:\")\n",
    "for name, score in roc_auc_scores.items():\n",
    "    print(f\"{name}: {score:.4f}\")\n",
    "    "
   ]
  },
  {
   "cell_type": "markdown",
   "metadata": {},
   "source": [
    "# Logistic Regression"
   ]
  },
  {
   "cell_type": "code",
   "execution_count": null,
   "metadata": {},
   "outputs": [
    {
     "data": {
      "text/plain": [
       "array([[-0.52380952,  0.375     , -0.125     , -0.42857143,  0.64102564,\n",
       "        -0.5625    ],\n",
       "       [ 1.        ,  0.04166667,  0.03125   , -0.28571429,  0.58974359,\n",
       "         0.        ],\n",
       "       [-0.42857143,  0.3125    , -0.40625   , 12.14285714,  1.17948718,\n",
       "        -0.5       ],\n",
       "       ...,\n",
       "       [-0.57142857,  0.8125    , -0.5       ,  4.71428571, -0.51282051,\n",
       "         0.375     ],\n",
       "       [ 0.57142857, -0.54166667,  0.5       , -0.28571429,  0.07692308,\n",
       "         1.25      ],\n",
       "       [ 0.        , -0.875     ,  0.59375   ,  0.71428571, -0.51282051,\n",
       "         0.5       ]], shape=(308, 6))"
      ]
     },
     "execution_count": 2994,
     "metadata": {},
     "output_type": "execute_result"
    }
   ],
   "source": [
    "# x_test"
   ]
  },
  {
   "cell_type": "code",
   "execution_count": null,
   "metadata": {},
   "outputs": [
    {
     "name": "stdout",
     "output_type": "stream",
     "text": [
      "0.6818181818181818\n"
     ]
    }
   ],
   "source": [
    "\n",
    "# # LogisticRegression model\n",
    "# LR_model = LogisticRegression(random_state=42, max_iter=100)\n",
    "# # fit model\n",
    "# LR_model.fit(x_train, y_train)\n",
    "# # predictions\n",
    "# preds_LR = LR_model.predict(x_test)\n",
    "# from sklearn.metrics import mean_squared_error, accuracy_score # rmse root mean square error\n",
    "\n",
    "# acc_LR = accuracy_score(y_test, preds_LR)\n",
    "# print(acc_LR)"
   ]
  },
  {
   "cell_type": "markdown",
   "metadata": {},
   "source": [
    "# LR Evaluation"
   ]
  },
  {
   "cell_type": "code",
   "execution_count": null,
   "metadata": {},
   "outputs": [
    {
     "name": "stdout",
     "output_type": "stream",
     "text": [
      "<class 'pandas.core.series.Series'>\n",
      "<class 'numpy.ndarray'>\n",
      "{0, 1, 2}\n",
      "{np.int64(0), np.int64(1)}\n"
     ]
    }
   ],
   "source": [
    "# print(type(y_test))\n",
    "# print(type(preds_LR))\n",
    "\n",
    "# print(set(y_test))\n",
    "# print(set(preds_LR))\n"
   ]
  },
  {
   "cell_type": "code",
   "execution_count": null,
   "metadata": {},
   "outputs": [
    {
     "name": "stdout",
     "output_type": "stream",
     "text": [
      "              precision    recall  f1-score   support\n",
      "\n",
      "           0       0.67      0.67      0.67       141\n",
      "           1       0.69      0.71      0.70       161\n",
      "           2       0.00      0.00      0.00         6\n",
      "\n",
      "    accuracy                           0.68       308\n",
      "   macro avg       0.45      0.46      0.46       308\n",
      "weighted avg       0.67      0.68      0.67       308\n",
      "\n"
     ]
    },
    {
     "name": "stderr",
     "output_type": "stream",
     "text": [
      "/opt/anaconda3/envs/MarcosPython10/lib/python3.10/site-packages/sklearn/metrics/_classification.py:1731: UndefinedMetricWarning: Precision is ill-defined and being set to 0.0 in labels with no predicted samples. Use `zero_division` parameter to control this behavior.\n",
      "  _warn_prf(average, modifier, f\"{metric.capitalize()} is\", result.shape[0])\n",
      "/opt/anaconda3/envs/MarcosPython10/lib/python3.10/site-packages/sklearn/metrics/_classification.py:1731: UndefinedMetricWarning: Precision is ill-defined and being set to 0.0 in labels with no predicted samples. Use `zero_division` parameter to control this behavior.\n",
      "  _warn_prf(average, modifier, f\"{metric.capitalize()} is\", result.shape[0])\n",
      "/opt/anaconda3/envs/MarcosPython10/lib/python3.10/site-packages/sklearn/metrics/_classification.py:1731: UndefinedMetricWarning: Precision is ill-defined and being set to 0.0 in labels with no predicted samples. Use `zero_division` parameter to control this behavior.\n",
      "  _warn_prf(average, modifier, f\"{metric.capitalize()} is\", result.shape[0])\n"
     ]
    },
    {
     "data": {
      "text/plain": [
       "array([[ 95,  46,   0],\n",
       "       [ 46, 115,   0],\n",
       "       [  0,   6,   0]])"
      ]
     },
     "execution_count": 2997,
     "metadata": {},
     "output_type": "execute_result"
    }
   ],
   "source": [
    "# print(classification_report(y_test, preds_LR))\n",
    "# confusion_matrix(y_test, preds_LR)"
   ]
  },
  {
   "cell_type": "code",
   "execution_count": null,
   "metadata": {},
   "outputs": [
    {
     "data": {
      "image/png": "[encoded data removed]",
      "text/plain": [
       "<Figure size 400x200 with 1 Axes>"
      ]
     },
     "metadata": {},
     "output_type": "display_data"
    }
   ],
   "source": [
    "# cm = confusion_matrix(y_test, preds_LR)\n",
    "# cm_df = pd.DataFrame(cm,\n",
    "#                      index = [\"Low\",\"Medium\",\"High\"],\n",
    "#                      columns = [\"Low\",\"Medium\",\"High\"])\n",
    "# plt.figure(figsize=(4,2))\n",
    "\n",
    "# # Create a custom color map where all values are white\n",
    "# cmap = sns.color_palette([\"#FFFFFF\"])\n",
    "\n",
    "# sns.heatmap(cm_df, annot=True, fmt='d', cmap=cmap, cbar=False, linewidths=.8, linecolor='black', annot_kws={\"color\": \"black\"})\n",
    "# plt.title('Wine Quality Confusion Matrix LR Evaluation')\n",
    "# plt.ylabel('Actual Values')\n",
    "# plt.xlabel('Predicted Values')\n",
    "# plt.show()"
   ]
  },
  {
   "cell_type": "code",
   "execution_count": null,
   "metadata": {},
   "outputs": [
    {
     "name": "stdout",
     "output_type": "stream",
     "text": [
      "Accuracy score: 0.6818181818181818\n",
      "-------\n",
      "-------\n",
      "-------\n",
      "-------\n",
      "              precision    recall  f1-score   support\n",
      "\n",
      "         low       0.67      0.67      0.67       141\n",
      "      medium       0.69      0.71      0.70       161\n",
      "        high       0.00      0.00      0.00         6\n",
      "\n",
      "    accuracy                           0.68       308\n",
      "   macro avg       0.45      0.46      0.46       308\n",
      "weighted avg       0.67      0.68      0.67       308\n",
      "\n",
      "-------\n",
      "-------\n",
      "-------\n",
      "-------\n",
      "Cohen-Kappa score kappa_LR: 0.3724218230206253\n",
      "-------\n",
      "-------\n",
      "-------\n",
      "-------\n"
     ]
    },
    {
     "name": "stderr",
     "output_type": "stream",
     "text": [
      "/opt/anaconda3/envs/MarcosPython10/lib/python3.10/site-packages/sklearn/metrics/_classification.py:1731: UndefinedMetricWarning: Precision is ill-defined and being set to 0.0 in labels with no predicted samples. Use `zero_division` parameter to control this behavior.\n",
      "  _warn_prf(average, modifier, f\"{metric.capitalize()} is\", result.shape[0])\n",
      "/opt/anaconda3/envs/MarcosPython10/lib/python3.10/site-packages/sklearn/metrics/_classification.py:1731: UndefinedMetricWarning: Precision is ill-defined and being set to 0.0 in labels with no predicted samples. Use `zero_division` parameter to control this behavior.\n",
      "  _warn_prf(average, modifier, f\"{metric.capitalize()} is\", result.shape[0])\n",
      "/opt/anaconda3/envs/MarcosPython10/lib/python3.10/site-packages/sklearn/metrics/_classification.py:1731: UndefinedMetricWarning: Precision is ill-defined and being set to 0.0 in labels with no predicted samples. Use `zero_division` parameter to control this behavior.\n",
      "  _warn_prf(average, modifier, f\"{metric.capitalize()} is\", result.shape[0])\n"
     ]
    }
   ],
   "source": [
    "# print(\"Accuracy score:\", accuracy_score(y_test, preds_LR))\n",
    "\n",
    "# print('-------')\n",
    "# print('-------')\n",
    "# print('-------')\n",
    "# print('-------')\n",
    "\n",
    "# print(classification_report(y_test, preds_LR, target_names=[\"low\",\"medium\", 'high']))\n",
    "\n",
    "# print('-------')\n",
    "# print('-------')\n",
    "# print('-------')\n",
    "# print('-------')\n",
    "\n",
    "# from sklearn.metrics import cohen_kappa_score\n",
    "# kappa_LR = cohen_kappa_score(preds_LR, y_test)\n",
    "# kappa_total.append(kappa_LR)\n",
    "# print(\"Cohen-Kappa score kappa_LR:\", kappa_LR)\n",
    "\n",
    "\n",
    "# print('-------')\n",
    "# print('-------')\n",
    "# print('-------')\n",
    "# print('-------')\n"
   ]
  },
  {
   "cell_type": "markdown",
   "metadata": {},
   "source": [
    "# Decision Tree Classifier"
   ]
  },
  {
   "cell_type": "code",
   "execution_count": 3000,
   "metadata": {},
   "outputs": [
    {
     "name": "stdout",
     "output_type": "stream",
     "text": [
      "0.7142857142857143\n"
     ]
    }
   ],
   "source": [
    "\n",
    "DTC_model = DecisionTreeClassifier(random_state=42)\n",
    "\n",
    "# fit model\n",
    "DTC_model.fit(x_train, y_train)\n",
    "\n",
    "# predictions\n",
    "predsDTC = DTC_model.predict(x_test)\n",
    "\n",
    "from sklearn.metrics import mean_squared_error, accuracy_score # rmse root mean square error\n",
    "\n",
    "acc_DTC = accuracy_score(y_test, predsDTC)\n",
    "print(acc_DTC)"
   ]
  },
  {
   "cell_type": "markdown",
   "metadata": {},
   "source": [
    "# DTC Evaluation"
   ]
  },
  {
   "cell_type": "code",
   "execution_count": 3001,
   "metadata": {},
   "outputs": [
    {
     "name": "stdout",
     "output_type": "stream",
     "text": [
      "              precision    recall  f1-score   support\n",
      "\n",
      "           0       0.69      0.74      0.71       141\n",
      "           1       0.74      0.71      0.72       161\n",
      "           2       0.50      0.33      0.40         6\n",
      "\n",
      "    accuracy                           0.71       308\n",
      "   macro avg       0.64      0.59      0.61       308\n",
      "weighted avg       0.71      0.71      0.71       308\n",
      "\n"
     ]
    },
    {
     "data": {
      "text/plain": [
       "array([[104,  37,   0],\n",
       "       [ 45, 114,   2],\n",
       "       [  1,   3,   2]])"
      ]
     },
     "execution_count": 3001,
     "metadata": {},
     "output_type": "execute_result"
    }
   ],
   "source": [
    "print(classification_report(y_test, predsDTC))\n",
    "confusion_matrix(y_test, predsDTC)\n",
    "\n"
   ]
  },
  {
   "cell_type": "code",
   "execution_count": 3002,
   "metadata": {},
   "outputs": [
    {
     "data": {
      "image/png": "[encoded data removed]",
      "text/plain": [
       "<Figure size 400x200 with 1 Axes>"
      ]
     },
     "metadata": {},
     "output_type": "display_data"
    }
   ],
   "source": [
    "cm = confusion_matrix(y_test, predsDTC)\n",
    "cm_df = pd.DataFrame(cm,\n",
    "                     index = [\"Low\",\"Medium\",\"High\"],\n",
    "                     columns = [\"Low\",\"Medium\",\"High\"])\n",
    "plt.figure(figsize=(4,2))\n",
    "\n",
    "# Create a custom color map where all values are white\n",
    "cmap = sns.color_palette([\"#FFFFFF\"])\n",
    "\n",
    "sns.heatmap(cm_df, annot=True, fmt='d', cmap=cmap, cbar=False, linewidths=.8, linecolor='black', annot_kws={\"color\": \"black\"})\n",
    "plt.title('Wine Quality Confusion Matrix DTC Evaluation')\n",
    "plt.ylabel('Actual Values')\n",
    "plt.xlabel('Predicted Values')\n",
    "plt.show()"
   ]
  },
  {
   "cell_type": "code",
   "execution_count": 3003,
   "metadata": {},
   "outputs": [
    {
     "name": "stdout",
     "output_type": "stream",
     "text": [
      "-------\n",
      "-------\n",
      "-------\n",
      "-------\n",
      "Accuracy score: 0.7142857142857143\n",
      "-------\n",
      "-------\n",
      "-------\n",
      "-------\n",
      "              precision    recall  f1-score   support\n",
      "\n",
      "         low       0.67      0.67      0.67       141\n",
      "      medium       0.69      0.71      0.70       161\n",
      "        high       0.00      0.00      0.00         6\n",
      "\n",
      "    accuracy                           0.68       308\n",
      "   macro avg       0.45      0.46      0.46       308\n",
      "weighted avg       0.67      0.68      0.67       308\n",
      "\n",
      "-------\n",
      "-------\n",
      "-------\n",
      "-------\n",
      "Cohen-Kappa score kappaDTC: 0.4456806282722513\n",
      "-------\n",
      "-------\n",
      "-------\n",
      "-------\n"
     ]
    },
    {
     "name": "stderr",
     "output_type": "stream",
     "text": [
      "/opt/anaconda3/envs/MarcosPython10/lib/python3.10/site-packages/sklearn/metrics/_classification.py:1731: UndefinedMetricWarning: Precision is ill-defined and being set to 0.0 in labels with no predicted samples. Use `zero_division` parameter to control this behavior.\n",
      "  _warn_prf(average, modifier, f\"{metric.capitalize()} is\", result.shape[0])\n",
      "/opt/anaconda3/envs/MarcosPython10/lib/python3.10/site-packages/sklearn/metrics/_classification.py:1731: UndefinedMetricWarning: Precision is ill-defined and being set to 0.0 in labels with no predicted samples. Use `zero_division` parameter to control this behavior.\n",
      "  _warn_prf(average, modifier, f\"{metric.capitalize()} is\", result.shape[0])\n",
      "/opt/anaconda3/envs/MarcosPython10/lib/python3.10/site-packages/sklearn/metrics/_classification.py:1731: UndefinedMetricWarning: Precision is ill-defined and being set to 0.0 in labels with no predicted samples. Use `zero_division` parameter to control this behavior.\n",
      "  _warn_prf(average, modifier, f\"{metric.capitalize()} is\", result.shape[0])\n"
     ]
    }
   ],
   "source": [
    "print('-------')\n",
    "print('-------')\n",
    "print('-------')\n",
    "print('-------')\n",
    "\n",
    "print(\"Accuracy score:\", accuracy_score(y_test, predsDTC))\n",
    "\n",
    "print('-------')\n",
    "print('-------')\n",
    "print('-------')\n",
    "print('-------')\n",
    "\n",
    "print(classification_report(y_test, preds_LR, target_names=[\"low\",\"medium\", 'high']))\n",
    "\n",
    "print('-------')\n",
    "print('-------')\n",
    "print('-------')\n",
    "print('-------')\n",
    "\n",
    "from sklearn.metrics import cohen_kappa_score\n",
    "kappaDTC = cohen_kappa_score(predsDTC, y_test)\n",
    "kappa_total.append(kappaDTC)\n",
    "print(\"Cohen-Kappa score kappaDTC:\", kappaDTC)\n",
    "\n",
    "print('-------')\n",
    "print('-------')\n",
    "print('-------')\n",
    "print('-------')"
   ]
  },
  {
   "cell_type": "markdown",
   "metadata": {},
   "source": [
    "# GaussianNB"
   ]
  },
  {
   "cell_type": "code",
   "execution_count": 3004,
   "metadata": {},
   "outputs": [
    {
     "name": "stdout",
     "output_type": "stream",
     "text": [
      "0.6558441558441559\n"
     ]
    }
   ],
   "source": [
    "\n",
    "\n",
    "GNB_model = GaussianNB()\n",
    "\n",
    "# fit model\n",
    "GNB_model.fit(x_train, y_train)\n",
    "\n",
    "# predictions\n",
    "predsGNB = GNB_model.predict(x_test)\n",
    "\n",
    "from sklearn.metrics import mean_squared_error, accuracy_score \n",
    "\n",
    "acc_GNB = accuracy_score(y_test, predsGNB)\n",
    "print(acc_GNB)"
   ]
  },
  {
   "cell_type": "markdown",
   "metadata": {},
   "source": [
    "# GNB Evaluation"
   ]
  },
  {
   "cell_type": "code",
   "execution_count": 3005,
   "metadata": {},
   "outputs": [
    {
     "name": "stdout",
     "output_type": "stream",
     "text": [
      "              precision    recall  f1-score   support\n",
      "\n",
      "           0       0.64      0.68      0.66       141\n",
      "           1       0.68      0.66      0.67       161\n",
      "           2       0.00      0.00      0.00         6\n",
      "\n",
      "    accuracy                           0.66       308\n",
      "   macro avg       0.44      0.45      0.44       308\n",
      "weighted avg       0.64      0.66      0.65       308\n",
      "\n"
     ]
    },
    {
     "name": "stderr",
     "output_type": "stream",
     "text": [
      "/opt/anaconda3/envs/MarcosPython10/lib/python3.10/site-packages/sklearn/metrics/_classification.py:1731: UndefinedMetricWarning: Precision is ill-defined and being set to 0.0 in labels with no predicted samples. Use `zero_division` parameter to control this behavior.\n",
      "  _warn_prf(average, modifier, f\"{metric.capitalize()} is\", result.shape[0])\n",
      "/opt/anaconda3/envs/MarcosPython10/lib/python3.10/site-packages/sklearn/metrics/_classification.py:1731: UndefinedMetricWarning: Precision is ill-defined and being set to 0.0 in labels with no predicted samples. Use `zero_division` parameter to control this behavior.\n",
      "  _warn_prf(average, modifier, f\"{metric.capitalize()} is\", result.shape[0])\n",
      "/opt/anaconda3/envs/MarcosPython10/lib/python3.10/site-packages/sklearn/metrics/_classification.py:1731: UndefinedMetricWarning: Precision is ill-defined and being set to 0.0 in labels with no predicted samples. Use `zero_division` parameter to control this behavior.\n",
      "  _warn_prf(average, modifier, f\"{metric.capitalize()} is\", result.shape[0])\n"
     ]
    },
    {
     "data": {
      "text/plain": [
       "array([[ 96,  45,   0],\n",
       "       [ 55, 106,   0],\n",
       "       [  0,   6,   0]])"
      ]
     },
     "execution_count": 3005,
     "metadata": {},
     "output_type": "execute_result"
    }
   ],
   "source": [
    "print(classification_report(y_test, predsGNB))\n",
    "confusion_matrix(y_test, predsGNB)"
   ]
  },
  {
   "cell_type": "code",
   "execution_count": 3006,
   "metadata": {},
   "outputs": [
    {
     "data": {
      "image/png": "[encoded data removed]",
      "text/plain": [
       "<Figure size 400x200 with 1 Axes>"
      ]
     },
     "metadata": {},
     "output_type": "display_data"
    }
   ],
   "source": [
    "cm = confusion_matrix(y_test, predsGNB)\n",
    "cm_df = pd.DataFrame(cm,\n",
    "                     index = [\"Low\",\"Medium\",\"High\"],\n",
    "                     columns = [\"Low\",\"Medium\",\"High\"])\n",
    "plt.figure(figsize=(4,2))\n",
    "\n",
    "# Create a custom color map where all values are white\n",
    "cmap = sns.color_palette([\"#FFFFFF\"])\n",
    "\n",
    "sns.heatmap(cm_df, annot=True, fmt='d', cmap=cmap, cbar=False, linewidths=.8, linecolor='black', annot_kws={\"color\": \"black\"})\n",
    "plt.title('Wine Quality Confusion Matrix GNB Evaluation')\n",
    "plt.ylabel('Actual Values')\n",
    "plt.xlabel('Predicted Values')\n",
    "plt.show()"
   ]
  },
  {
   "cell_type": "code",
   "execution_count": 3007,
   "metadata": {},
   "outputs": [
    {
     "name": "stdout",
     "output_type": "stream",
     "text": [
      "Accuracy score: 0.6558441558441559\n",
      "-------\n",
      "-------\n",
      "-------\n",
      "-------\n",
      "              precision    recall  f1-score   support\n",
      "\n",
      "         low       0.67      0.67      0.67       141\n",
      "      medium       0.69      0.71      0.70       161\n",
      "        high       0.00      0.00      0.00         6\n",
      "\n",
      "    accuracy                           0.68       308\n",
      "   macro avg       0.45      0.46      0.46       308\n",
      "weighted avg       0.67      0.68      0.67       308\n",
      "\n",
      "-------\n",
      "-------\n",
      "-------\n",
      "-------\n",
      "Cohen-Kappa score kappaGNB: 0.3240019877422561\n",
      "-------\n",
      "-------\n",
      "-------\n",
      "-------\n"
     ]
    },
    {
     "name": "stderr",
     "output_type": "stream",
     "text": [
      "/opt/anaconda3/envs/MarcosPython10/lib/python3.10/site-packages/sklearn/metrics/_classification.py:1731: UndefinedMetricWarning: Precision is ill-defined and being set to 0.0 in labels with no predicted samples. Use `zero_division` parameter to control this behavior.\n",
      "  _warn_prf(average, modifier, f\"{metric.capitalize()} is\", result.shape[0])\n",
      "/opt/anaconda3/envs/MarcosPython10/lib/python3.10/site-packages/sklearn/metrics/_classification.py:1731: UndefinedMetricWarning: Precision is ill-defined and being set to 0.0 in labels with no predicted samples. Use `zero_division` parameter to control this behavior.\n",
      "  _warn_prf(average, modifier, f\"{metric.capitalize()} is\", result.shape[0])\n",
      "/opt/anaconda3/envs/MarcosPython10/lib/python3.10/site-packages/sklearn/metrics/_classification.py:1731: UndefinedMetricWarning: Precision is ill-defined and being set to 0.0 in labels with no predicted samples. Use `zero_division` parameter to control this behavior.\n",
      "  _warn_prf(average, modifier, f\"{metric.capitalize()} is\", result.shape[0])\n"
     ]
    }
   ],
   "source": [
    "print(\"Accuracy score:\", accuracy_score(y_test, predsGNB))\n",
    "\n",
    "print('-------')\n",
    "print('-------')\n",
    "print('-------')\n",
    "print('-------')\n",
    "\n",
    "print(classification_report(y_test, preds_LR, target_names=[\"low\",\"medium\", 'high']))\n",
    "\n",
    "print('-------')\n",
    "print('-------')\n",
    "print('-------')\n",
    "print('-------')\n",
    "\n",
    "from sklearn.metrics import cohen_kappa_score\n",
    "kappaGNB = cohen_kappa_score(predsGNB, y_test)\n",
    "kappa_total.append(kappaGNB)\n",
    "print(\"Cohen-Kappa score kappaGNB:\", kappaGNB)\n",
    "\n",
    "print('-------')\n",
    "print('-------')\n",
    "print('-------')\n",
    "print('-------')"
   ]
  },
  {
   "cell_type": "markdown",
   "metadata": {},
   "source": [
    "# Random Forest"
   ]
  },
  {
   "cell_type": "code",
   "execution_count": 3008,
   "metadata": {},
   "outputs": [
    {
     "name": "stdout",
     "output_type": "stream",
     "text": [
      "0.7597402597402597\n"
     ]
    }
   ],
   "source": [
    "# Random Forest Classifier model\n",
    "RF_clf = RandomForestClassifier(n_estimators = 100, criterion = 'entropy', random_state=101)\n",
    "# fit model\n",
    "RF_clf.fit(x_train, y_train)\n",
    "# predictions\n",
    "predsRF = RF_clf.predict(x_test)\n",
    "# accuracy\n",
    "acc_RF = accuracy_score(y_test, predsRF)\n",
    "print(acc_RF)"
   ]
  },
  {
   "cell_type": "markdown",
   "metadata": {},
   "source": [
    "# RF Evaluation"
   ]
  },
  {
   "cell_type": "code",
   "execution_count": 3009,
   "metadata": {},
   "outputs": [
    {
     "name": "stdout",
     "output_type": "stream",
     "text": [
      "              precision    recall  f1-score   support\n",
      "\n",
      "           0       0.77      0.73      0.75       141\n",
      "           1       0.75      0.81      0.78       161\n",
      "           2       1.00      0.17      0.29         6\n",
      "\n",
      "    accuracy                           0.76       308\n",
      "   macro avg       0.84      0.57      0.60       308\n",
      "weighted avg       0.76      0.76      0.76       308\n",
      "\n"
     ]
    },
    {
     "data": {
      "text/plain": [
       "array([[103,  38,   0],\n",
       "       [ 31, 130,   0],\n",
       "       [  0,   5,   1]])"
      ]
     },
     "execution_count": 3009,
     "metadata": {},
     "output_type": "execute_result"
    }
   ],
   "source": [
    "print(classification_report(y_test, predsRF))\n",
    "confusion_matrix(y_test, predsRF)"
   ]
  },
  {
   "cell_type": "code",
   "execution_count": 3010,
   "metadata": {},
   "outputs": [
    {
     "data": {
      "image/png": "[encoded data removed]",
      "text/plain": [
       "<Figure size 400x200 with 1 Axes>"
      ]
     },
     "metadata": {},
     "output_type": "display_data"
    }
   ],
   "source": [
    "cm = confusion_matrix(y_test, predsRF)\n",
    "cm_df = pd.DataFrame(cm,\n",
    "                     index = [\"Low\",\"Medium\",\"High\"],\n",
    "                     columns = [\"Low\",\"Medium\",\"High\"])\n",
    "plt.figure(figsize=(4,2))\n",
    "\n",
    "# Create a custom color map where all values are white\n",
    "cmap = sns.color_palette([\"#FFFFFF\"])\n",
    "\n",
    "sns.heatmap(cm_df, annot=True, fmt='d', cmap=cmap, cbar=False, linewidths=.8, linecolor='black', annot_kws={\"color\": \"black\"})\n",
    "plt.title('Wine Quality Confusion Matrix RF Evaluation')\n",
    "plt.ylabel('Actual Values')\n",
    "plt.xlabel('Predicted Values')\n",
    "plt.show()"
   ]
  },
  {
   "cell_type": "code",
   "execution_count": 3011,
   "metadata": {},
   "outputs": [
    {
     "name": "stdout",
     "output_type": "stream",
     "text": [
      "Accuracy score: 0.7597402597402597\n",
      "-------\n",
      "-------\n",
      "-------\n",
      "-------\n",
      "              precision    recall  f1-score   support\n",
      "\n",
      "         low       0.67      0.67      0.67       141\n",
      "      medium       0.69      0.71      0.70       161\n",
      "        high       0.00      0.00      0.00         6\n",
      "\n",
      "    accuracy                           0.68       308\n",
      "   macro avg       0.45      0.46      0.46       308\n",
      "weighted avg       0.67      0.68      0.67       308\n",
      "\n",
      "-------\n",
      "-------\n",
      "-------\n",
      "-------\n",
      "Cohen-Kappa score kappaRF: 0.5262621853630147\n",
      "-------\n",
      "-------\n",
      "-------\n",
      "-------\n",
      "MLPC ROC AUC: 0.8659938260173008\n",
      "-------\n",
      "-------\n",
      "-------\n",
      "-------\n"
     ]
    },
    {
     "name": "stderr",
     "output_type": "stream",
     "text": [
      "/opt/anaconda3/envs/MarcosPython10/lib/python3.10/site-packages/sklearn/metrics/_classification.py:1731: UndefinedMetricWarning: Precision is ill-defined and being set to 0.0 in labels with no predicted samples. Use `zero_division` parameter to control this behavior.\n",
      "  _warn_prf(average, modifier, f\"{metric.capitalize()} is\", result.shape[0])\n",
      "/opt/anaconda3/envs/MarcosPython10/lib/python3.10/site-packages/sklearn/metrics/_classification.py:1731: UndefinedMetricWarning: Precision is ill-defined and being set to 0.0 in labels with no predicted samples. Use `zero_division` parameter to control this behavior.\n",
      "  _warn_prf(average, modifier, f\"{metric.capitalize()} is\", result.shape[0])\n",
      "/opt/anaconda3/envs/MarcosPython10/lib/python3.10/site-packages/sklearn/metrics/_classification.py:1731: UndefinedMetricWarning: Precision is ill-defined and being set to 0.0 in labels with no predicted samples. Use `zero_division` parameter to control this behavior.\n",
      "  _warn_prf(average, modifier, f\"{metric.capitalize()} is\", result.shape[0])\n"
     ]
    }
   ],
   "source": [
    "print(\"Accuracy score:\", accuracy_score(y_test, predsRF))\n",
    "\n",
    "print('-------')\n",
    "print('-------')\n",
    "print('-------')\n",
    "print('-------')\n",
    "\n",
    "print(classification_report(y_test, preds_LR, target_names=[\"low\",\"medium\", 'high']))\n",
    "\n",
    "print('-------')\n",
    "print('-------')\n",
    "print('-------')\n",
    "print('-------')\n",
    "\n",
    "from sklearn.metrics import cohen_kappa_score\n",
    "kappaRF = cohen_kappa_score(predsRF, y_test)\n",
    "kappa_total.append(kappaRF)\n",
    "print(\"Cohen-Kappa score kappaRF:\", kappaRF)\n",
    "\n",
    "print('-------')\n",
    "print('-------')\n",
    "print('-------')\n",
    "print('-------')\n",
    "\n",
    "\n",
    "probs_RF = RF_clf.predict_proba(x_test)\n",
    "auc_score_RF = roc_auc_score(y_test, probs_RF, multi_class='ovr')\n",
    "roc_auc_total.append(auc_score_RF)\n",
    "print(\"MLPC ROC AUC:\", auc_score_RF)\n",
    "\n",
    "print('-------')\n",
    "print('-------')\n",
    "print('-------')\n",
    "print('-------')"
   ]
  },
  {
   "cell_type": "markdown",
   "metadata": {},
   "source": [
    "# SVC Model"
   ]
  },
  {
   "cell_type": "code",
   "execution_count": 3012,
   "metadata": {},
   "outputs": [
    {
     "name": "stdout",
     "output_type": "stream",
     "text": [
      "0.6818181818181818\n"
     ]
    }
   ],
   "source": [
    "\n",
    "\n",
    "SVC_model = SVC(random_state=42, probability=True)\n",
    "\n",
    "# fit model\n",
    "SVC_model.fit(x_train, y_train)\n",
    "\n",
    "# predictions\n",
    "predsSVC = SVC_model.predict(x_test)\n",
    "\n",
    "from sklearn.metrics import mean_squared_error, accuracy_score # rmse root mean square error\n",
    "\n",
    "acc_SVC = accuracy_score(y_test, predsSVC)\n",
    "print(acc_SVC)"
   ]
  },
  {
   "cell_type": "markdown",
   "metadata": {},
   "source": [
    "# SVC Evaluation"
   ]
  },
  {
   "cell_type": "code",
   "execution_count": 3013,
   "metadata": {},
   "outputs": [
    {
     "name": "stdout",
     "output_type": "stream",
     "text": [
      "              precision    recall  f1-score   support\n",
      "\n",
      "           0       0.68      0.67      0.67       141\n",
      "           1       0.69      0.72      0.70       161\n",
      "           2       0.00      0.00      0.00         6\n",
      "\n",
      "    accuracy                           0.68       308\n",
      "   macro avg       0.45      0.46      0.46       308\n",
      "weighted avg       0.67      0.68      0.67       308\n",
      "\n"
     ]
    },
    {
     "name": "stderr",
     "output_type": "stream",
     "text": [
      "/opt/anaconda3/envs/MarcosPython10/lib/python3.10/site-packages/sklearn/metrics/_classification.py:1731: UndefinedMetricWarning: Precision is ill-defined and being set to 0.0 in labels with no predicted samples. Use `zero_division` parameter to control this behavior.\n",
      "  _warn_prf(average, modifier, f\"{metric.capitalize()} is\", result.shape[0])\n",
      "/opt/anaconda3/envs/MarcosPython10/lib/python3.10/site-packages/sklearn/metrics/_classification.py:1731: UndefinedMetricWarning: Precision is ill-defined and being set to 0.0 in labels with no predicted samples. Use `zero_division` parameter to control this behavior.\n",
      "  _warn_prf(average, modifier, f\"{metric.capitalize()} is\", result.shape[0])\n",
      "/opt/anaconda3/envs/MarcosPython10/lib/python3.10/site-packages/sklearn/metrics/_classification.py:1731: UndefinedMetricWarning: Precision is ill-defined and being set to 0.0 in labels with no predicted samples. Use `zero_division` parameter to control this behavior.\n",
      "  _warn_prf(average, modifier, f\"{metric.capitalize()} is\", result.shape[0])\n",
      "/opt/anaconda3/envs/MarcosPython10/lib/python3.10/site-packages/IPython/core/displayhook.py:281: UserWarning: Output cache limit (currently 1000 entries) hit.\n",
      "Flushing oldest 200 entries.\n",
      "  warn('Output cache limit (currently {sz} entries) hit.\\n'\n"
     ]
    },
    {
     "data": {
      "text/plain": [
       "array([[ 94,  47,   0],\n",
       "       [ 45, 116,   0],\n",
       "       [  0,   6,   0]])"
      ]
     },
     "execution_count": 3013,
     "metadata": {},
     "output_type": "execute_result"
    }
   ],
   "source": [
    "print(classification_report(y_test, predsSVC))\n",
    "confusion_matrix(y_test, predsSVC)"
   ]
  },
  {
   "cell_type": "code",
   "execution_count": 3014,
   "metadata": {},
   "outputs": [
    {
     "data": {
      "image/png": "[encoded data removed]",
      "text/plain": [
       "<Figure size 400x200 with 1 Axes>"
      ]
     },
     "metadata": {},
     "output_type": "display_data"
    }
   ],
   "source": [
    "cm = confusion_matrix(y_test, predsSVC)\n",
    "cm_df = pd.DataFrame(cm,\n",
    "                     index = [\"Low\",\"Medium\",\"High\"],\n",
    "                     columns = [\"Low\",\"Medium\",\"High\"])\n",
    "plt.figure(figsize=(4,2))\n",
    "\n",
    "# Create a custom color map where all values are white\n",
    "cmap = sns.color_palette([\"#FFFFFF\"])\n",
    "\n",
    "sns.heatmap(cm_df, annot=True, fmt='d', cmap=cmap, cbar=False, linewidths=.8, linecolor='black', annot_kws={\"color\": \"black\"})\n",
    "plt.title('Wine Quality Confusion Matrix SVC Evaluation')\n",
    "plt.ylabel('Actual Values')\n",
    "plt.xlabel('Predicted Values')\n",
    "plt.show()"
   ]
  },
  {
   "cell_type": "code",
   "execution_count": 3015,
   "metadata": {},
   "outputs": [
    {
     "name": "stdout",
     "output_type": "stream",
     "text": [
      "Accuracy score: 0.6818181818181818\n",
      "-------\n",
      "-------\n",
      "-------\n",
      "-------\n"
     ]
    },
    {
     "name": "stderr",
     "output_type": "stream",
     "text": [
      "/opt/anaconda3/envs/MarcosPython10/lib/python3.10/site-packages/sklearn/metrics/_classification.py:1731: UndefinedMetricWarning: Precision is ill-defined and being set to 0.0 in labels with no predicted samples. Use `zero_division` parameter to control this behavior.\n",
      "  _warn_prf(average, modifier, f\"{metric.capitalize()} is\", result.shape[0])\n"
     ]
    },
    {
     "name": "stdout",
     "output_type": "stream",
     "text": [
      "              precision    recall  f1-score   support\n",
      "\n",
      "         low       0.67      0.67      0.67       141\n",
      "      medium       0.69      0.71      0.70       161\n",
      "        high       0.00      0.00      0.00         6\n",
      "\n",
      "    accuracy                           0.68       308\n",
      "   macro avg       0.45      0.46      0.46       308\n",
      "weighted avg       0.67      0.68      0.67       308\n",
      "\n",
      "-------\n",
      "-------\n",
      "-------\n",
      "-------\n",
      "Cohen-Kappa score kappaSVC: 0.3718994506409189\n",
      "-------\n",
      "-------\n",
      "-------\n",
      "-------\n",
      "MLPC ROC AUC: 0.8189428574684864\n",
      "-------\n",
      "-------\n",
      "-------\n",
      "-------\n"
     ]
    },
    {
     "name": "stderr",
     "output_type": "stream",
     "text": [
      "/opt/anaconda3/envs/MarcosPython10/lib/python3.10/site-packages/sklearn/metrics/_classification.py:1731: UndefinedMetricWarning: Precision is ill-defined and being set to 0.0 in labels with no predicted samples. Use `zero_division` parameter to control this behavior.\n",
      "  _warn_prf(average, modifier, f\"{metric.capitalize()} is\", result.shape[0])\n",
      "/opt/anaconda3/envs/MarcosPython10/lib/python3.10/site-packages/sklearn/metrics/_classification.py:1731: UndefinedMetricWarning: Precision is ill-defined and being set to 0.0 in labels with no predicted samples. Use `zero_division` parameter to control this behavior.\n",
      "  _warn_prf(average, modifier, f\"{metric.capitalize()} is\", result.shape[0])\n"
     ]
    }
   ],
   "source": [
    "print(\"Accuracy score:\", accuracy_score(y_test, predsSVC))\n",
    "\n",
    "print('-------')\n",
    "print('-------')\n",
    "print('-------')\n",
    "print('-------')\n",
    "\n",
    "print(classification_report(y_test, preds_LR, target_names=[\"low\",\"medium\", 'high']))\n",
    "\n",
    "print('-------')\n",
    "print('-------')\n",
    "print('-------')\n",
    "print('-------')\n",
    "\n",
    "from sklearn.metrics import cohen_kappa_score\n",
    "kappaSVC = cohen_kappa_score(predsSVC, y_test)\n",
    "kappa_total.append(kappaSVC)\n",
    "print(\"Cohen-Kappa score kappaSVC:\", kappaSVC)\n",
    "\n",
    "print('-------')\n",
    "print('-------')\n",
    "print('-------')\n",
    "print('-------')\n",
    "\n",
    "\n",
    "probs_SVC = SVC_model.predict_proba(x_test)\n",
    "auc_score_SVC = roc_auc_score(y_test, probs_SVC, multi_class='ovr')\n",
    "roc_auc_total.append(auc_score_SVC)\n",
    "print(\"MLPC ROC AUC:\", auc_score_SVC)\n",
    "\n",
    "print('-------')\n",
    "print('-------')\n",
    "print('-------')\n",
    "print('-------')"
   ]
  },
  {
   "cell_type": "markdown",
   "metadata": {},
   "source": [
    "# KNeighborsClassifier"
   ]
  },
  {
   "cell_type": "code",
   "execution_count": 3016,
   "metadata": {},
   "outputs": [
    {
     "name": "stdout",
     "output_type": "stream",
     "text": [
      "0.698051948051948\n"
     ]
    }
   ],
   "source": [
    "\n",
    "KNC_model = KNeighborsClassifier(n_neighbors=5)\n",
    "\n",
    "# fit model\n",
    "KNC_model.fit(x_train, y_train)\n",
    "\n",
    "# predictions\n",
    "predsKNC = KNC_model.predict(x_test)\n",
    "\n",
    "from sklearn.metrics import mean_squared_error, accuracy_score # rmse root mean square error\n",
    "\n",
    "acc_KNC = accuracy_score(y_test, predsKNC)\n",
    "print(acc_KNC)\n"
   ]
  },
  {
   "cell_type": "markdown",
   "metadata": {},
   "source": [
    "# KNC Evaluation"
   ]
  },
  {
   "cell_type": "code",
   "execution_count": 3017,
   "metadata": {},
   "outputs": [
    {
     "name": "stdout",
     "output_type": "stream",
     "text": [
      "              precision    recall  f1-score   support\n",
      "\n",
      "           0       0.70      0.67      0.69       141\n",
      "           1       0.70      0.75      0.72       161\n",
      "           2       0.00      0.00      0.00         6\n",
      "\n",
      "    accuracy                           0.70       308\n",
      "   macro avg       0.47      0.47      0.47       308\n",
      "weighted avg       0.68      0.70      0.69       308\n",
      "\n"
     ]
    },
    {
     "name": "stderr",
     "output_type": "stream",
     "text": [
      "/opt/anaconda3/envs/MarcosPython10/lib/python3.10/site-packages/sklearn/metrics/_classification.py:1731: UndefinedMetricWarning: Precision is ill-defined and being set to 0.0 in labels with no predicted samples. Use `zero_division` parameter to control this behavior.\n",
      "  _warn_prf(average, modifier, f\"{metric.capitalize()} is\", result.shape[0])\n",
      "/opt/anaconda3/envs/MarcosPython10/lib/python3.10/site-packages/sklearn/metrics/_classification.py:1731: UndefinedMetricWarning: Precision is ill-defined and being set to 0.0 in labels with no predicted samples. Use `zero_division` parameter to control this behavior.\n",
      "  _warn_prf(average, modifier, f\"{metric.capitalize()} is\", result.shape[0])\n",
      "/opt/anaconda3/envs/MarcosPython10/lib/python3.10/site-packages/sklearn/metrics/_classification.py:1731: UndefinedMetricWarning: Precision is ill-defined and being set to 0.0 in labels with no predicted samples. Use `zero_division` parameter to control this behavior.\n",
      "  _warn_prf(average, modifier, f\"{metric.capitalize()} is\", result.shape[0])\n"
     ]
    },
    {
     "data": {
      "text/plain": [
       "array([[ 95,  46,   0],\n",
       "       [ 41, 120,   0],\n",
       "       [  0,   6,   0]])"
      ]
     },
     "execution_count": 3017,
     "metadata": {},
     "output_type": "execute_result"
    }
   ],
   "source": [
    "print(classification_report(y_test, predsKNC))\n",
    "confusion_matrix(y_test, predsKNC)"
   ]
  },
  {
   "cell_type": "code",
   "execution_count": 3018,
   "metadata": {},
   "outputs": [
    {
     "data": {
      "image/png": "[encoded data removed]",
      "text/plain": [
       "<Figure size 400x200 with 1 Axes>"
      ]
     },
     "metadata": {},
     "output_type": "display_data"
    }
   ],
   "source": [
    "cm = confusion_matrix(y_test, predsKNC)\n",
    "cm_df = pd.DataFrame(cm,\n",
    "                     index = [\"Low\",\"Medium\",\"High\"],\n",
    "                     columns = [\"Low\",\"Medium\",\"High\"])\n",
    "plt.figure(figsize=(4,2))\n",
    "\n",
    "# Create a custom color map where all values are white\n",
    "cmap = sns.color_palette([\"#FFFFFF\"])\n",
    "\n",
    "sns.heatmap(cm_df, annot=True, fmt='d', cmap=cmap, cbar=False, linewidths=.8, linecolor='black', annot_kws={\"color\": \"black\"})\n",
    "plt.title('Wine Quality Confusion Matrix KNC Evaluation')\n",
    "plt.ylabel('Actual Values')\n",
    "plt.xlabel('Predicted Values')\n",
    "plt.show()"
   ]
  },
  {
   "cell_type": "code",
   "execution_count": 3019,
   "metadata": {},
   "outputs": [
    {
     "name": "stdout",
     "output_type": "stream",
     "text": [
      "Accuracy score: 0.698051948051948\n",
      "-------\n",
      "-------\n",
      "-------\n",
      "-------\n",
      "              precision    recall  f1-score   support\n",
      "\n",
      "         low       0.67      0.67      0.67       141\n",
      "      medium       0.69      0.71      0.70       161\n",
      "        high       0.00      0.00      0.00         6\n",
      "\n",
      "    accuracy                           0.68       308\n",
      "   macro avg       0.45      0.46      0.46       308\n",
      "weighted avg       0.67      0.68      0.67       308\n",
      "\n",
      "-------\n",
      "-------\n",
      "-------\n",
      "-------\n",
      "Cohen-Kappa scorekappaKNC: 0.40320026668889075\n",
      "-------\n",
      "-------\n",
      "-------\n",
      "-------\n",
      "MLPC ROC AUC: 0.7334833882412704\n",
      "-------\n",
      "-------\n",
      "-------\n",
      "-------\n"
     ]
    },
    {
     "name": "stderr",
     "output_type": "stream",
     "text": [
      "/opt/anaconda3/envs/MarcosPython10/lib/python3.10/site-packages/sklearn/metrics/_classification.py:1731: UndefinedMetricWarning: Precision is ill-defined and being set to 0.0 in labels with no predicted samples. Use `zero_division` parameter to control this behavior.\n",
      "  _warn_prf(average, modifier, f\"{metric.capitalize()} is\", result.shape[0])\n",
      "/opt/anaconda3/envs/MarcosPython10/lib/python3.10/site-packages/sklearn/metrics/_classification.py:1731: UndefinedMetricWarning: Precision is ill-defined and being set to 0.0 in labels with no predicted samples. Use `zero_division` parameter to control this behavior.\n",
      "  _warn_prf(average, modifier, f\"{metric.capitalize()} is\", result.shape[0])\n",
      "/opt/anaconda3/envs/MarcosPython10/lib/python3.10/site-packages/sklearn/metrics/_classification.py:1731: UndefinedMetricWarning: Precision is ill-defined and being set to 0.0 in labels with no predicted samples. Use `zero_division` parameter to control this behavior.\n",
      "  _warn_prf(average, modifier, f\"{metric.capitalize()} is\", result.shape[0])\n"
     ]
    }
   ],
   "source": [
    "print(\"Accuracy score:\", accuracy_score(y_test, predsKNC))\n",
    "\n",
    "print('-------')\n",
    "print('-------')\n",
    "print('-------')\n",
    "print('-------')\n",
    "\n",
    "print(classification_report(y_test, preds_LR, target_names=[\"low\",\"medium\", 'high']))\n",
    "\n",
    "print('-------')\n",
    "print('-------')\n",
    "print('-------')\n",
    "print('-------')\n",
    "\n",
    "\n",
    "kappaKNC = cohen_kappa_score(predsKNC, y_test)\n",
    "kappa_total.append(kappaKNC)\n",
    "print(\"Cohen-Kappa scorekappaKNC:\", kappaKNC)\n",
    "\n",
    "print('-------')\n",
    "print('-------')\n",
    "print('-------')\n",
    "print('-------')\n",
    "\n",
    "\n",
    "probs_KNC = KNC_model.predict_proba(x_test)\n",
    "auc_score_KNC = roc_auc_score(y_test, probs_KNC, multi_class='ovr')\n",
    "roc_auc_total.append(auc_score_KNC)\n",
    "print(\"MLPC ROC AUC:\", auc_score_KNC)\n",
    "\n",
    "print('-------')\n",
    "print('-------')\n",
    "print('-------')\n",
    "print('-------')"
   ]
  },
  {
   "cell_type": "markdown",
   "metadata": {},
   "source": [
    "# AdaBoostClassifier"
   ]
  },
  {
   "cell_type": "code",
   "execution_count": 3020,
   "metadata": {},
   "outputs": [
    {
     "name": "stdout",
     "output_type": "stream",
     "text": [
      "0.6590909090909091\n"
     ]
    }
   ],
   "source": [
    "\n",
    "ABC_model = AdaBoostClassifier(n_estimators=50)\n",
    "\n",
    "# fit model\n",
    "ABC_model.fit(x_train, y_train)\n",
    "\n",
    "# predictions\n",
    "predsABC = ABC_model.predict(x_test)\n",
    "\n",
    "from sklearn.metrics import mean_squared_error, accuracy_score # rmse root mean square error\n",
    "\n",
    "acc_ABC = accuracy_score(y_test, predsABC)\n",
    "print(acc_ABC)\n"
   ]
  },
  {
   "cell_type": "markdown",
   "metadata": {},
   "source": [
    "# ADBC Evaluation"
   ]
  },
  {
   "cell_type": "code",
   "execution_count": 3021,
   "metadata": {},
   "outputs": [
    {
     "name": "stdout",
     "output_type": "stream",
     "text": [
      "              precision    recall  f1-score   support\n",
      "\n",
      "           0       0.65      0.67      0.66       141\n",
      "           1       0.68      0.67      0.67       161\n",
      "           2       0.00      0.00      0.00         6\n",
      "\n",
      "    accuracy                           0.66       308\n",
      "   macro avg       0.44      0.45      0.44       308\n",
      "weighted avg       0.65      0.66      0.65       308\n",
      "\n"
     ]
    },
    {
     "data": {
      "text/plain": [
       "array([[ 95,  46,   0],\n",
       "       [ 52, 108,   1],\n",
       "       [  0,   6,   0]])"
      ]
     },
     "execution_count": 3021,
     "metadata": {},
     "output_type": "execute_result"
    }
   ],
   "source": [
    "print(classification_report(y_test, predsABC))\n",
    "confusion_matrix(y_test, predsABC)"
   ]
  },
  {
   "cell_type": "code",
   "execution_count": 3022,
   "metadata": {},
   "outputs": [
    {
     "data": {
      "image/png": "[encoded data removed]",
      "text/plain": [
       "<Figure size 400x200 with 1 Axes>"
      ]
     },
     "metadata": {},
     "output_type": "display_data"
    }
   ],
   "source": [
    "cm = confusion_matrix(y_test, predsABC)\n",
    "cm_df = pd.DataFrame(cm,\n",
    "                     index = [\"Low\",\"Medium\",\"High\"],\n",
    "                     columns = [\"Low\",\"Medium\",\"High\"])\n",
    "plt.figure(figsize=(4,2))\n",
    "\n",
    "# Create a custom color map where all values are white\n",
    "cmap = sns.color_palette([\"#FFFFFF\"])\n",
    "\n",
    "sns.heatmap(cm_df, annot=True, fmt='d', cmap=cmap, cbar=False, linewidths=.8, linecolor='black', annot_kws={\"color\": \"black\"})\n",
    "plt.title('Wine Quality Confusion Matrix ABC Evaluation')\n",
    "plt.ylabel('Actual Values')\n",
    "plt.xlabel('Predicted Values')\n",
    "plt.show()"
   ]
  },
  {
   "cell_type": "code",
   "execution_count": 3023,
   "metadata": {},
   "outputs": [
    {
     "name": "stdout",
     "output_type": "stream",
     "text": [
      "Accuracy score: 0.6590909090909091\n",
      "-------\n",
      "-------\n",
      "-------\n",
      "-------\n"
     ]
    },
    {
     "name": "stderr",
     "output_type": "stream",
     "text": [
      "/opt/anaconda3/envs/MarcosPython10/lib/python3.10/site-packages/sklearn/metrics/_classification.py:1731: UndefinedMetricWarning: Precision is ill-defined and being set to 0.0 in labels with no predicted samples. Use `zero_division` parameter to control this behavior.\n",
      "  _warn_prf(average, modifier, f\"{metric.capitalize()} is\", result.shape[0])\n",
      "/opt/anaconda3/envs/MarcosPython10/lib/python3.10/site-packages/sklearn/metrics/_classification.py:1731: UndefinedMetricWarning: Precision is ill-defined and being set to 0.0 in labels with no predicted samples. Use `zero_division` parameter to control this behavior.\n",
      "  _warn_prf(average, modifier, f\"{metric.capitalize()} is\", result.shape[0])\n"
     ]
    },
    {
     "name": "stdout",
     "output_type": "stream",
     "text": [
      "              precision    recall  f1-score   support\n",
      "\n",
      "         low       0.67      0.67      0.67       141\n",
      "      medium       0.69      0.71      0.70       161\n",
      "        high       0.00      0.00      0.00         6\n",
      "\n",
      "    accuracy                           0.68       308\n",
      "   macro avg       0.45      0.46      0.46       308\n",
      "weighted avg       0.67      0.68      0.67       308\n",
      "\n",
      "-------\n",
      "-------\n",
      "-------\n",
      "-------\n",
      "Cohen-Kappa score kappaABC: 0.33141758491658224\n",
      "-------\n",
      "-------\n",
      "-------\n",
      "-------\n",
      "MLPC ROC AUC: 0.746433831987361\n",
      "-------\n",
      "-------\n",
      "-------\n",
      "-------\n"
     ]
    },
    {
     "name": "stderr",
     "output_type": "stream",
     "text": [
      "/opt/anaconda3/envs/MarcosPython10/lib/python3.10/site-packages/sklearn/metrics/_classification.py:1731: UndefinedMetricWarning: Precision is ill-defined and being set to 0.0 in labels with no predicted samples. Use `zero_division` parameter to control this behavior.\n",
      "  _warn_prf(average, modifier, f\"{metric.capitalize()} is\", result.shape[0])\n"
     ]
    }
   ],
   "source": [
    "print(\"Accuracy score:\", accuracy_score(y_test, predsABC))\n",
    "\n",
    "print('-------')\n",
    "print('-------')\n",
    "print('-------')\n",
    "print('-------')\n",
    "\n",
    "print(classification_report(y_test, preds_LR, target_names=[\"low\",\"medium\", 'high']))\n",
    "\n",
    "print('-------')\n",
    "print('-------')\n",
    "print('-------')\n",
    "print('-------')\n",
    "\n",
    "from sklearn.metrics import cohen_kappa_score\n",
    "kappaABC = cohen_kappa_score(predsABC, y_test)\n",
    "kappa_total.append(kappaABC)\n",
    "print(\"Cohen-Kappa score kappaABC:\", kappaABC)\n",
    "\n",
    "print('-------')\n",
    "print('-------')\n",
    "print('-------')\n",
    "print('-------')\n",
    "\n",
    "\n",
    "probs_ABC = ABC_model.predict_proba(x_test)\n",
    "auc_score_ABC = roc_auc_score(y_test, probs_ABC, multi_class='ovr')\n",
    "roc_auc_total.append(auc_score_ABC)\n",
    "print(\"MLPC ROC AUC:\", auc_score_ABC)\n",
    "\n",
    "print('-------')\n",
    "print('-------')\n",
    "print('-------')\n",
    "print('-------')"
   ]
  },
  {
   "cell_type": "markdown",
   "metadata": {},
   "source": [
    "# MLPClassifier (Neural Network)\n"
   ]
  },
  {
   "cell_type": "code",
   "execution_count": 3024,
   "metadata": {},
   "outputs": [
    {
     "name": "stdout",
     "output_type": "stream",
     "text": [
      "0.6818181818181818\n"
     ]
    },
    {
     "name": "stderr",
     "output_type": "stream",
     "text": [
      "/opt/anaconda3/envs/MarcosPython10/lib/python3.10/site-packages/sklearn/neural_network/_multilayer_perceptron.py:781: ConvergenceWarning: Stochastic Optimizer: Maximum iterations (300) reached and the optimization hasn't converged yet.\n",
      "  warnings.warn(\n"
     ]
    }
   ],
   "source": [
    "\n",
    "MLPC_model = MLPClassifier(hidden_layer_sizes=(100,), max_iter=300)\n",
    "\n",
    "# fit model\n",
    "MLPC_model.fit(x_train, y_train)\n",
    "\n",
    "# predictions\n",
    "predsMLPC = MLPC_model.predict(x_test)\n",
    "\n",
    "from sklearn.metrics import mean_squared_error, accuracy_score # rmse root mean square error\n",
    "\n",
    "acc_MLPC = accuracy_score(y_test, predsMLPC)\n",
    "print(acc_MLPC)"
   ]
  },
  {
   "cell_type": "markdown",
   "metadata": {},
   "source": [
    "# MLPC Evaluation"
   ]
  },
  {
   "cell_type": "code",
   "execution_count": 3025,
   "metadata": {},
   "outputs": [
    {
     "name": "stdout",
     "output_type": "stream",
     "text": [
      "              precision    recall  f1-score   support\n",
      "\n",
      "           0       0.67      0.68      0.68       141\n",
      "           1       0.69      0.71      0.70       161\n",
      "           2       0.00      0.00      0.00         6\n",
      "\n",
      "    accuracy                           0.68       308\n",
      "   macro avg       0.45      0.46      0.46       308\n",
      "weighted avg       0.67      0.68      0.68       308\n",
      "\n"
     ]
    },
    {
     "name": "stderr",
     "output_type": "stream",
     "text": [
      "/opt/anaconda3/envs/MarcosPython10/lib/python3.10/site-packages/sklearn/metrics/_classification.py:1731: UndefinedMetricWarning: Precision is ill-defined and being set to 0.0 in labels with no predicted samples. Use `zero_division` parameter to control this behavior.\n",
      "  _warn_prf(average, modifier, f\"{metric.capitalize()} is\", result.shape[0])\n",
      "/opt/anaconda3/envs/MarcosPython10/lib/python3.10/site-packages/sklearn/metrics/_classification.py:1731: UndefinedMetricWarning: Precision is ill-defined and being set to 0.0 in labels with no predicted samples. Use `zero_division` parameter to control this behavior.\n",
      "  _warn_prf(average, modifier, f\"{metric.capitalize()} is\", result.shape[0])\n",
      "/opt/anaconda3/envs/MarcosPython10/lib/python3.10/site-packages/sklearn/metrics/_classification.py:1731: UndefinedMetricWarning: Precision is ill-defined and being set to 0.0 in labels with no predicted samples. Use `zero_division` parameter to control this behavior.\n",
      "  _warn_prf(average, modifier, f\"{metric.capitalize()} is\", result.shape[0])\n"
     ]
    },
    {
     "data": {
      "text/plain": [
       "array([[ 96,  45,   0],\n",
       "       [ 47, 114,   0],\n",
       "       [  0,   6,   0]])"
      ]
     },
     "execution_count": 3025,
     "metadata": {},
     "output_type": "execute_result"
    }
   ],
   "source": [
    "print(classification_report(y_test, predsMLPC))\n",
    "confusion_matrix(y_test, predsMLPC)"
   ]
  },
  {
   "cell_type": "code",
   "execution_count": 3026,
   "metadata": {},
   "outputs": [
    {
     "data": {
      "image/png": "[encoded data removed]",
      "text/plain": [
       "<Figure size 400x200 with 1 Axes>"
      ]
     },
     "metadata": {},
     "output_type": "display_data"
    }
   ],
   "source": [
    "cm = confusion_matrix(y_test, predsMLPC)\n",
    "cm_df = pd.DataFrame(cm,\n",
    "                     index = [\"Low\",\"Medium\",\"High\"],\n",
    "                     columns = [\"Low\",\"Medium\",\"High\"])\n",
    "plt.figure(figsize=(4,2))\n",
    "\n",
    "# Create a custom color map where all values are white\n",
    "cmap = sns.color_palette([\"#FFFFFF\"])\n",
    "\n",
    "sns.heatmap(cm_df, annot=True, fmt='d', cmap=cmap, cbar=False, linewidths=.8, linecolor='black', annot_kws={\"color\": \"black\"})\n",
    "plt.title('Wine Quality Confusion Matrix MLPC Evaluation')\n",
    "plt.ylabel('Actual Values')\n",
    "plt.xlabel('Predicted Values')\n",
    "plt.show()"
   ]
  },
  {
   "cell_type": "code",
   "execution_count": 3027,
   "metadata": {},
   "outputs": [
    {
     "name": "stdout",
     "output_type": "stream",
     "text": [
      "Accuracy score: 0.6818181818181818\n",
      "-------\n",
      "-------\n",
      "-------\n",
      "-------\n",
      "              precision    recall  f1-score   support\n",
      "\n",
      "         low       0.67      0.67      0.67       141\n",
      "      medium       0.69      0.71      0.70       161\n",
      "        high       0.00      0.00      0.00         6\n",
      "\n",
      "    accuracy                           0.68       308\n",
      "   macro avg       0.45      0.46      0.46       308\n",
      "weighted avg       0.67      0.68      0.67       308\n",
      "\n",
      "-------\n",
      "-------\n",
      "-------\n",
      "-------\n",
      "Cohen-Kappa score kappaMLPC : 0.3729433272394881\n",
      "-------\n",
      "-------\n",
      "-------\n",
      "-------\n",
      "MLPC ROC AUC: 0.8272927064285079\n",
      "-------\n",
      "-------\n",
      "-------\n",
      "-------\n"
     ]
    },
    {
     "name": "stderr",
     "output_type": "stream",
     "text": [
      "/opt/anaconda3/envs/MarcosPython10/lib/python3.10/site-packages/sklearn/metrics/_classification.py:1731: UndefinedMetricWarning: Precision is ill-defined and being set to 0.0 in labels with no predicted samples. Use `zero_division` parameter to control this behavior.\n",
      "  _warn_prf(average, modifier, f\"{metric.capitalize()} is\", result.shape[0])\n",
      "/opt/anaconda3/envs/MarcosPython10/lib/python3.10/site-packages/sklearn/metrics/_classification.py:1731: UndefinedMetricWarning: Precision is ill-defined and being set to 0.0 in labels with no predicted samples. Use `zero_division` parameter to control this behavior.\n",
      "  _warn_prf(average, modifier, f\"{metric.capitalize()} is\", result.shape[0])\n",
      "/opt/anaconda3/envs/MarcosPython10/lib/python3.10/site-packages/sklearn/metrics/_classification.py:1731: UndefinedMetricWarning: Precision is ill-defined and being set to 0.0 in labels with no predicted samples. Use `zero_division` parameter to control this behavior.\n",
      "  _warn_prf(average, modifier, f\"{metric.capitalize()} is\", result.shape[0])\n"
     ]
    }
   ],
   "source": [
    "print(\"Accuracy score:\", accuracy_score(y_test, predsMLPC))\n",
    "\n",
    "print('-------')\n",
    "print('-------')\n",
    "print('-------')\n",
    "print('-------')\n",
    "\n",
    "print(classification_report(y_test, preds_LR, target_names=[\"low\",\"medium\", 'high']))\n",
    "\n",
    "print('-------')\n",
    "print('-------')\n",
    "print('-------')\n",
    "print('-------')\n",
    "\n",
    "\n",
    "kappaMLPC = cohen_kappa_score(predsMLPC, y_test)\n",
    "kappa_total.append(kappaMLPC)\n",
    "print(\"Cohen-Kappa score kappaMLPC :\", kappaMLPC)\n",
    "\n",
    "print('-------')\n",
    "print('-------')\n",
    "print('-------')\n",
    "print('-------')\n",
    "\n",
    "\n",
    "probs_MLPC = MLPC_model.predict_proba(x_test)\n",
    "auc_score_MPLC = roc_auc_score(y_test, probs_MLPC, multi_class='ovr')\n",
    "roc_auc_total.append(auc_score_MPLC)\n",
    "print(\"MLPC ROC AUC:\", auc_score_MPLC)\n",
    "\n",
    "\n",
    "print('-------')\n",
    "print('-------')\n",
    "print('-------')\n",
    "print('-------')"
   ]
  },
  {
   "cell_type": "markdown",
   "metadata": {},
   "source": [
    "# For Loop to test Kappa Evaluations"
   ]
  },
  {
   "cell_type": "code",
   "execution_count": null,
   "metadata": {},
   "outputs": [
    {
     "name": "stdout",
     "output_type": "stream",
     "text": [
      "{'LR': 0.3724218230206253, 'DTC': 0.4456806282722513, 'GNB': 0.3240019877422561, 'RF': 0.5262621853630147, 'SVC': 0.3718994506409189, 'KNC': 0.40320026668889075, 'MLPC': 0.33141758491658224}\n",
      "LR has Fair agreement with a Kappa value of 0.3724218230206253\n",
      "DTC has Good agreement with a Kappa value of 0.4456806282722513\n",
      "GNB has Fair agreement with a Kappa value of 0.3240019877422561\n",
      "RF has Good agreement with a Kappa value of 0.5262621853630147\n",
      "SVC has Fair agreement with a Kappa value of 0.3718994506409189\n",
      "KNC has Good agreement with a Kappa value of 0.40320026668889075\n",
      "MLPC has Fair agreement with a Kappa value of 0.33141758491658224\n"
     ]
    }
   ],
   "source": [
    "# models = ['LR', 'DTC', 'GNB', 'RF', 'SVC', 'KNC', 'MLPC']\n",
    "kappa_dict = dict(zip(models, kappa_total))\n",
    "print(kappa_dict)\n",
    "\n",
    "for model, score in kappa_dict.items():\n",
    "    if score < 0.20:\n",
    "        print(f'{model} has Poor agreement with a Kappa value of {score}') \n",
    "    elif 0.20 <= score < 0.40:\n",
    "        print(f'{model} has Fair agreement with a Kappa value of {score}') \n",
    "    elif 0.40 <= score < 0.60:\n",
    "        print(f'{model} has Good agreement with a Kappa value of {score}')\n",
    "    else:\n",
    "        print(f'{model} has Very good agreement with a Kappa value of {score}') "
   ]
  },
  {
   "cell_type": "markdown",
   "metadata": {},
   "source": [
    "# Pre Scaling Kappa Values"
   ]
  },
  {
   "cell_type": "code",
   "execution_count": 3029,
   "metadata": {},
   "outputs": [
    {
     "data": {
      "image/png": "[encoded data removed]",
      "text/plain": [
       "<Figure size 640x480 with 1 Axes>"
      ]
     },
     "metadata": {},
     "output_type": "display_data"
    }
   ],
   "source": [
    "from PIL import Image\n",
    "import matplotlib.pyplot as plt\n",
    "\n",
    "# Load and show the screenshot\n",
    "img = Image.open(\"/Users/kimberleybrown/Desktop/CODING_ALL/Code_Academy_Berlin/Module01/Module01_Project02/pre_scaling_kappa_values.png\")\n",
    "plt.imshow(img)\n",
    "plt.axis('off')  # Hide axes\n",
    "plt.show()\n"
   ]
  },
  {
   "cell_type": "markdown",
   "metadata": {},
   "source": [
    "# ROC-AUC (Receiver Operating Characteristic - Area Under Curve)\n"
   ]
  },
  {
   "cell_type": "code",
   "execution_count": 3030,
   "metadata": {},
   "outputs": [
    {
     "name": "stdout",
     "output_type": "stream",
     "text": [
      "{'LR': 0.3724218230206253, 'DTC': 0.4456806282722513, 'GNB': 0.3240019877422561, 'RF': 0.5262621853630147, 'SVC': 0.3718994506409189, 'KNC': 0.40320026668889075, 'MLPC': 0.33141758491658224}\n",
      "LR has Fair agreement with a Kappa value of 0.3724218230206253\n",
      "DTC has Good agreement with a Kappa value of 0.4456806282722513\n",
      "GNB has Fair agreement with a Kappa value of 0.3240019877422561\n",
      "RF has Good agreement with a Kappa value of 0.5262621853630147\n",
      "SVC has Fair agreement with a Kappa value of 0.3718994506409189\n",
      "KNC has Good agreement with a Kappa value of 0.40320026668889075\n",
      "MLPC has Fair agreement with a Kappa value of 0.33141758491658224\n"
     ]
    },
    {
     "ename": "ValueError",
     "evalue": "multi_class must be in ('ovo', 'ovr')",
     "output_type": "error",
     "traceback": [
      "\u001b[0;31m---------------------------------------------------------------------------\u001b[0m",
      "\u001b[0;31mValueError\u001b[0m                                Traceback (most recent call last)",
      "Cell \u001b[0;32mIn[3030], line 20\u001b[0m\n\u001b[1;32m     17\u001b[0m \u001b[38;5;66;03m# You need predicted probabilities, not labels\u001b[39;00m\n\u001b[1;32m     18\u001b[0m probs_LR \u001b[38;5;241m=\u001b[39m LR_model\u001b[38;5;241m.\u001b[39mpredict_proba(x_test)[:, \u001b[38;5;241m1\u001b[39m]  \u001b[38;5;66;03m# probabilities for class 1\u001b[39;00m\n\u001b[0;32m---> 20\u001b[0m auc_score \u001b[38;5;241m=\u001b[39m \u001b[43mroc_auc_score\u001b[49m\u001b[43m(\u001b[49m\u001b[43my_test\u001b[49m\u001b[43m,\u001b[49m\u001b[43m \u001b[49m\u001b[43mprobs_LR\u001b[49m\u001b[43m)\u001b[49m\n\u001b[1;32m     21\u001b[0m \u001b[38;5;28mprint\u001b[39m(\u001b[38;5;124m\"\u001b[39m\u001b[38;5;124mROC AUC:\u001b[39m\u001b[38;5;124m\"\u001b[39m, auc_score)\n",
      "File \u001b[0;32m/opt/anaconda3/envs/MarcosPython10/lib/python3.10/site-packages/sklearn/utils/_param_validation.py:218\u001b[0m, in \u001b[0;36mvalidate_params.<locals>.decorator.<locals>.wrapper\u001b[0;34m(*args, **kwargs)\u001b[0m\n\u001b[1;32m    212\u001b[0m \u001b[38;5;28;01mtry\u001b[39;00m:\n\u001b[1;32m    213\u001b[0m     \u001b[38;5;28;01mwith\u001b[39;00m config_context(\n\u001b[1;32m    214\u001b[0m         skip_parameter_validation\u001b[38;5;241m=\u001b[39m(\n\u001b[1;32m    215\u001b[0m             prefer_skip_nested_validation \u001b[38;5;129;01mor\u001b[39;00m global_skip_validation\n\u001b[1;32m    216\u001b[0m         )\n\u001b[1;32m    217\u001b[0m     ):\n\u001b[0;32m--> 218\u001b[0m         \u001b[38;5;28;01mreturn\u001b[39;00m \u001b[43mfunc\u001b[49m\u001b[43m(\u001b[49m\u001b[38;5;241;43m*\u001b[39;49m\u001b[43margs\u001b[49m\u001b[43m,\u001b[49m\u001b[43m \u001b[49m\u001b[38;5;241;43m*\u001b[39;49m\u001b[38;5;241;43m*\u001b[39;49m\u001b[43mkwargs\u001b[49m\u001b[43m)\u001b[49m\n\u001b[1;32m    219\u001b[0m \u001b[38;5;28;01mexcept\u001b[39;00m InvalidParameterError \u001b[38;5;28;01mas\u001b[39;00m e:\n\u001b[1;32m    220\u001b[0m     \u001b[38;5;66;03m# When the function is just a wrapper around an estimator, we allow\u001b[39;00m\n\u001b[1;32m    221\u001b[0m     \u001b[38;5;66;03m# the function to delegate validation to the estimator, but we replace\u001b[39;00m\n\u001b[1;32m    222\u001b[0m     \u001b[38;5;66;03m# the name of the estimator by the name of the function in the error\u001b[39;00m\n\u001b[1;32m    223\u001b[0m     \u001b[38;5;66;03m# message to avoid confusion.\u001b[39;00m\n\u001b[1;32m    224\u001b[0m     msg \u001b[38;5;241m=\u001b[39m re\u001b[38;5;241m.\u001b[39msub(\n\u001b[1;32m    225\u001b[0m         \u001b[38;5;124mr\u001b[39m\u001b[38;5;124m\"\u001b[39m\u001b[38;5;124mparameter of \u001b[39m\u001b[38;5;124m\\\u001b[39m\u001b[38;5;124mw+ must be\u001b[39m\u001b[38;5;124m\"\u001b[39m,\n\u001b[1;32m    226\u001b[0m         \u001b[38;5;124mf\u001b[39m\u001b[38;5;124m\"\u001b[39m\u001b[38;5;124mparameter of \u001b[39m\u001b[38;5;132;01m{\u001b[39;00mfunc\u001b[38;5;241m.\u001b[39m\u001b[38;5;18m__qualname__\u001b[39m\u001b[38;5;132;01m}\u001b[39;00m\u001b[38;5;124m must be\u001b[39m\u001b[38;5;124m\"\u001b[39m,\n\u001b[1;32m    227\u001b[0m         \u001b[38;5;28mstr\u001b[39m(e),\n\u001b[1;32m    228\u001b[0m     )\n",
      "File \u001b[0;32m/opt/anaconda3/envs/MarcosPython10/lib/python3.10/site-packages/sklearn/metrics/_ranking.py:679\u001b[0m, in \u001b[0;36mroc_auc_score\u001b[0;34m(y_true, y_score, average, sample_weight, max_fpr, multi_class, labels)\u001b[0m\n\u001b[1;32m    672\u001b[0m         \u001b[38;5;28;01mraise\u001b[39;00m \u001b[38;5;167;01mValueError\u001b[39;00m(\n\u001b[1;32m    673\u001b[0m             \u001b[38;5;124m\"\u001b[39m\u001b[38;5;124mPartial AUC computation not available in \u001b[39m\u001b[38;5;124m\"\u001b[39m\n\u001b[1;32m    674\u001b[0m             \u001b[38;5;124m\"\u001b[39m\u001b[38;5;124mmulticlass setting, \u001b[39m\u001b[38;5;124m'\u001b[39m\u001b[38;5;124mmax_fpr\u001b[39m\u001b[38;5;124m'\u001b[39m\u001b[38;5;124m must be\u001b[39m\u001b[38;5;124m\"\u001b[39m\n\u001b[1;32m    675\u001b[0m             \u001b[38;5;124m\"\u001b[39m\u001b[38;5;124m set to `None`, received `max_fpr=\u001b[39m\u001b[38;5;132;01m{0}\u001b[39;00m\u001b[38;5;124m` \u001b[39m\u001b[38;5;124m\"\u001b[39m\n\u001b[1;32m    676\u001b[0m             \u001b[38;5;124m\"\u001b[39m\u001b[38;5;124minstead\u001b[39m\u001b[38;5;124m\"\u001b[39m\u001b[38;5;241m.\u001b[39mformat(max_fpr)\n\u001b[1;32m    677\u001b[0m         )\n\u001b[1;32m    678\u001b[0m     \u001b[38;5;28;01mif\u001b[39;00m multi_class \u001b[38;5;241m==\u001b[39m \u001b[38;5;124m\"\u001b[39m\u001b[38;5;124mraise\u001b[39m\u001b[38;5;124m\"\u001b[39m:\n\u001b[0;32m--> 679\u001b[0m         \u001b[38;5;28;01mraise\u001b[39;00m \u001b[38;5;167;01mValueError\u001b[39;00m(\u001b[38;5;124m\"\u001b[39m\u001b[38;5;124mmulti_class must be in (\u001b[39m\u001b[38;5;124m'\u001b[39m\u001b[38;5;124movo\u001b[39m\u001b[38;5;124m'\u001b[39m\u001b[38;5;124m, \u001b[39m\u001b[38;5;124m'\u001b[39m\u001b[38;5;124movr\u001b[39m\u001b[38;5;124m'\u001b[39m\u001b[38;5;124m)\u001b[39m\u001b[38;5;124m\"\u001b[39m)\n\u001b[1;32m    680\u001b[0m     \u001b[38;5;28;01mreturn\u001b[39;00m _multiclass_roc_auc_score(\n\u001b[1;32m    681\u001b[0m         y_true, y_score, labels, multi_class, average, sample_weight\n\u001b[1;32m    682\u001b[0m     )\n\u001b[1;32m    683\u001b[0m \u001b[38;5;28;01melif\u001b[39;00m y_type \u001b[38;5;241m==\u001b[39m \u001b[38;5;124m\"\u001b[39m\u001b[38;5;124mbinary\u001b[39m\u001b[38;5;124m\"\u001b[39m:\n",
      "\u001b[0;31mValueError\u001b[0m: multi_class must be in ('ovo', 'ovr')"
     ]
    }
   ],
   "source": [
    "from sklearn.metrics import roc_auc_score\n",
    "\n",
    "models = ['LR', 'DTC', 'GNB', 'RF', 'SVC', 'KNC', 'MLPC']\n",
    "kappa_dict = dict(zip(models, kappa_total))\n",
    "print(kappa_dict)\n",
    "\n",
    "for model, score in kappa_dict.items():\n",
    "    if score < 0.20:\n",
    "        print(f'{model} has Poor agreement with a Kappa value of {score}') \n",
    "    elif 0.20 <= score < 0.40:\n",
    "        print(f'{model} has Fair agreement with a Kappa value of {score}') \n",
    "    elif 0.40 <= score < 0.60:\n",
    "        print(f'{model} has Good agreement with a Kappa value of {score}')\n",
    "    else:\n",
    "        print(f'{model} has Very good agreement with a Kappa value of {score}') \n",
    "\n",
    "# You need predicted probabilities, not labels\n",
    "probs_LR = LR_model.predict_proba(x_test)[:, 1]  # probabilities for class 1\n",
    "\n",
    "auc_score = roc_auc_score(y_test, probs_LR)\n",
    "print(\"ROC AUC:\", auc_score)\n"
   ]
  },
  {
   "cell_type": "markdown",
   "metadata": {},
   "source": [
    "# Predicting Quality - Linear Regression"
   ]
  },
  {
   "cell_type": "code",
   "execution_count": null,
   "metadata": {},
   "outputs": [],
   "source": [
    "from sklearn.model_selection import train_test_split, GridSearchCV\n",
    "\n",
    "# split data into X and Y\n",
    "X = dfm_clean.drop(['quality_label', 'quality', 'wine_type'], axis=1)\n",
    "y = dfm_clean['quality']\n",
    "\n",
    "# split data\n",
    "x_train, x_test, y_train, y_test = train_test_split(X, y, test_size=0.10, random_state=12)"
   ]
  },
  {
   "cell_type": "code",
   "execution_count": null,
   "metadata": {},
   "outputs": [
    {
     "name": "stdout",
     "output_type": "stream",
     "text": [
      "MSE: 0.40259512953619947\n",
      "R2: 0.365500658421019\n"
     ]
    }
   ],
   "source": [
    "from sklearn.linear_model import LinearRegression\n",
    "\n",
    "LinearR_model = LinearRegression()\n",
    "\n",
    "LinearR_model.fit(x_train, y_train)\n",
    "\n",
    "preds = LinearR_model.predict(x_test)\n",
    "\n",
    "# when I changed the value of random state it jumped from 55 to 67 accuracy. \n",
    "from sklearn.metrics import mean_squared_error, r2_score\n",
    "\n",
    "mse = mean_squared_error(y_test, preds)\n",
    "r2 = r2_score(y_test, preds)\n",
    "print(\"MSE:\", mse)\n",
    "print(\"R2:\", r2)\n"
   ]
  },
  {
   "cell_type": "code",
   "execution_count": null,
   "metadata": {},
   "outputs": [],
   "source": []
  }
 ],
 "metadata": {
  "kernelspec": {
   "display_name": "MarcosPython10",
   "language": "python",
   "name": "python3"
  },
  "language_info": {
   "codemirror_mode": {
    "name": "ipython",
    "version": 3
   },
   "file_extension": ".py",
   "mimetype": "text/x-python",
   "name": "python",
   "nbconvert_exporter": "python",
   "pygments_lexer": "ipython3",
   "version": "3.10.18"
  }
 },
 "nbformat": 4,
 "nbformat_minor": 2
}
