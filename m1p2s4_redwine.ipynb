{
 "cells": [
  {
   "cell_type": "markdown",
   "metadata": {},
   "source": [
    "# importing neccessery libriries\n"
   ]
  },
  {
   "cell_type": "code",
   "execution_count": 1,
   "metadata": {},
   "outputs": [],
   "source": [
    "# importing neccessery libriries\n",
    "import pandas as pd\n",
    "import numpy as np\n",
    "import matplotlib.pyplot as plt\n",
    "import seaborn as sns\n",
    "\n",
    "from sklearn.linear_model import LogisticRegression\n",
    "from sklearn.tree import DecisionTreeClassifier\n",
    "from sklearn.naive_bayes import GaussianNB\n",
    "from sklearn.ensemble import RandomForestClassifier\n",
    "from sklearn.svm import SVC\n",
    "from sklearn.neighbors import KNeighborsClassifier\n",
    "from sklearn.ensemble import AdaBoostClassifier\n",
    "from sklearn.neural_network import MLPClassifier\n",
    "\n",
    "from sklearn.model_selection import cross_val_predict, StratifiedKFold\n",
    "from sklearn.model_selection import cross_val_score, StratifiedKFold\n",
    "\n",
    "from sklearn.metrics import classification_report\n",
    "from sklearn.metrics import confusion_matrix\n",
    "from sklearn.metrics import log_loss\n",
    "\n",
    "from matplotlib.colors import LinearSegmentedColormap\n",
    "\n",
    "from sklearn.model_selection import GridSearchCV\n",
    "\n",
    "from sklearn.metrics import accuracy_score\n",
    "from sklearn.metrics import roc_auc_score\n",
    "from sklearn.metrics import cohen_kappa_score"
   ]
  },
  {
   "cell_type": "markdown",
   "metadata": {},
   "source": [
    "# Importing CSV and Analyzing Data"
   ]
  },
  {
   "cell_type": "code",
   "execution_count": 2,
   "metadata": {},
   "outputs": [
    {
     "data": {
      "text/html": [
       "<div>\n",
       "<style scoped>\n",
       "    .dataframe tbody tr th:only-of-type {\n",
       "        vertical-align: middle;\n",
       "    }\n",
       "\n",
       "    .dataframe tbody tr th {\n",
       "        vertical-align: top;\n",
       "    }\n",
       "\n",
       "    .dataframe thead th {\n",
       "        text-align: right;\n",
       "    }\n",
       "</style>\n",
       "<table border=\"1\" class=\"dataframe\">\n",
       "  <thead>\n",
       "    <tr style=\"text-align: right;\">\n",
       "      <th></th>\n",
       "      <th>fixed_acidity</th>\n",
       "      <th>volatile_acidity</th>\n",
       "      <th>citric_acid</th>\n",
       "      <th>residual_sugar</th>\n",
       "      <th>chlorides</th>\n",
       "      <th>free_sulfur_dioxide</th>\n",
       "      <th>total_sulfur_dioxide</th>\n",
       "      <th>density</th>\n",
       "      <th>pH</th>\n",
       "      <th>sulphates</th>\n",
       "      <th>alcohol</th>\n",
       "      <th>quality</th>\n",
       "      <th>quality_label</th>\n",
       "      <th>wine_type</th>\n",
       "    </tr>\n",
       "  </thead>\n",
       "  <tbody>\n",
       "    <tr>\n",
       "      <th>0</th>\n",
       "      <td>7.4</td>\n",
       "      <td>0.700</td>\n",
       "      <td>0.00</td>\n",
       "      <td>1.9</td>\n",
       "      <td>0.076</td>\n",
       "      <td>11.0</td>\n",
       "      <td>34.0</td>\n",
       "      <td>0.99780</td>\n",
       "      <td>3.51</td>\n",
       "      <td>0.56</td>\n",
       "      <td>9.4</td>\n",
       "      <td>5</td>\n",
       "      <td>low</td>\n",
       "      <td>red wine</td>\n",
       "    </tr>\n",
       "    <tr>\n",
       "      <th>1</th>\n",
       "      <td>7.8</td>\n",
       "      <td>0.880</td>\n",
       "      <td>0.00</td>\n",
       "      <td>2.6</td>\n",
       "      <td>0.098</td>\n",
       "      <td>25.0</td>\n",
       "      <td>67.0</td>\n",
       "      <td>0.99680</td>\n",
       "      <td>3.20</td>\n",
       "      <td>0.68</td>\n",
       "      <td>9.8</td>\n",
       "      <td>5</td>\n",
       "      <td>low</td>\n",
       "      <td>red wine</td>\n",
       "    </tr>\n",
       "    <tr>\n",
       "      <th>2</th>\n",
       "      <td>7.8</td>\n",
       "      <td>0.760</td>\n",
       "      <td>0.04</td>\n",
       "      <td>2.3</td>\n",
       "      <td>0.092</td>\n",
       "      <td>15.0</td>\n",
       "      <td>54.0</td>\n",
       "      <td>0.99700</td>\n",
       "      <td>3.26</td>\n",
       "      <td>0.65</td>\n",
       "      <td>9.8</td>\n",
       "      <td>5</td>\n",
       "      <td>low</td>\n",
       "      <td>red wine</td>\n",
       "    </tr>\n",
       "    <tr>\n",
       "      <th>3</th>\n",
       "      <td>11.2</td>\n",
       "      <td>0.280</td>\n",
       "      <td>0.56</td>\n",
       "      <td>1.9</td>\n",
       "      <td>0.075</td>\n",
       "      <td>17.0</td>\n",
       "      <td>60.0</td>\n",
       "      <td>0.99800</td>\n",
       "      <td>3.16</td>\n",
       "      <td>0.58</td>\n",
       "      <td>9.8</td>\n",
       "      <td>6</td>\n",
       "      <td>medium</td>\n",
       "      <td>red wine</td>\n",
       "    </tr>\n",
       "    <tr>\n",
       "      <th>4</th>\n",
       "      <td>7.4</td>\n",
       "      <td>0.700</td>\n",
       "      <td>0.00</td>\n",
       "      <td>1.9</td>\n",
       "      <td>0.076</td>\n",
       "      <td>11.0</td>\n",
       "      <td>34.0</td>\n",
       "      <td>0.99780</td>\n",
       "      <td>3.51</td>\n",
       "      <td>0.56</td>\n",
       "      <td>9.4</td>\n",
       "      <td>5</td>\n",
       "      <td>low</td>\n",
       "      <td>red wine</td>\n",
       "    </tr>\n",
       "    <tr>\n",
       "      <th>...</th>\n",
       "      <td>...</td>\n",
       "      <td>...</td>\n",
       "      <td>...</td>\n",
       "      <td>...</td>\n",
       "      <td>...</td>\n",
       "      <td>...</td>\n",
       "      <td>...</td>\n",
       "      <td>...</td>\n",
       "      <td>...</td>\n",
       "      <td>...</td>\n",
       "      <td>...</td>\n",
       "      <td>...</td>\n",
       "      <td>...</td>\n",
       "      <td>...</td>\n",
       "    </tr>\n",
       "    <tr>\n",
       "      <th>1594</th>\n",
       "      <td>6.2</td>\n",
       "      <td>0.600</td>\n",
       "      <td>0.08</td>\n",
       "      <td>2.0</td>\n",
       "      <td>0.090</td>\n",
       "      <td>32.0</td>\n",
       "      <td>44.0</td>\n",
       "      <td>0.99490</td>\n",
       "      <td>3.45</td>\n",
       "      <td>0.58</td>\n",
       "      <td>10.5</td>\n",
       "      <td>5</td>\n",
       "      <td>low</td>\n",
       "      <td>red wine</td>\n",
       "    </tr>\n",
       "    <tr>\n",
       "      <th>1595</th>\n",
       "      <td>5.9</td>\n",
       "      <td>0.550</td>\n",
       "      <td>0.10</td>\n",
       "      <td>2.2</td>\n",
       "      <td>0.062</td>\n",
       "      <td>39.0</td>\n",
       "      <td>51.0</td>\n",
       "      <td>0.99512</td>\n",
       "      <td>3.52</td>\n",
       "      <td>0.76</td>\n",
       "      <td>11.2</td>\n",
       "      <td>6</td>\n",
       "      <td>medium</td>\n",
       "      <td>red wine</td>\n",
       "    </tr>\n",
       "    <tr>\n",
       "      <th>1596</th>\n",
       "      <td>6.3</td>\n",
       "      <td>0.510</td>\n",
       "      <td>0.13</td>\n",
       "      <td>2.3</td>\n",
       "      <td>0.076</td>\n",
       "      <td>29.0</td>\n",
       "      <td>40.0</td>\n",
       "      <td>0.99574</td>\n",
       "      <td>3.42</td>\n",
       "      <td>0.75</td>\n",
       "      <td>11.0</td>\n",
       "      <td>6</td>\n",
       "      <td>medium</td>\n",
       "      <td>red wine</td>\n",
       "    </tr>\n",
       "    <tr>\n",
       "      <th>1597</th>\n",
       "      <td>5.9</td>\n",
       "      <td>0.645</td>\n",
       "      <td>0.12</td>\n",
       "      <td>2.0</td>\n",
       "      <td>0.075</td>\n",
       "      <td>32.0</td>\n",
       "      <td>44.0</td>\n",
       "      <td>0.99547</td>\n",
       "      <td>3.57</td>\n",
       "      <td>0.71</td>\n",
       "      <td>10.2</td>\n",
       "      <td>5</td>\n",
       "      <td>low</td>\n",
       "      <td>red wine</td>\n",
       "    </tr>\n",
       "    <tr>\n",
       "      <th>1598</th>\n",
       "      <td>6.0</td>\n",
       "      <td>0.310</td>\n",
       "      <td>0.47</td>\n",
       "      <td>3.6</td>\n",
       "      <td>0.067</td>\n",
       "      <td>18.0</td>\n",
       "      <td>42.0</td>\n",
       "      <td>0.99549</td>\n",
       "      <td>3.39</td>\n",
       "      <td>0.66</td>\n",
       "      <td>11.0</td>\n",
       "      <td>6</td>\n",
       "      <td>medium</td>\n",
       "      <td>red wine</td>\n",
       "    </tr>\n",
       "  </tbody>\n",
       "</table>\n",
       "<p>1599 rows × 14 columns</p>\n",
       "</div>"
      ],
      "text/plain": [
       "      fixed_acidity  volatile_acidity  citric_acid  residual_sugar  chlorides  \\\n",
       "0               7.4             0.700         0.00             1.9      0.076   \n",
       "1               7.8             0.880         0.00             2.6      0.098   \n",
       "2               7.8             0.760         0.04             2.3      0.092   \n",
       "3              11.2             0.280         0.56             1.9      0.075   \n",
       "4               7.4             0.700         0.00             1.9      0.076   \n",
       "...             ...               ...          ...             ...        ...   \n",
       "1594            6.2             0.600         0.08             2.0      0.090   \n",
       "1595            5.9             0.550         0.10             2.2      0.062   \n",
       "1596            6.3             0.510         0.13             2.3      0.076   \n",
       "1597            5.9             0.645         0.12             2.0      0.075   \n",
       "1598            6.0             0.310         0.47             3.6      0.067   \n",
       "\n",
       "      free_sulfur_dioxide  total_sulfur_dioxide  density    pH  sulphates  \\\n",
       "0                    11.0                  34.0  0.99780  3.51       0.56   \n",
       "1                    25.0                  67.0  0.99680  3.20       0.68   \n",
       "2                    15.0                  54.0  0.99700  3.26       0.65   \n",
       "3                    17.0                  60.0  0.99800  3.16       0.58   \n",
       "4                    11.0                  34.0  0.99780  3.51       0.56   \n",
       "...                   ...                   ...      ...   ...        ...   \n",
       "1594                 32.0                  44.0  0.99490  3.45       0.58   \n",
       "1595                 39.0                  51.0  0.99512  3.52       0.76   \n",
       "1596                 29.0                  40.0  0.99574  3.42       0.75   \n",
       "1597                 32.0                  44.0  0.99547  3.57       0.71   \n",
       "1598                 18.0                  42.0  0.99549  3.39       0.66   \n",
       "\n",
       "      alcohol  quality quality_label wine_type  \n",
       "0         9.4        5           low  red wine  \n",
       "1         9.8        5           low  red wine  \n",
       "2         9.8        5           low  red wine  \n",
       "3         9.8        6        medium  red wine  \n",
       "4         9.4        5           low  red wine  \n",
       "...       ...      ...           ...       ...  \n",
       "1594     10.5        5           low  red wine  \n",
       "1595     11.2        6        medium  red wine  \n",
       "1596     11.0        6        medium  red wine  \n",
       "1597     10.2        5           low  red wine  \n",
       "1598     11.0        6        medium  red wine  \n",
       "\n",
       "[1599 rows x 14 columns]"
      ]
     },
     "execution_count": 2,
     "metadata": {},
     "output_type": "execute_result"
    }
   ],
   "source": [
    "df = pd.read_csv('red_wine_ml.csv')\n",
    "df"
   ]
  },
  {
   "cell_type": "code",
   "execution_count": 3,
   "metadata": {},
   "outputs": [
    {
     "data": {
      "text/plain": [
       "Index(['fixed_acidity', 'volatile_acidity', 'citric_acid', 'residual_sugar',\n",
       "       'chlorides', 'free_sulfur_dioxide', 'total_sulfur_dioxide', 'density',\n",
       "       'pH', 'sulphates', 'alcohol', 'quality', 'quality_label', 'wine_type'],\n",
       "      dtype='object')"
      ]
     },
     "execution_count": 3,
     "metadata": {},
     "output_type": "execute_result"
    }
   ],
   "source": [
    "df.columns"
   ]
  },
  {
   "cell_type": "code",
   "execution_count": 4,
   "metadata": {},
   "outputs": [
    {
     "data": {
      "text/plain": [
       "fixed_acidity           0\n",
       "volatile_acidity        0\n",
       "citric_acid             0\n",
       "residual_sugar          0\n",
       "chlorides               0\n",
       "free_sulfur_dioxide     0\n",
       "total_sulfur_dioxide    0\n",
       "density                 0\n",
       "pH                      0\n",
       "sulphates               0\n",
       "alcohol                 0\n",
       "quality                 0\n",
       "quality_label           0\n",
       "wine_type               0\n",
       "dtype: int64"
      ]
     },
     "execution_count": 4,
     "metadata": {},
     "output_type": "execute_result"
    }
   ],
   "source": [
    "df.isnull().sum()"
   ]
  },
  {
   "cell_type": "code",
   "execution_count": 5,
   "metadata": {},
   "outputs": [
    {
     "name": "stdout",
     "output_type": "stream",
     "text": [
      "<class 'pandas.core.frame.DataFrame'>\n",
      "RangeIndex: 1599 entries, 0 to 1598\n",
      "Data columns (total 14 columns):\n",
      " #   Column                Non-Null Count  Dtype  \n",
      "---  ------                --------------  -----  \n",
      " 0   fixed_acidity         1599 non-null   float64\n",
      " 1   volatile_acidity      1599 non-null   float64\n",
      " 2   citric_acid           1599 non-null   float64\n",
      " 3   residual_sugar        1599 non-null   float64\n",
      " 4   chlorides             1599 non-null   float64\n",
      " 5   free_sulfur_dioxide   1599 non-null   float64\n",
      " 6   total_sulfur_dioxide  1599 non-null   float64\n",
      " 7   density               1599 non-null   float64\n",
      " 8   pH                    1599 non-null   float64\n",
      " 9   sulphates             1599 non-null   float64\n",
      " 10  alcohol               1599 non-null   float64\n",
      " 11  quality               1599 non-null   int64  \n",
      " 12  quality_label         1599 non-null   object \n",
      " 13  wine_type             1599 non-null   object \n",
      "dtypes: float64(11), int64(1), object(2)\n",
      "memory usage: 175.0+ KB\n"
     ]
    }
   ],
   "source": [
    "df.info()"
   ]
  },
  {
   "cell_type": "code",
   "execution_count": 6,
   "metadata": {},
   "outputs": [
    {
     "data": {
      "text/plain": [
       "np.int64(240)"
      ]
     },
     "execution_count": 6,
     "metadata": {},
     "output_type": "execute_result"
    }
   ],
   "source": [
    "df.duplicated().sum()"
   ]
  },
  {
   "cell_type": "code",
   "execution_count": 7,
   "metadata": {},
   "outputs": [
    {
     "data": {
      "text/html": [
       "<div>\n",
       "<style scoped>\n",
       "    .dataframe tbody tr th:only-of-type {\n",
       "        vertical-align: middle;\n",
       "    }\n",
       "\n",
       "    .dataframe tbody tr th {\n",
       "        vertical-align: top;\n",
       "    }\n",
       "\n",
       "    .dataframe thead th {\n",
       "        text-align: right;\n",
       "    }\n",
       "</style>\n",
       "<table border=\"1\" class=\"dataframe\">\n",
       "  <thead>\n",
       "    <tr style=\"text-align: right;\">\n",
       "      <th></th>\n",
       "      <th>quality_label</th>\n",
       "      <th>wine_type</th>\n",
       "    </tr>\n",
       "  </thead>\n",
       "  <tbody>\n",
       "    <tr>\n",
       "      <th>0</th>\n",
       "      <td>low</td>\n",
       "      <td>red wine</td>\n",
       "    </tr>\n",
       "    <tr>\n",
       "      <th>1</th>\n",
       "      <td>low</td>\n",
       "      <td>red wine</td>\n",
       "    </tr>\n",
       "    <tr>\n",
       "      <th>2</th>\n",
       "      <td>low</td>\n",
       "      <td>red wine</td>\n",
       "    </tr>\n",
       "    <tr>\n",
       "      <th>3</th>\n",
       "      <td>medium</td>\n",
       "      <td>red wine</td>\n",
       "    </tr>\n",
       "    <tr>\n",
       "      <th>4</th>\n",
       "      <td>low</td>\n",
       "      <td>red wine</td>\n",
       "    </tr>\n",
       "  </tbody>\n",
       "</table>\n",
       "</div>"
      ],
      "text/plain": [
       "  quality_label wine_type\n",
       "0           low  red wine\n",
       "1           low  red wine\n",
       "2           low  red wine\n",
       "3        medium  red wine\n",
       "4           low  red wine"
      ]
     },
     "execution_count": 7,
     "metadata": {},
     "output_type": "execute_result"
    }
   ],
   "source": [
    "string_col = df.select_dtypes(include=\"object\").columns\n",
    "df[string_col].head()"
   ]
  },
  {
   "cell_type": "code",
   "execution_count": 8,
   "metadata": {},
   "outputs": [
    {
     "name": "stdout",
     "output_type": "stream",
     "text": [
      "The distribution of categorical values in the quality_label is : \n",
      "quality_label\n",
      "medium    837\n",
      "low       744\n",
      "high       18\n",
      "Name: count, dtype: int64\n",
      "The distribution of categorical values in the wine_type is : \n",
      "wine_type\n",
      "red wine    1599\n",
      "Name: count, dtype: int64\n"
     ]
    }
   ],
   "source": [
    "for col in string_col:\n",
    "    print(f\"The distribution of categorical values in the {col} is : \")\n",
    "    print(df[col].value_counts())"
   ]
  },
  {
   "cell_type": "markdown",
   "metadata": {},
   "source": [
    "# Checking Outliers"
   ]
  },
  {
   "cell_type": "code",
   "execution_count": 9,
   "metadata": {},
   "outputs": [],
   "source": [
    "dfm = df.copy()"
   ]
  },
  {
   "cell_type": "code",
   "execution_count": 10,
   "metadata": {},
   "outputs": [
    {
     "name": "stdout",
     "output_type": "stream",
     "text": [
      "7.1\n",
      "9.2\n",
      "2.0999999999999996\n",
      "3.95\n",
      "12.349999999999998\n",
      "----------\n",
      "0.07\n",
      "0.09\n",
      "0.01999999999999999\n",
      "0.04000000000000002\n",
      "0.11999999999999998\n",
      "----------\n",
      "0.55\n",
      "0.73\n",
      "0.17999999999999994\n",
      "0.28000000000000014\n",
      "0.9999999999999999\n"
     ]
    }
   ],
   "source": [
    "\n",
    "\n",
    "q1fa = np.percentile(dfm.fixed_acidity, 25)\n",
    "q3fa = np.percentile(dfm.fixed_acidity, 75)\n",
    "print(q1fa)\n",
    "print(q3fa)\n",
    "iqrfa = q3fa - q1fa\n",
    "print(iqrfa)\n",
    "lower_treshold_fa = q1fa - (1.5*iqrfa)\n",
    "print(lower_treshold_fa)\n",
    "higher_treshold_fa = q3fa + (1.5*iqrfa)\n",
    "print(higher_treshold_fa)\n",
    "print('----------')\n",
    "\n",
    "q1cl = np.percentile(dfm.chlorides, 25)\n",
    "q3cl = np.percentile(dfm.chlorides, 75)\n",
    "print(q1cl)\n",
    "print(q3cl)\n",
    "iqrcl = q3cl - q1cl\n",
    "print(iqrcl)\n",
    "lower_treshold_cl = q1cl - (1.5*iqrcl)\n",
    "print(lower_treshold_cl)\n",
    "higher_treshold_cl = q3cl + (1.5*iqrcl)\n",
    "print(higher_treshold_cl)\n",
    "print('----------')\n",
    "\n",
    "\n",
    "q1su = np.percentile(dfm.sulphates, 25)\n",
    "q3su = np.percentile(dfm.sulphates, 75)\n",
    "print(q1su)\n",
    "print(q3su)\n",
    "iqrsu = q3su - q1su\n",
    "print(iqrsu)\n",
    "lower_treshold_su = q1su - (1.5*iqrsu)\n",
    "print(lower_treshold_su)\n",
    "higher_treshold_su = q3su + (1.5*iqrsu)\n",
    "print(higher_treshold_su)\n"
   ]
  },
  {
   "cell_type": "markdown",
   "metadata": {},
   "source": [
    "# Removing Outliers"
   ]
  },
  {
   "cell_type": "code",
   "execution_count": 11,
   "metadata": {},
   "outputs": [
    {
     "name": "stdout",
     "output_type": "stream",
     "text": [
      "<class 'pandas.core.frame.DataFrame'>\n",
      "RangeIndex: 1599 entries, 0 to 1598\n",
      "Data columns (total 14 columns):\n",
      " #   Column                Non-Null Count  Dtype  \n",
      "---  ------                --------------  -----  \n",
      " 0   fixed_acidity         1599 non-null   float64\n",
      " 1   volatile_acidity      1599 non-null   float64\n",
      " 2   citric_acid           1599 non-null   float64\n",
      " 3   residual_sugar        1599 non-null   float64\n",
      " 4   chlorides             1599 non-null   float64\n",
      " 5   free_sulfur_dioxide   1599 non-null   float64\n",
      " 6   total_sulfur_dioxide  1599 non-null   float64\n",
      " 7   density               1599 non-null   float64\n",
      " 8   pH                    1599 non-null   float64\n",
      " 9   sulphates             1599 non-null   float64\n",
      " 10  alcohol               1599 non-null   float64\n",
      " 11  quality               1599 non-null   int64  \n",
      " 12  quality_label         1599 non-null   object \n",
      " 13  wine_type             1599 non-null   object \n",
      "dtypes: float64(11), int64(1), object(2)\n",
      "memory usage: 175.0+ KB\n",
      "---\n",
      "<class 'pandas.core.frame.DataFrame'>\n",
      "Index: 1540 entries, 0 to 1598\n",
      "Data columns (total 14 columns):\n",
      " #   Column                Non-Null Count  Dtype  \n",
      "---  ------                --------------  -----  \n",
      " 0   fixed_acidity         1540 non-null   float64\n",
      " 1   volatile_acidity      1540 non-null   float64\n",
      " 2   citric_acid           1540 non-null   float64\n",
      " 3   residual_sugar        1540 non-null   float64\n",
      " 4   chlorides             1540 non-null   float64\n",
      " 5   free_sulfur_dioxide   1540 non-null   float64\n",
      " 6   total_sulfur_dioxide  1540 non-null   float64\n",
      " 7   density               1540 non-null   float64\n",
      " 8   pH                    1540 non-null   float64\n",
      " 9   sulphates             1540 non-null   float64\n",
      " 10  alcohol               1540 non-null   float64\n",
      " 11  quality               1540 non-null   int64  \n",
      " 12  quality_label         1540 non-null   object \n",
      " 13  wine_type             1540 non-null   object \n",
      "dtypes: float64(11), int64(1), object(2)\n",
      "memory usage: 180.5+ KB\n"
     ]
    }
   ],
   "source": [
    "dfm_clean = dfm[\n",
    "    (dfm['fixed_acidity'] >= lower_treshold_fa) & (dfm['fixed_acidity'] <= higher_treshold_fa)\n",
    "]\n",
    "dfm_clean = dfm[\n",
    "    (df['chlorides'] >= lower_treshold_cl) & (df['chlorides'] <= higher_treshold_cl)\n",
    "]\n",
    "dfm_clean = dfm[\n",
    "    (df['sulphates'] >= lower_treshold_su) & (df['sulphates'] <= higher_treshold_su)\n",
    "]\n",
    "\n",
    "dfm_clean.head(20)\n",
    "dfm.info()\n",
    "print('---')\n",
    "dfm_clean.info()"
   ]
  },
  {
   "cell_type": "markdown",
   "metadata": {},
   "source": [
    "# Machine Starts"
   ]
  },
  {
   "cell_type": "code",
   "execution_count": 12,
   "metadata": {},
   "outputs": [
    {
     "name": "stderr",
     "output_type": "stream",
     "text": [
      "/var/folders/pm/7vn7thz14p556cr_ql9w5xbw0000gn/T/ipykernel_20484/788181162.py:1: FutureWarning: A value is trying to be set on a copy of a DataFrame or Series through chained assignment using an inplace method.\n",
      "The behavior will change in pandas 3.0. This inplace method will never work because the intermediate object on which we are setting values always behaves as a copy.\n",
      "\n",
      "For example, when doing 'df[col].method(value, inplace=True)', try using 'df.method({col: value}, inplace=True)' or df[col] = df[col].method(value) instead, to perform the operation inplace on the original object.\n",
      "\n",
      "\n",
      "  dfm_clean['quality_label'].replace({'low':0, 'medium':1, 'high':2}, inplace=True)\n",
      "/var/folders/pm/7vn7thz14p556cr_ql9w5xbw0000gn/T/ipykernel_20484/788181162.py:1: FutureWarning: Downcasting behavior in `replace` is deprecated and will be removed in a future version. To retain the old behavior, explicitly call `result.infer_objects(copy=False)`. To opt-in to the future behavior, set `pd.set_option('future.no_silent_downcasting', True)`\n",
      "  dfm_clean['quality_label'].replace({'low':0, 'medium':1, 'high':2}, inplace=True)\n",
      "/var/folders/pm/7vn7thz14p556cr_ql9w5xbw0000gn/T/ipykernel_20484/788181162.py:1: SettingWithCopyWarning: \n",
      "A value is trying to be set on a copy of a slice from a DataFrame\n",
      "\n",
      "See the caveats in the documentation: https://pandas.pydata.org/pandas-docs/stable/user_guide/indexing.html#returning-a-view-versus-a-copy\n",
      "  dfm_clean['quality_label'].replace({'low':0, 'medium':1, 'high':2}, inplace=True)\n",
      "/var/folders/pm/7vn7thz14p556cr_ql9w5xbw0000gn/T/ipykernel_20484/788181162.py:4: FutureWarning: A value is trying to be set on a copy of a DataFrame or Series through chained assignment using an inplace method.\n",
      "The behavior will change in pandas 3.0. This inplace method will never work because the intermediate object on which we are setting values always behaves as a copy.\n",
      "\n",
      "For example, when doing 'df[col].method(value, inplace=True)', try using 'df.method({col: value}, inplace=True)' or df[col] = df[col].method(value) instead, to perform the operation inplace on the original object.\n",
      "\n",
      "\n",
      "  dfm_clean['wine_type'].replace({'white wine':0, 'red wine':1}, inplace=True)\n",
      "/var/folders/pm/7vn7thz14p556cr_ql9w5xbw0000gn/T/ipykernel_20484/788181162.py:4: FutureWarning: Downcasting behavior in `replace` is deprecated and will be removed in a future version. To retain the old behavior, explicitly call `result.infer_objects(copy=False)`. To opt-in to the future behavior, set `pd.set_option('future.no_silent_downcasting', True)`\n",
      "  dfm_clean['wine_type'].replace({'white wine':0, 'red wine':1}, inplace=True)\n",
      "/var/folders/pm/7vn7thz14p556cr_ql9w5xbw0000gn/T/ipykernel_20484/788181162.py:4: SettingWithCopyWarning: \n",
      "A value is trying to be set on a copy of a slice from a DataFrame\n",
      "\n",
      "See the caveats in the documentation: https://pandas.pydata.org/pandas-docs/stable/user_guide/indexing.html#returning-a-view-versus-a-copy\n",
      "  dfm_clean['wine_type'].replace({'white wine':0, 'red wine':1}, inplace=True)\n"
     ]
    }
   ],
   "source": [
    "dfm_clean['quality_label'].replace({'low':0, 'medium':1, 'high':2}, inplace=True)\n",
    "# I actually should drop wine type as we do not need it. \n",
    "# dfm.drop('quality_label', axis=1)\n",
    "dfm_clean['wine_type'].replace({'white wine':0, 'red wine':1}, inplace=True)"
   ]
  },
  {
   "cell_type": "code",
   "execution_count": 13,
   "metadata": {},
   "outputs": [
    {
     "data": {
      "text/plain": [
       "Index(['fixed_acidity', 'volatile_acidity', 'citric_acid', 'residual_sugar',\n",
       "       'chlorides', 'free_sulfur_dioxide', 'total_sulfur_dioxide', 'density',\n",
       "       'pH', 'sulphates', 'alcohol', 'quality', 'quality_label', 'wine_type'],\n",
       "      dtype='object')"
      ]
     },
     "execution_count": 13,
     "metadata": {},
     "output_type": "execute_result"
    }
   ],
   "source": [
    "dfm_clean.columns"
   ]
  },
  {
   "cell_type": "code",
   "execution_count": 14,
   "metadata": {},
   "outputs": [],
   "source": [
    "from sklearn.model_selection import train_test_split, GridSearchCV\n",
    "\n",
    "# split data into X and Y\n",
    "X = dfm_clean.drop(['quality_label', 'quality', 'density', 'chlorides', 'wine_type', 'free_sulfur_dioxide', 'pH', 'sulphates', 'free_sulfur_dioxide'], axis=1)\n",
    "y = dfm_clean['quality_label']\n",
    "\n",
    "# split data\n",
    "x_train, x_test, y_train, y_test = train_test_split(X, y, test_size=0.20, random_state=42)"
   ]
  },
  {
   "cell_type": "code",
   "execution_count": 15,
   "metadata": {},
   "outputs": [
    {
     "data": {
      "text/plain": [
       "(308,)"
      ]
     },
     "execution_count": 15,
     "metadata": {},
     "output_type": "execute_result"
    }
   ],
   "source": [
    "y_test.shape"
   ]
  },
  {
   "cell_type": "code",
   "execution_count": 16,
   "metadata": {},
   "outputs": [
    {
     "data": {
      "text/plain": [
       "(308, 6)"
      ]
     },
     "execution_count": 16,
     "metadata": {},
     "output_type": "execute_result"
    }
   ],
   "source": [
    "x_test.shape"
   ]
  },
  {
   "cell_type": "markdown",
   "metadata": {},
   "source": [
    "# Robust Scaler"
   ]
  },
  {
   "cell_type": "code",
   "execution_count": 17,
   "metadata": {},
   "outputs": [
    {
     "data": {
      "text/html": [
       "<div>\n",
       "<style scoped>\n",
       "    .dataframe tbody tr th:only-of-type {\n",
       "        vertical-align: middle;\n",
       "    }\n",
       "\n",
       "    .dataframe tbody tr th {\n",
       "        vertical-align: top;\n",
       "    }\n",
       "\n",
       "    .dataframe thead th {\n",
       "        text-align: right;\n",
       "    }\n",
       "</style>\n",
       "<table border=\"1\" class=\"dataframe\">\n",
       "  <thead>\n",
       "    <tr style=\"text-align: right;\">\n",
       "      <th></th>\n",
       "      <th>fixed_acidity</th>\n",
       "      <th>volatile_acidity</th>\n",
       "      <th>citric_acid</th>\n",
       "      <th>residual_sugar</th>\n",
       "      <th>total_sulfur_dioxide</th>\n",
       "      <th>alcohol</th>\n",
       "    </tr>\n",
       "  </thead>\n",
       "  <tbody>\n",
       "    <tr>\n",
       "      <th>184</th>\n",
       "      <td>6.7</td>\n",
       "      <td>0.620</td>\n",
       "      <td>0.21</td>\n",
       "      <td>1.9</td>\n",
       "      <td>62.0</td>\n",
       "      <td>9.3</td>\n",
       "    </tr>\n",
       "    <tr>\n",
       "      <th>1166</th>\n",
       "      <td>9.9</td>\n",
       "      <td>0.540</td>\n",
       "      <td>0.26</td>\n",
       "      <td>2.0</td>\n",
       "      <td>60.0</td>\n",
       "      <td>10.2</td>\n",
       "    </tr>\n",
       "    <tr>\n",
       "      <th>33</th>\n",
       "      <td>6.9</td>\n",
       "      <td>0.605</td>\n",
       "      <td>0.12</td>\n",
       "      <td>10.7</td>\n",
       "      <td>83.0</td>\n",
       "      <td>9.4</td>\n",
       "    </tr>\n",
       "    <tr>\n",
       "      <th>202</th>\n",
       "      <td>6.8</td>\n",
       "      <td>0.500</td>\n",
       "      <td>0.11</td>\n",
       "      <td>1.5</td>\n",
       "      <td>49.0</td>\n",
       "      <td>9.5</td>\n",
       "    </tr>\n",
       "    <tr>\n",
       "      <th>1019</th>\n",
       "      <td>7.0</td>\n",
       "      <td>0.500</td>\n",
       "      <td>0.14</td>\n",
       "      <td>1.8</td>\n",
       "      <td>23.0</td>\n",
       "      <td>10.4</td>\n",
       "    </tr>\n",
       "    <tr>\n",
       "      <th>...</th>\n",
       "      <td>...</td>\n",
       "      <td>...</td>\n",
       "      <td>...</td>\n",
       "      <td>...</td>\n",
       "      <td>...</td>\n",
       "      <td>...</td>\n",
       "    </tr>\n",
       "    <tr>\n",
       "      <th>1294</th>\n",
       "      <td>8.2</td>\n",
       "      <td>0.635</td>\n",
       "      <td>0.10</td>\n",
       "      <td>2.1</td>\n",
       "      <td>60.0</td>\n",
       "      <td>10.9</td>\n",
       "    </tr>\n",
       "    <tr>\n",
       "      <th>434</th>\n",
       "      <td>10.4</td>\n",
       "      <td>0.410</td>\n",
       "      <td>0.55</td>\n",
       "      <td>3.2</td>\n",
       "      <td>54.0</td>\n",
       "      <td>9.9</td>\n",
       "    </tr>\n",
       "    <tr>\n",
       "      <th>1094</th>\n",
       "      <td>6.6</td>\n",
       "      <td>0.725</td>\n",
       "      <td>0.09</td>\n",
       "      <td>5.5</td>\n",
       "      <td>17.0</td>\n",
       "      <td>10.8</td>\n",
       "    </tr>\n",
       "    <tr>\n",
       "      <th>1242</th>\n",
       "      <td>9.0</td>\n",
       "      <td>0.400</td>\n",
       "      <td>0.41</td>\n",
       "      <td>2.0</td>\n",
       "      <td>40.0</td>\n",
       "      <td>12.2</td>\n",
       "    </tr>\n",
       "    <tr>\n",
       "      <th>1451</th>\n",
       "      <td>7.8</td>\n",
       "      <td>0.320</td>\n",
       "      <td>0.44</td>\n",
       "      <td>2.7</td>\n",
       "      <td>17.0</td>\n",
       "      <td>11.0</td>\n",
       "    </tr>\n",
       "  </tbody>\n",
       "</table>\n",
       "<p>308 rows × 6 columns</p>\n",
       "</div>"
      ],
      "text/plain": [
       "      fixed_acidity  volatile_acidity  citric_acid  residual_sugar  \\\n",
       "184             6.7             0.620         0.21             1.9   \n",
       "1166            9.9             0.540         0.26             2.0   \n",
       "33              6.9             0.605         0.12            10.7   \n",
       "202             6.8             0.500         0.11             1.5   \n",
       "1019            7.0             0.500         0.14             1.8   \n",
       "...             ...               ...          ...             ...   \n",
       "1294            8.2             0.635         0.10             2.1   \n",
       "434            10.4             0.410         0.55             3.2   \n",
       "1094            6.6             0.725         0.09             5.5   \n",
       "1242            9.0             0.400         0.41             2.0   \n",
       "1451            7.8             0.320         0.44             2.7   \n",
       "\n",
       "      total_sulfur_dioxide  alcohol  \n",
       "184                   62.0      9.3  \n",
       "1166                  60.0     10.2  \n",
       "33                    83.0      9.4  \n",
       "202                   49.0      9.5  \n",
       "1019                  23.0     10.4  \n",
       "...                    ...      ...  \n",
       "1294                  60.0     10.9  \n",
       "434                   54.0      9.9  \n",
       "1094                  17.0     10.8  \n",
       "1242                  40.0     12.2  \n",
       "1451                  17.0     11.0  \n",
       "\n",
       "[308 rows x 6 columns]"
      ]
     },
     "execution_count": 17,
     "metadata": {},
     "output_type": "execute_result"
    }
   ],
   "source": [
    "x_test"
   ]
  },
  {
   "cell_type": "code",
   "execution_count": 18,
   "metadata": {},
   "outputs": [],
   "source": [
    "# data normalization with sklearn using RobustScaler\n",
    "from sklearn.preprocessing import RobustScaler\n",
    "\n",
    "# fit scaler on training data\n",
    "scaler = RobustScaler().fit(x_train)\n",
    "\n",
    "# transform training data\n",
    "x_train = scaler.transform(x_train)\n",
    "\n",
    "# transform testing data\n",
    "x_test = scaler.transform(x_test)\n"
   ]
  },
  {
   "cell_type": "markdown",
   "metadata": {},
   "source": [
    "# Training and Evaluating models with a For Loop"
   ]
  },
  {
   "cell_type": "code",
   "execution_count": 19,
   "metadata": {},
   "outputs": [
    {
     "name": "stdout",
     "output_type": "stream",
     "text": [
      "=====================\n",
      "Training LR...\n",
      "Accuracy for LR: 0.6818\n",
      "Cohen's Kappa for LR: 0.3724\n",
      "              precision    recall  f1-score   support\n",
      "\n",
      "         low       0.67      0.67      0.67       141\n",
      "      medium       0.69      0.71      0.70       161\n",
      "        high       0.00      0.00      0.00         6\n",
      "\n",
      "    accuracy                           0.68       308\n",
      "   macro avg       0.45      0.46      0.46       308\n",
      "weighted avg       0.67      0.68      0.67       308\n",
      "\n",
      "-------\n",
      "ROC AUC for LR: 0.8146\n",
      "Log Loss for LR: 0.6297\n",
      "=====================\n"
     ]
    },
    {
     "name": "stderr",
     "output_type": "stream",
     "text": [
      "/opt/anaconda3/envs/MarcosPython10/lib/python3.10/site-packages/sklearn/metrics/_classification.py:1731: UndefinedMetricWarning: Precision is ill-defined and being set to 0.0 in labels with no predicted samples. Use `zero_division` parameter to control this behavior.\n",
      "  _warn_prf(average, modifier, f\"{metric.capitalize()} is\", result.shape[0])\n",
      "/opt/anaconda3/envs/MarcosPython10/lib/python3.10/site-packages/sklearn/metrics/_classification.py:1731: UndefinedMetricWarning: Precision is ill-defined and being set to 0.0 in labels with no predicted samples. Use `zero_division` parameter to control this behavior.\n",
      "  _warn_prf(average, modifier, f\"{metric.capitalize()} is\", result.shape[0])\n",
      "/opt/anaconda3/envs/MarcosPython10/lib/python3.10/site-packages/sklearn/metrics/_classification.py:1731: UndefinedMetricWarning: Precision is ill-defined and being set to 0.0 in labels with no predicted samples. Use `zero_division` parameter to control this behavior.\n",
      "  _warn_prf(average, modifier, f\"{metric.capitalize()} is\", result.shape[0])\n"
     ]
    },
    {
     "data": {
      "image/png": "[encoded data removed]",
      "text/plain": [
       "<Figure size 400x300 with 1 Axes>"
      ]
     },
     "metadata": {},
     "output_type": "display_data"
    },
    {
     "name": "stdout",
     "output_type": "stream",
     "text": [
      "=====================\n",
      "Training DTC...\n",
      "Accuracy for DTC: 0.7143\n",
      "Cohen's Kappa for DTC: 0.4457\n",
      "              precision    recall  f1-score   support\n",
      "\n",
      "         low       0.69      0.74      0.71       141\n",
      "      medium       0.74      0.71      0.72       161\n",
      "        high       0.50      0.33      0.40         6\n",
      "\n",
      "    accuracy                           0.71       308\n",
      "   macro avg       0.64      0.59      0.61       308\n",
      "weighted avg       0.71      0.71      0.71       308\n",
      "\n",
      "-------\n",
      "ROC AUC for DTC: 0.7041\n",
      "Log Loss for DTC: 10.2982\n",
      "=====================\n"
     ]
    },
    {
     "data": {
      "image/png": "[encoded data removed]",
      "text/plain": [
       "<Figure size 400x300 with 1 Axes>"
      ]
     },
     "metadata": {},
     "output_type": "display_data"
    },
    {
     "name": "stdout",
     "output_type": "stream",
     "text": [
      "=====================\n",
      "Training GNB...\n",
      "Accuracy for GNB: 0.6558\n",
      "Cohen's Kappa for GNB: 0.3240\n",
      "              precision    recall  f1-score   support\n",
      "\n",
      "         low       0.64      0.68      0.66       141\n",
      "      medium       0.68      0.66      0.67       161\n",
      "        high       0.00      0.00      0.00         6\n",
      "\n",
      "    accuracy                           0.66       308\n",
      "   macro avg       0.44      0.45      0.44       308\n",
      "weighted avg       0.64      0.66      0.65       308\n",
      "\n",
      "-------\n",
      "ROC AUC for GNB: 0.8005\n",
      "Log Loss for GNB: 0.7618\n",
      "=====================\n"
     ]
    },
    {
     "name": "stderr",
     "output_type": "stream",
     "text": [
      "/opt/anaconda3/envs/MarcosPython10/lib/python3.10/site-packages/sklearn/metrics/_classification.py:1731: UndefinedMetricWarning: Precision is ill-defined and being set to 0.0 in labels with no predicted samples. Use `zero_division` parameter to control this behavior.\n",
      "  _warn_prf(average, modifier, f\"{metric.capitalize()} is\", result.shape[0])\n",
      "/opt/anaconda3/envs/MarcosPython10/lib/python3.10/site-packages/sklearn/metrics/_classification.py:1731: UndefinedMetricWarning: Precision is ill-defined and being set to 0.0 in labels with no predicted samples. Use `zero_division` parameter to control this behavior.\n",
      "  _warn_prf(average, modifier, f\"{metric.capitalize()} is\", result.shape[0])\n",
      "/opt/anaconda3/envs/MarcosPython10/lib/python3.10/site-packages/sklearn/metrics/_classification.py:1731: UndefinedMetricWarning: Precision is ill-defined and being set to 0.0 in labels with no predicted samples. Use `zero_division` parameter to control this behavior.\n",
      "  _warn_prf(average, modifier, f\"{metric.capitalize()} is\", result.shape[0])\n"
     ]
    },
    {
     "data": {
      "image/png": "[encoded data removed]",
      "text/plain": [
       "<Figure size 400x300 with 1 Axes>"
      ]
     },
     "metadata": {},
     "output_type": "display_data"
    },
    {
     "name": "stdout",
     "output_type": "stream",
     "text": [
      "=====================\n",
      "Training RF...\n",
      "Accuracy for RF: 0.7500\n",
      "Cohen's Kappa for RF: 0.5073\n",
      "              precision    recall  f1-score   support\n",
      "\n",
      "         low       0.76      0.72      0.74       141\n",
      "      medium       0.74      0.80      0.77       161\n",
      "        high       1.00      0.17      0.29         6\n",
      "\n",
      "    accuracy                           0.75       308\n",
      "   macro avg       0.83      0.56      0.60       308\n",
      "weighted avg       0.75      0.75      0.75       308\n",
      "\n",
      "-------\n",
      "ROC AUC for RF: 0.8992\n",
      "Log Loss for RF: 0.5048\n",
      "=====================\n"
     ]
    },
    {
     "data": {
      "image/png": "[encoded data removed]",
      "text/plain": [
       "<Figure size 400x300 with 1 Axes>"
      ]
     },
     "metadata": {},
     "output_type": "display_data"
    },
    {
     "name": "stdout",
     "output_type": "stream",
     "text": [
      "=====================\n",
      "Training SVC...\n",
      "Accuracy for SVC: 0.6818\n",
      "Cohen's Kappa for SVC: 0.3719\n",
      "              precision    recall  f1-score   support\n",
      "\n",
      "         low       0.68      0.67      0.67       141\n",
      "      medium       0.69      0.72      0.70       161\n",
      "        high       0.00      0.00      0.00         6\n",
      "\n",
      "    accuracy                           0.68       308\n",
      "   macro avg       0.45      0.46      0.46       308\n",
      "weighted avg       0.67      0.68      0.67       308\n",
      "\n",
      "-------\n",
      "ROC AUC for SVC: 0.8189\n",
      "Log Loss for SVC: 0.6360\n",
      "=====================\n"
     ]
    },
    {
     "name": "stderr",
     "output_type": "stream",
     "text": [
      "/opt/anaconda3/envs/MarcosPython10/lib/python3.10/site-packages/sklearn/metrics/_classification.py:1731: UndefinedMetricWarning: Precision is ill-defined and being set to 0.0 in labels with no predicted samples. Use `zero_division` parameter to control this behavior.\n",
      "  _warn_prf(average, modifier, f\"{metric.capitalize()} is\", result.shape[0])\n",
      "/opt/anaconda3/envs/MarcosPython10/lib/python3.10/site-packages/sklearn/metrics/_classification.py:1731: UndefinedMetricWarning: Precision is ill-defined and being set to 0.0 in labels with no predicted samples. Use `zero_division` parameter to control this behavior.\n",
      "  _warn_prf(average, modifier, f\"{metric.capitalize()} is\", result.shape[0])\n",
      "/opt/anaconda3/envs/MarcosPython10/lib/python3.10/site-packages/sklearn/metrics/_classification.py:1731: UndefinedMetricWarning: Precision is ill-defined and being set to 0.0 in labels with no predicted samples. Use `zero_division` parameter to control this behavior.\n",
      "  _warn_prf(average, modifier, f\"{metric.capitalize()} is\", result.shape[0])\n"
     ]
    },
    {
     "data": {
      "image/png": "[encoded data removed]",
      "text/plain": [
       "<Figure size 400x300 with 1 Axes>"
      ]
     },
     "metadata": {},
     "output_type": "display_data"
    },
    {
     "name": "stdout",
     "output_type": "stream",
     "text": [
      "=====================\n",
      "Training KNC...\n",
      "Accuracy for KNC: 0.6981\n",
      "Cohen's Kappa for KNC: 0.4032\n",
      "              precision    recall  f1-score   support\n",
      "\n",
      "         low       0.70      0.67      0.69       141\n",
      "      medium       0.70      0.75      0.72       161\n",
      "        high       0.00      0.00      0.00         6\n",
      "\n",
      "    accuracy                           0.70       308\n",
      "   macro avg       0.47      0.47      0.47       308\n",
      "weighted avg       0.68      0.70      0.69       308\n",
      "\n",
      "-------\n",
      "ROC AUC for KNC: 0.7335\n",
      "Log Loss for KNC: 2.5420\n",
      "=====================\n"
     ]
    },
    {
     "name": "stderr",
     "output_type": "stream",
     "text": [
      "/opt/anaconda3/envs/MarcosPython10/lib/python3.10/site-packages/sklearn/metrics/_classification.py:1731: UndefinedMetricWarning: Precision is ill-defined and being set to 0.0 in labels with no predicted samples. Use `zero_division` parameter to control this behavior.\n",
      "  _warn_prf(average, modifier, f\"{metric.capitalize()} is\", result.shape[0])\n",
      "/opt/anaconda3/envs/MarcosPython10/lib/python3.10/site-packages/sklearn/metrics/_classification.py:1731: UndefinedMetricWarning: Precision is ill-defined and being set to 0.0 in labels with no predicted samples. Use `zero_division` parameter to control this behavior.\n",
      "  _warn_prf(average, modifier, f\"{metric.capitalize()} is\", result.shape[0])\n",
      "/opt/anaconda3/envs/MarcosPython10/lib/python3.10/site-packages/sklearn/metrics/_classification.py:1731: UndefinedMetricWarning: Precision is ill-defined and being set to 0.0 in labels with no predicted samples. Use `zero_division` parameter to control this behavior.\n",
      "  _warn_prf(average, modifier, f\"{metric.capitalize()} is\", result.shape[0])\n"
     ]
    },
    {
     "data": {
      "image/png": "[encoded data removed]",
      "text/plain": [
       "<Figure size 400x300 with 1 Axes>"
      ]
     },
     "metadata": {},
     "output_type": "display_data"
    },
    {
     "name": "stdout",
     "output_type": "stream",
     "text": [
      "=====================\n",
      "Training MLPC...\n",
      "Accuracy for MLPC: 0.6753\n",
      "Cohen's Kappa for MLPC: 0.3607\n",
      "              precision    recall  f1-score   support\n",
      "\n",
      "         low       0.66      0.68      0.67       141\n",
      "      medium       0.69      0.70      0.69       161\n",
      "        high       0.00      0.00      0.00         6\n",
      "\n",
      "    accuracy                           0.68       308\n",
      "   macro avg       0.45      0.46      0.45       308\n",
      "weighted avg       0.66      0.68      0.67       308\n",
      "\n",
      "-------\n",
      "ROC AUC for MLPC: 0.8303\n",
      "Log Loss for MLPC: 0.6081\n",
      "=====================\n"
     ]
    },
    {
     "name": "stderr",
     "output_type": "stream",
     "text": [
      "/opt/anaconda3/envs/MarcosPython10/lib/python3.10/site-packages/sklearn/neural_network/_multilayer_perceptron.py:781: ConvergenceWarning: Stochastic Optimizer: Maximum iterations (300) reached and the optimization hasn't converged yet.\n",
      "  warnings.warn(\n",
      "/opt/anaconda3/envs/MarcosPython10/lib/python3.10/site-packages/sklearn/metrics/_classification.py:1731: UndefinedMetricWarning: Precision is ill-defined and being set to 0.0 in labels with no predicted samples. Use `zero_division` parameter to control this behavior.\n",
      "  _warn_prf(average, modifier, f\"{metric.capitalize()} is\", result.shape[0])\n",
      "/opt/anaconda3/envs/MarcosPython10/lib/python3.10/site-packages/sklearn/metrics/_classification.py:1731: UndefinedMetricWarning: Precision is ill-defined and being set to 0.0 in labels with no predicted samples. Use `zero_division` parameter to control this behavior.\n",
      "  _warn_prf(average, modifier, f\"{metric.capitalize()} is\", result.shape[0])\n",
      "/opt/anaconda3/envs/MarcosPython10/lib/python3.10/site-packages/sklearn/metrics/_classification.py:1731: UndefinedMetricWarning: Precision is ill-defined and being set to 0.0 in labels with no predicted samples. Use `zero_division` parameter to control this behavior.\n",
      "  _warn_prf(average, modifier, f\"{metric.capitalize()} is\", result.shape[0])\n"
     ]
    },
    {
     "data": {
      "image/png": "[encoded data removed]",
      "text/plain": [
       "<Figure size 400x300 with 1 Axes>"
      ]
     },
     "metadata": {},
     "output_type": "display_data"
    },
    {
     "name": "stdout",
     "output_type": "stream",
     "text": [
      "=====================\n",
      "Summary of Cohen's Kappa scores:\n",
      "LR has Fair agreement with a Kappa value of 0.3724218230206253\n",
      "DTC has Good agreement with a Kappa value of 0.4456806282722514\n",
      "GNB has Fair agreement with a Kappa value of 0.3240019877422561\n",
      "RF has Good agreement with a Kappa value of 0.5072614323409029\n",
      "SVC has Fair agreement with a Kappa value of 0.3718994506409189\n",
      "KNC has Good agreement with a Kappa value of 0.40320026668889075\n",
      "MLPC has Fair agreement with a Kappa value of 0.3606775157754899\n",
      "=====================\n",
      "Summary of ROC AUC scores:\n",
      "LR has a Good ROC AUC score of 0.6297\n",
      "DTC has a Poor ROC AUC score of 10.2982 (high loss)\n",
      "GNB has a Fair ROC AUC score of 0.7618\n",
      "RF has a Good ROC AUC score of 0.5048\n",
      "SVC has a Good ROC AUC score of 0.6360\n",
      "KNC has a Poor ROC AUC score of 2.5420 (high loss)\n",
      "MLPC has a Good ROC AUC score of 0.6081\n",
      "=====================\n",
      "Summary of Log Loss scores:\n",
      "LR has a Very Good Log Loss score of 0.8146\n",
      "DTC has a Good Log Loss score of 0.7041\n",
      "GNB has a Very Good Log Loss score of 0.8005\n",
      "RF has a Very Good Log Loss score of 0.8992\n",
      "SVC has a Very Good Log Loss score of 0.8189\n",
      "KNC has a Good Log Loss score of 0.7335\n",
      "MLPC has a Very Good Log Loss score of 0.8303\n",
      "=====================\n",
      "Final Thoughts:\n",
      "LR might not be reliable enough.\n",
      "DTC might not be reliable enough.\n",
      "GNB might not be reliable enough.\n",
      "RF is a good choice.\n",
      "SVC might not be reliable enough.\n",
      "KNC might not be reliable enough.\n",
      "MLPC might not be reliable enough.\n"
     ]
    }
   ],
   "source": [
    "models = {\n",
    "    'LR': LogisticRegression(random_state=42, max_iter=100),\n",
    "    'DTC': DecisionTreeClassifier(random_state=42),\n",
    "    'GNB': GaussianNB(),\n",
    "    'RF': RandomForestClassifier(random_state=42),\n",
    "    'SVC': SVC(probability=True, random_state=42),  # set probability=True for roc_auc_score\n",
    "    'KNC': KNeighborsClassifier(),\n",
    "    'MLPC': MLPClassifier(random_state=42, max_iter=300),\n",
    "}\n",
    "\n",
    "kappa_scores = {}\n",
    "roc_auc_scores = {}\n",
    "log_loss_scores = {}\n",
    "\n",
    "print('=====================')\n",
    "\n",
    "# for name, model in models.items():\n",
    "#     print(f\"Running CV for {name}...\")\n",
    "    \n",
    "#     preds = cross_val_predict(model, X, y, cv=cv, method='predict')\n",
    "    \n",
    "#     if hasattr(model, \"predict_proba\"):\n",
    "#         probs = cross_val_predict(model, X, y, cv=cv, method='predict_proba')\n",
    "#     else:\n",
    "#         probs = None\n",
    "\n",
    "for name, model in models.items():\n",
    "    print(f\"Training {name}...\")\n",
    "    model.fit(x_train, y_train)\n",
    "\n",
    "    preds = model.predict(x_test)\n",
    "    acc = accuracy_score(y_test, preds)\n",
    "    kappa = cohen_kappa_score(y_test, preds)\n",
    "\n",
    "    print(f\"Accuracy for {name}: {acc:.4f}\")\n",
    "    print(f\"Cohen's Kappa for {name}: {kappa:.4f}\")\n",
    "    print(classification_report(y_test, preds, target_names=[\"low\", \"medium\", \"high\"]))\n",
    "    print('-------')\n",
    "\n",
    "    kappa_scores[name] = kappa\n",
    "\n",
    "    if hasattr(model, \"predict_proba\"):\n",
    "        probs = model.predict_proba(x_test)\n",
    "        try:\n",
    "            roc_auc = roc_auc_score(y_test, probs, multi_class='ovr')\n",
    "            print(f\"ROC AUC for {name}: {roc_auc:.4f}\")\n",
    "            roc_auc_scores[name] = roc_auc\n",
    "            loss = log_loss(y_test, probs)\n",
    "            log_loss_scores[name] = loss\n",
    "            print(f\"Log Loss for {name}: {loss:.4f}\")\n",
    "        except Exception as e:\n",
    "            print(f\"Could not calculate ROC AUC and Log Loss for {name}: {e}\")\n",
    "    else:\n",
    "        print(f\"{name} does not support predict_proba, skipping ROC AUC.\")\n",
    "\n",
    "    print('=====================')\n",
    "    \n",
    "    cm = confusion_matrix(y_test, preds)\n",
    "    cm_df = pd.DataFrame(cm, index=[\"Low\", \"Medium\", \"High\"], columns=[\"Low\", \"Medium\", \"High\"])\n",
    "    \n",
    "    light_blues = LinearSegmentedColormap.from_list(\"light_blues\", [\"#E0F2F1\", \"#4FC3F7\"])\n",
    "\n",
    "\n",
    "    plt.figure(figsize=(4, 3))\n",
    "    sns.heatmap(cm_df, annot=True, fmt='d', cmap=light_blues, cbar=False, linewidths=.8, linecolor='black', annot_kws={\"color\": \"black\"})\n",
    "    plt.title(f'Confusion Matrix: {name}')\n",
    "    plt.ylabel('Actual')\n",
    "    plt.xlabel('Predicted')\n",
    "    plt.tight_layout()\n",
    "    plt.show()\n",
    "    \n",
    "    print('=====================')\n",
    "\n",
    "print(\"Summary of Cohen's Kappa scores:\")\n",
    "for name, score in kappa_scores.items():\n",
    "    if score < 0.20:\n",
    "        print(f'{name} has Poor agreement with a Kappa value of {score}') \n",
    "    elif 0.20 <= score < 0.40:\n",
    "        print(f'{name} has Fair agreement with a Kappa value of {score}') \n",
    "    elif 0.40 <= score < 0.60:\n",
    "        print(f'{name} has Good agreement with a Kappa value of {score}')\n",
    "    else:\n",
    "        print(f'{name} has Very good agreement with a Kappa value of {score}') \n",
    "\n",
    "\n",
    "print('=====================')\n",
    "\n",
    "\n",
    "print(\"Summary of ROC AUC scores:\")\n",
    "for name, score in log_loss_scores.items():\n",
    "    if score > 1.0:\n",
    "        print(f'{name} has a Poor ROC AUC score of {score:.4f} (high loss)')\n",
    "    elif 0.75 < score <= 1.0:\n",
    "        print(f'{name} has a Fair ROC AUC score of {score:.4f}')\n",
    "    elif 0.5 < score <= 0.75:\n",
    "        print(f'{name} has a Good ROC AUC score of {score:.4f}')\n",
    "    elif 0.25 < score <= 0.5:\n",
    "        print(f'{name} has a Very Good ROC AUC score of {score:.4f}')\n",
    "    else:\n",
    "        print(f'{name} has an Excellent ROC AUC score of {score:.4f} (low loss)')\n",
    "\n",
    "\n",
    "print('=====================')\n",
    "\n",
    "\n",
    "print(\"Summary of Log Loss scores:\")\n",
    "for name, score in roc_auc_scores.items():\n",
    "    if score < 0.60:\n",
    "        print(f'{name} has a Poor Log Loss score of {score:.4f}')\n",
    "    elif 0.60 <= score < 0.70:\n",
    "        print(f'{name} has a Fair Log Loss score of {score:.4f}')\n",
    "    elif 0.70 <= score < 0.80:\n",
    "        print(f'{name} has a Good Log Loss score of {score:.4f}')\n",
    "    elif 0.80 <= score < 0.90:\n",
    "        print(f'{name} has a Very Good Log Loss score of {score:.4f}')\n",
    "    else:\n",
    "        print(f'{name} has an Excellent Log Loss score of {score:.4f}')\n",
    "        \n",
    "print('=====================')\n",
    "\n",
    "\n",
    "print(\"Final Thoughts:\")\n",
    "for name in models.keys():\n",
    "    scoreroc = roc_auc_scores.get(name)\n",
    "    scorekap = kappa_scores.get(name)\n",
    "    scorelog = log_loss_scores.get(name)\n",
    "\n",
    "    if scoreroc is not None and scorekap is not None and scorelog is not None:\n",
    "        if scoreroc >= 0.80 and scorekap >= 0.60 and scorelog <= 0.5:\n",
    "            print(f\"{name} is an excellent choice.\")\n",
    "        elif scoreroc >= 0.70 and scorekap >= 0.40 and scorelog <= 0.75:\n",
    "            print(f\"{name} is a good choice.\")\n",
    "        else:\n",
    "            print(f\"{name} might not be reliable enough.\")\n",
    "    else:\n",
    "        print(f\"{name} is missing score data.\")\n",
    "\n",
    "    "
   ]
  },
  {
   "cell_type": "markdown",
   "metadata": {},
   "source": [
    "# CV"
   ]
  },
  {
   "cell_type": "code",
   "execution_count": 20,
   "metadata": {},
   "outputs": [
    {
     "name": "stdout",
     "output_type": "stream",
     "text": [
      "RF CV Accuracy Scores: [0.76923077 0.78137652 0.80081301 0.71544715 0.79268293]\n",
      "RF CV Accuracy Mean:  0.7719\n"
     ]
    }
   ],
   "source": [
    "RF = RandomForestClassifier(random_state=42)\n",
    "cv = StratifiedKFold(n_splits=5, shuffle=True, random_state=42)\n",
    "scores = cross_val_score(RF, x_train, y_train, cv=cv, scoring='accuracy')\n",
    "mean_score = scores.mean()\n",
    "print(f\"RF CV Accuracy Scores: {scores}\")\n",
    "print(f\"RF CV Accuracy Mean: {mean_score: .4f}\")"
   ]
  },
  {
   "cell_type": "markdown",
   "metadata": {},
   "source": [
    "# Hyperparameter w/ CV Included"
   ]
  },
  {
   "cell_type": "code",
   "execution_count": 21,
   "metadata": {},
   "outputs": [
    {
     "name": "stdout",
     "output_type": "stream",
     "text": [
      "{'max_features': np.int64(2), 'n_estimators': np.int64(50)}\n",
      "The best parameters are {'max_features': np.int64(2), 'n_estimators': np.int64(50)} with a score of 0.79\n"
     ]
    }
   ],
   "source": [
    "RF = RandomForestClassifier(random_state=42)\n",
    "cv = StratifiedKFold(n_splits=5, shuffle=True, random_state=42)\n",
    "\n",
    "max_features_range = np.arange(1,6,1)\n",
    "n_estimators_range = np.arange(10,210,10)\n",
    "param_grid = dict(max_features=max_features_range, n_estimators=n_estimators_range)\n",
    "\n",
    "rf = RandomForestClassifier()\n",
    "\n",
    "grid = GridSearchCV(estimator=rf, param_grid=param_grid, cv=cv)\n",
    "\n",
    "grid.fit(x_train, y_train)\n",
    "print(grid.best_params_)\n",
    "print(\"The best parameters are %s with a score of %0.2f\" % (grid.best_params_, grid.best_score_))\n"
   ]
  },
  {
   "cell_type": "code",
   "execution_count": 22,
   "metadata": {},
   "outputs": [
    {
     "name": "stdout",
     "output_type": "stream",
     "text": [
      "{'max_features': np.int64(2), 'n_estimators': np.int64(50)}\n"
     ]
    }
   ],
   "source": [
    "print(grid.best_params_)"
   ]
  },
  {
   "cell_type": "code",
   "execution_count": 23,
   "metadata": {},
   "outputs": [
    {
     "name": "stdout",
     "output_type": "stream",
     "text": [
      "NumPy version: 2.2.6\n",
      "scikit-learn version: 1.7.1\n",
      "Python version: 3.10.18 | packaged by conda-forge | (main, Jun  4 2025, 14:46:00) [Clang 18.1.8 ]\n"
     ]
    }
   ],
   "source": [
    "import numpy as np\n",
    "import sklearn\n",
    "import sys\n",
    "\n",
    "print(\"NumPy version:\", np.__version__)\n",
    "print(\"scikit-learn version:\", sklearn.__version__)\n",
    "print(\"Python version:\", sys.version)\n"
   ]
  }
 ],
 "metadata": {
  "kernelspec": {
   "display_name": "MarcosPython10",
   "language": "python",
   "name": "python3"
  },
  "language_info": {
   "codemirror_mode": {
    "name": "ipython",
    "version": 3
   },
   "file_extension": ".py",
   "mimetype": "text/x-python",
   "name": "python",
   "nbconvert_exporter": "python",
   "pygments_lexer": "ipython3",
   "version": "3.10.18"
  }
 },
 "nbformat": 4,
 "nbformat_minor": 2
}
